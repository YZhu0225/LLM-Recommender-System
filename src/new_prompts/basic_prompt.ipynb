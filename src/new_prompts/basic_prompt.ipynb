{
 "cells": [
  {
   "cell_type": "code",
   "execution_count": 15,
   "metadata": {},
   "outputs": [],
   "source": [
    "import pandas as pd\n",
    "from sklearn.metrics.pairwise import cosine_similarity\n",
    "import numpy as np\n",
    "from openai import OpenAI\n",
    "from key import OPENAI_API_KEY\n",
    "client = OpenAI(api_key=OPENAI_API_KEY)"
   ]
  },
  {
   "cell_type": "code",
   "execution_count": 16,
   "metadata": {},
   "outputs": [
    {
     "data": {
      "text/html": [
       "<div>\n",
       "<style scoped>\n",
       "    .dataframe tbody tr th:only-of-type {\n",
       "        vertical-align: middle;\n",
       "    }\n",
       "\n",
       "    .dataframe tbody tr th {\n",
       "        vertical-align: top;\n",
       "    }\n",
       "\n",
       "    .dataframe thead th {\n",
       "        text-align: right;\n",
       "    }\n",
       "</style>\n",
       "<table border=\"1\" class=\"dataframe\">\n",
       "  <thead>\n",
       "    <tr style=\"text-align: right;\">\n",
       "      <th></th>\n",
       "      <th>userId</th>\n",
       "      <th>movieId</th>\n",
       "      <th>title</th>\n",
       "      <th>genres</th>\n",
       "      <th>rating</th>\n",
       "      <th>timestamp</th>\n",
       "      <th>tag</th>\n",
       "    </tr>\n",
       "  </thead>\n",
       "  <tbody>\n",
       "    <tr>\n",
       "      <th>0</th>\n",
       "      <td>1</td>\n",
       "      <td>1</td>\n",
       "      <td>Toy Story (1995)</td>\n",
       "      <td>Adventure, Animation, Children, Comedy, Fantasy</td>\n",
       "      <td>4.0</td>\n",
       "      <td>964982703</td>\n",
       "      <td>NaN</td>\n",
       "    </tr>\n",
       "    <tr>\n",
       "      <th>1</th>\n",
       "      <td>1</td>\n",
       "      <td>3</td>\n",
       "      <td>Grumpier Old Men (1995)</td>\n",
       "      <td>Comedy, Romance</td>\n",
       "      <td>4.0</td>\n",
       "      <td>964981247</td>\n",
       "      <td>NaN</td>\n",
       "    </tr>\n",
       "    <tr>\n",
       "      <th>2</th>\n",
       "      <td>1</td>\n",
       "      <td>6</td>\n",
       "      <td>Heat (1995)</td>\n",
       "      <td>Action, Crime, Thriller</td>\n",
       "      <td>4.0</td>\n",
       "      <td>964982224</td>\n",
       "      <td>NaN</td>\n",
       "    </tr>\n",
       "    <tr>\n",
       "      <th>3</th>\n",
       "      <td>1</td>\n",
       "      <td>47</td>\n",
       "      <td>Seven (a.k.a. Se7en) (1995)</td>\n",
       "      <td>Mystery, Thriller</td>\n",
       "      <td>5.0</td>\n",
       "      <td>964983815</td>\n",
       "      <td>NaN</td>\n",
       "    </tr>\n",
       "    <tr>\n",
       "      <th>4</th>\n",
       "      <td>1</td>\n",
       "      <td>50</td>\n",
       "      <td>Usual Suspects, The (1995)</td>\n",
       "      <td>Crime, Mystery, Thriller</td>\n",
       "      <td>5.0</td>\n",
       "      <td>964982931</td>\n",
       "      <td>NaN</td>\n",
       "    </tr>\n",
       "  </tbody>\n",
       "</table>\n",
       "</div>"
      ],
      "text/plain": [
       "   userId  movieId                        title  \\\n",
       "0       1        1             Toy Story (1995)   \n",
       "1       1        3      Grumpier Old Men (1995)   \n",
       "2       1        6                  Heat (1995)   \n",
       "3       1       47  Seven (a.k.a. Se7en) (1995)   \n",
       "4       1       50   Usual Suspects, The (1995)   \n",
       "\n",
       "                                            genres  rating  timestamp  tag  \n",
       "0  Adventure, Animation, Children, Comedy, Fantasy     4.0  964982703  NaN  \n",
       "1                                  Comedy, Romance     4.0  964981247  NaN  \n",
       "2                          Action, Crime, Thriller     4.0  964982224  NaN  \n",
       "3                                Mystery, Thriller     5.0  964983815  NaN  \n",
       "4                         Crime, Mystery, Thriller     5.0  964982931  NaN  "
      ]
     },
     "execution_count": 16,
     "metadata": {},
     "output_type": "execute_result"
    }
   ],
   "source": [
    "movie_latest_small=pd.read_csv('../../data/processed_movie_latest_small.csv')\n",
    "movie_latest_small.head()"
   ]
  },
  {
   "cell_type": "code",
   "execution_count": 17,
   "metadata": {},
   "outputs": [
    {
     "data": {
      "text/html": [
       "<div>\n",
       "<style scoped>\n",
       "    .dataframe tbody tr th:only-of-type {\n",
       "        vertical-align: middle;\n",
       "    }\n",
       "\n",
       "    .dataframe tbody tr th {\n",
       "        vertical-align: top;\n",
       "    }\n",
       "\n",
       "    .dataframe thead th {\n",
       "        text-align: right;\n",
       "    }\n",
       "</style>\n",
       "<table border=\"1\" class=\"dataframe\">\n",
       "  <thead>\n",
       "    <tr style=\"text-align: right;\">\n",
       "      <th></th>\n",
       "      <th>userId</th>\n",
       "      <th>movieId</th>\n",
       "      <th>title</th>\n",
       "      <th>genres</th>\n",
       "      <th>rating</th>\n",
       "      <th>timestamp</th>\n",
       "      <th>tag</th>\n",
       "    </tr>\n",
       "  </thead>\n",
       "  <tbody>\n",
       "    <tr>\n",
       "      <th>0</th>\n",
       "      <td>1</td>\n",
       "      <td>553</td>\n",
       "      <td>Tombstone (1993)</td>\n",
       "      <td>Action, Drama, Western</td>\n",
       "      <td>5.0</td>\n",
       "      <td>964984153</td>\n",
       "      <td>NaN</td>\n",
       "    </tr>\n",
       "    <tr>\n",
       "      <th>1</th>\n",
       "      <td>1</td>\n",
       "      <td>157</td>\n",
       "      <td>Canadian Bacon (1995)</td>\n",
       "      <td>Comedy, War</td>\n",
       "      <td>5.0</td>\n",
       "      <td>964984100</td>\n",
       "      <td>NaN</td>\n",
       "    </tr>\n",
       "    <tr>\n",
       "      <th>2</th>\n",
       "      <td>1</td>\n",
       "      <td>1298</td>\n",
       "      <td>Pink Floyd: The Wall (1982)</td>\n",
       "      <td>Drama, Musical</td>\n",
       "      <td>5.0</td>\n",
       "      <td>964984086</td>\n",
       "      <td>NaN</td>\n",
       "    </tr>\n",
       "    <tr>\n",
       "      <th>3</th>\n",
       "      <td>1</td>\n",
       "      <td>3053</td>\n",
       "      <td>Messenger: The Story of Joan of Arc, The (1999)</td>\n",
       "      <td>Drama, War</td>\n",
       "      <td>5.0</td>\n",
       "      <td>964984086</td>\n",
       "      <td>NaN</td>\n",
       "    </tr>\n",
       "    <tr>\n",
       "      <th>4</th>\n",
       "      <td>1</td>\n",
       "      <td>3448</td>\n",
       "      <td>Good Morning, Vietnam (1987)</td>\n",
       "      <td>Comedy, Drama, War</td>\n",
       "      <td>5.0</td>\n",
       "      <td>964984054</td>\n",
       "      <td>NaN</td>\n",
       "    </tr>\n",
       "    <tr>\n",
       "      <th>5</th>\n",
       "      <td>1</td>\n",
       "      <td>151</td>\n",
       "      <td>Rob Roy (1995)</td>\n",
       "      <td>Action, Drama, Romance, War</td>\n",
       "      <td>5.0</td>\n",
       "      <td>964984041</td>\n",
       "      <td>NaN</td>\n",
       "    </tr>\n",
       "    <tr>\n",
       "      <th>6</th>\n",
       "      <td>1</td>\n",
       "      <td>1224</td>\n",
       "      <td>Henry V (1989)</td>\n",
       "      <td>Action, Drama, Romance, War</td>\n",
       "      <td>5.0</td>\n",
       "      <td>964984018</td>\n",
       "      <td>NaN</td>\n",
       "    </tr>\n",
       "    <tr>\n",
       "      <th>7</th>\n",
       "      <td>1</td>\n",
       "      <td>527</td>\n",
       "      <td>Schindler's List (1993)</td>\n",
       "      <td>Drama, War</td>\n",
       "      <td>5.0</td>\n",
       "      <td>964984002</td>\n",
       "      <td>NaN</td>\n",
       "    </tr>\n",
       "    <tr>\n",
       "      <th>8</th>\n",
       "      <td>1</td>\n",
       "      <td>5060</td>\n",
       "      <td>M*A*S*H (a.k.a. MASH) (1970)</td>\n",
       "      <td>Comedy, Drama, War</td>\n",
       "      <td>5.0</td>\n",
       "      <td>964984002</td>\n",
       "      <td>NaN</td>\n",
       "    </tr>\n",
       "    <tr>\n",
       "      <th>9</th>\n",
       "      <td>1</td>\n",
       "      <td>3147</td>\n",
       "      <td>Green Mile, The (1999)</td>\n",
       "      <td>Crime, Drama</td>\n",
       "      <td>5.0</td>\n",
       "      <td>964983873</td>\n",
       "      <td>NaN</td>\n",
       "    </tr>\n",
       "    <tr>\n",
       "      <th>10</th>\n",
       "      <td>2</td>\n",
       "      <td>122882</td>\n",
       "      <td>Mad Max: Fury Road (2015)</td>\n",
       "      <td>Action, Adventure, Sci-Fi, Thriller</td>\n",
       "      <td>5.0</td>\n",
       "      <td>1445715272</td>\n",
       "      <td>NaN</td>\n",
       "    </tr>\n",
       "    <tr>\n",
       "      <th>11</th>\n",
       "      <td>2</td>\n",
       "      <td>89774</td>\n",
       "      <td>Warrior (2011)</td>\n",
       "      <td>Drama</td>\n",
       "      <td>5.0</td>\n",
       "      <td>1445715189</td>\n",
       "      <td>Boxing story, MMA, Tom Hardy</td>\n",
       "    </tr>\n",
       "    <tr>\n",
       "      <th>12</th>\n",
       "      <td>2</td>\n",
       "      <td>80906</td>\n",
       "      <td>Inside Job (2010)</td>\n",
       "      <td>Documentary</td>\n",
       "      <td>5.0</td>\n",
       "      <td>1445715172</td>\n",
       "      <td>NaN</td>\n",
       "    </tr>\n",
       "    <tr>\n",
       "      <th>13</th>\n",
       "      <td>2</td>\n",
       "      <td>60756</td>\n",
       "      <td>Step Brothers (2008)</td>\n",
       "      <td>Comedy</td>\n",
       "      <td>5.0</td>\n",
       "      <td>1445714980</td>\n",
       "      <td>funny, Highly quotable, will ferrell</td>\n",
       "    </tr>\n",
       "    <tr>\n",
       "      <th>14</th>\n",
       "      <td>2</td>\n",
       "      <td>106782</td>\n",
       "      <td>Wolf of Wall Street, The (2013)</td>\n",
       "      <td>Comedy, Crime, Drama</td>\n",
       "      <td>5.0</td>\n",
       "      <td>1445714966</td>\n",
       "      <td>drugs, Leonardo DiCaprio, Martin Scorsese</td>\n",
       "    </tr>\n",
       "  </tbody>\n",
       "</table>\n",
       "</div>"
      ],
      "text/plain": [
       "    userId  movieId                                            title  \\\n",
       "0        1      553                                 Tombstone (1993)   \n",
       "1        1      157                            Canadian Bacon (1995)   \n",
       "2        1     1298                      Pink Floyd: The Wall (1982)   \n",
       "3        1     3053  Messenger: The Story of Joan of Arc, The (1999)   \n",
       "4        1     3448                     Good Morning, Vietnam (1987)   \n",
       "5        1      151                                   Rob Roy (1995)   \n",
       "6        1     1224                                   Henry V (1989)   \n",
       "7        1      527                          Schindler's List (1993)   \n",
       "8        1     5060                     M*A*S*H (a.k.a. MASH) (1970)   \n",
       "9        1     3147                           Green Mile, The (1999)   \n",
       "10       2   122882                        Mad Max: Fury Road (2015)   \n",
       "11       2    89774                                   Warrior (2011)   \n",
       "12       2    80906                                Inside Job (2010)   \n",
       "13       2    60756                             Step Brothers (2008)   \n",
       "14       2   106782                  Wolf of Wall Street, The (2013)   \n",
       "\n",
       "                                 genres  rating   timestamp  \\\n",
       "0                Action, Drama, Western     5.0   964984153   \n",
       "1                           Comedy, War     5.0   964984100   \n",
       "2                        Drama, Musical     5.0   964984086   \n",
       "3                            Drama, War     5.0   964984086   \n",
       "4                    Comedy, Drama, War     5.0   964984054   \n",
       "5           Action, Drama, Romance, War     5.0   964984041   \n",
       "6           Action, Drama, Romance, War     5.0   964984018   \n",
       "7                            Drama, War     5.0   964984002   \n",
       "8                    Comedy, Drama, War     5.0   964984002   \n",
       "9                          Crime, Drama     5.0   964983873   \n",
       "10  Action, Adventure, Sci-Fi, Thriller     5.0  1445715272   \n",
       "11                                Drama     5.0  1445715189   \n",
       "12                          Documentary     5.0  1445715172   \n",
       "13                               Comedy     5.0  1445714980   \n",
       "14                 Comedy, Crime, Drama     5.0  1445714966   \n",
       "\n",
       "                                          tag  \n",
       "0                                         NaN  \n",
       "1                                         NaN  \n",
       "2                                         NaN  \n",
       "3                                         NaN  \n",
       "4                                         NaN  \n",
       "5                                         NaN  \n",
       "6                                         NaN  \n",
       "7                                         NaN  \n",
       "8                                         NaN  \n",
       "9                                         NaN  \n",
       "10                                        NaN  \n",
       "11               Boxing story, MMA, Tom Hardy  \n",
       "12                                        NaN  \n",
       "13       funny, Highly quotable, will ferrell  \n",
       "14  drugs, Leonardo DiCaprio, Martin Scorsese  "
      ]
     },
     "execution_count": 17,
     "metadata": {},
     "output_type": "execute_result"
    }
   ],
   "source": [
    "# for each user, find his top-most rated movies\n",
    "N_TOP_MOVIES = 10\n",
    "def get_top_recent_movies(movies_df, user_id, num_movies=N_TOP_MOVIES):\n",
    "    user_ratings = movies_df[movies_df['userId'] == user_id]\n",
    "    user_ratings = user_ratings.sort_values(by=['rating', 'timestamp'], ascending=[False, False])\n",
    "    return user_ratings.head(num_movies)\n",
    "\n",
    "# get the top 5 movies for all users\n",
    "top_movies = pd.DataFrame()\n",
    "for user_id in movie_latest_small['userId'].unique():\n",
    "    top_movies = pd.concat([top_movies, get_top_recent_movies(movie_latest_small, user_id, 10)])\n",
    "top_movies.reset_index(drop=True, inplace=True)\n",
    "top_movies.head(15)"
   ]
  },
  {
   "cell_type": "code",
   "execution_count": 18,
   "metadata": {},
   "outputs": [],
   "source": [
    "import re\n",
    "\n",
    "def extract_movie_titles(response):\n",
    "    # Extract lines that match the format [Title (Year)]\n",
    "    pattern = r\"\\[.*\\]\"\n",
    "    titles = re.findall(pattern, response)\n",
    "    return [title.strip(\"[]\") for title in titles]"
   ]
  },
  {
   "cell_type": "markdown",
   "metadata": {},
   "source": [
    "## Basic prompt"
   ]
  },
  {
   "cell_type": "code",
   "execution_count": 5,
   "metadata": {},
   "outputs": [],
   "source": [
    "prompt_1 = '''\n",
    "I am user {user_id}. My most recent {num} top-rated movies are {top_movies}, which I rated {rates} out of 5 respectively. Please recommend 10 movies similar to these that I haven't watched yet. \n",
    "Format your response as a list of movie titles, using brackets around the titles and separating each title with a new line for easy parsing. \n",
    "Example format:\n",
    "Here are the 10 movies recommended for you: \n",
    "[Midnight Cowboy (1969)]\n",
    "[Lost in Translation (2003)]\n",
    "[etc.]\n",
    "Answer:\n",
    "'''"
   ]
  },
  {
   "cell_type": "code",
   "execution_count": 6,
   "metadata": {},
   "outputs": [
    {
     "data": {
      "text/plain": [
       "[\"\\nI am user 1. My most recent 10 top-rated movies are Tombstone (1993), Canadian Bacon (1995), Pink Floyd: The Wall (1982), Messenger: The Story of Joan of Arc, The (1999), Good Morning, Vietnam (1987), Rob Roy (1995), Henry V (1989), Schindler's List (1993), M*A*S*H (a.k.a. MASH) (1970), Green Mile, The (1999), which I rated 5.0, 5.0, 5.0, 5.0, 5.0, 5.0, 5.0, 5.0, 5.0, 5.0 out of 5 respectively. Please recommend 10 movies similar to these that I haven't watched yet. \\nFormat your response as a list of movie titles, using brackets around the titles and separating each title with a new line for easy parsing. \\nExample format:\\nHere are the 10 movies recommended for you: \\n[Midnight Cowboy (1969)]\\n[Lost in Translation (2003)]\\n[etc.]\\nAnswer:\\n\",\n",
       " \"\\nI am user 2. My most recent 10 top-rated movies are Mad Max: Fury Road (2015), Warrior (2011), Inside Job (2010), Step Brothers (2008), Wolf of Wall Street, The (2013), The Jinx: The Life and Deaths of Robert Durst (2015), Town, The (2010), Good Will Hunting (1997), Inglourious Basterds (2009), Dark Knight, The (2008), which I rated 5.0, 5.0, 5.0, 5.0, 5.0, 5.0, 4.5, 4.5, 4.5, 4.5 out of 5 respectively. Please recommend 10 movies similar to these that I haven't watched yet. \\nFormat your response as a list of movie titles, using brackets around the titles and separating each title with a new line for easy parsing. \\nExample format:\\nHere are the 10 movies recommended for you: \\n[Midnight Cowboy (1969)]\\n[Lost in Translation (2003)]\\n[etc.]\\nAnswer:\\n\"]"
      ]
     },
     "execution_count": 6,
     "metadata": {},
     "output_type": "execute_result"
    }
   ],
   "source": [
    "prompts_1 = []\n",
    "for user_id in top_movies['userId'].unique():\n",
    "    user_movies = top_movies[top_movies['userId']==user_id]\n",
    "    movie_titles_ = user_movies['title'].values\n",
    "    rates_ = user_movies['rating'].values\n",
    "    movie_titles = ', '.join(movie_titles_)\n",
    "    rates = ', '.join([str(rate) for rate in rates_])\n",
    "    prompt = prompt_1.format(user_id=user_id, num=N_TOP_MOVIES, top_movies=movie_titles, rates=rates)\n",
    "    prompts_1.append(prompt)\n",
    "prompts_1[:2]"
   ]
  },
  {
   "cell_type": "code",
   "execution_count": 7,
   "metadata": {},
   "outputs": [],
   "source": [
    "\"\"\" Number of users to run the recommender on\n",
    "    (Use a small sample for faster results)\n",
    "    If you want to run the recommender on all users, uncomment the last line\n",
    "\"\"\"\n",
    "num_users = 5\n",
    "\n",
    "# Uncomment below to run on all users\n",
    "# num_users = len(prompts_1)"
   ]
  },
  {
   "cell_type": "code",
   "execution_count": 8,
   "metadata": {},
   "outputs": [],
   "source": [
    "def openai_response(prompts, num_users, output_file='responses.json'):\n",
    "\n",
    "    responses = []\n",
    "    for i in range(num_users):\n",
    "        response = client.chat.completions.create(\n",
    "        model=\"gpt-3.5-turbo\",\n",
    "        messages= [{ 'role':'user','content' : prompts[i]}],\n",
    "        temperature=0,\n",
    "        )\n",
    "        responses.append(response)\n",
    "\n",
    "    # parse the responses\n",
    "    responses_recommendations = [extract_movie_titles(response.choices[0].message.content) for response in responses]\n",
    "\n",
    "    # write the responses to a file\n",
    "    with open(output_file, 'w') as f:\n",
    "        for i in range(num_users):\n",
    "            f.write(str(responses_recommendations[i]) + '\\n')\n",
    "        \n",
    "        print(f\"Response written to {output_file}\")\n",
    "    return responses_recommendations\n",
    "\n",
    "# calculate the hit rate\n",
    "# hit rate for the recommendations\n",
    "def hit_rate(recommendation, actual):\n",
    "    hit = 0\n",
    "    for rec in recommendation:\n",
    "        if rec in actual:\n",
    "            hit += 1\n",
    "    return hit/len(recommendation)\n",
    "\n",
    "# NDCG for the recommendations\n",
    "def ndcg(recommendation, actual):\n",
    "    dcg = 0\n",
    "    for i, rec in enumerate(recommendation):\n",
    "        if rec in actual:\n",
    "            dcg += 1/np.log2(i+2)\n",
    "    idcg = 0\n",
    "    for i in range(len(actual)):\n",
    "        idcg += 1/np.log2(i+2)\n",
    "    return dcg/idcg\n",
    "\n",
    "\n",
    "def eval_response(responses_recommendations, selected_movie_data, original_movie_data, num_users):\n",
    "    hit_rates = []\n",
    "    ndcg_scores = []\n",
    "    for i in range(num_users):\n",
    "        user_id = selected_movie_data['userId'].unique()[i]\n",
    "        user_movies = original_movie_data[original_movie_data['userId']==user_id]\n",
    "        user_watched_movies = user_movies['title'].values\n",
    "        # print(f\"User {user_id} watched movies: {user_watched_movies}\")\n",
    "        recommendation = responses_recommendations[i]\n",
    "        # print(f\"Recommendation: {recommendation}\")\n",
    "        hit_rate_ = hit_rate(recommendation, user_watched_movies)\n",
    "        # print(f\"Hit Rate: {hit_rate_}\")\n",
    "        hit_rates.append(hit_rate_)\n",
    "        ndcg_ = ndcg(recommendation, user_watched_movies)\n",
    "        # print(f\"NDCG: {ndcg_}\")\n",
    "        ndcg_scores.append(ndcg_)\n",
    "\n",
    "    avg_hit_rate = np.mean(hit_rates)\n",
    "    avg_ndcg = np.mean(ndcg_scores)\n",
    "\n",
    "    print(f\"Average Hit Rate: {avg_hit_rate}\")\n",
    "    print(f\"Average NDCG: {avg_ndcg}\")\n",
    "\n",
    "    return hit_rates, ndcg_scores\n"
   ]
  },
  {
   "cell_type": "code",
   "execution_count": 9,
   "metadata": {},
   "outputs": [],
   "source": [
    "# read the responses from the json file\n",
    "def read_responses(output_file):\n",
    "    responses_recommendations = []\n",
    "    with open(output_file, 'r') as f:\n",
    "        for line in f:\n",
    "            responses_recommendations.append(eval(line))\n",
    "    return responses_recommendations"
   ]
  },
  {
   "cell_type": "code",
   "execution_count": 10,
   "metadata": {},
   "outputs": [
    {
     "name": "stdout",
     "output_type": "stream",
     "text": [
      "Response written to responses_1.json\n"
     ]
    }
   ],
   "source": [
    "prompt_1_rec = openai_response(prompts_1, num_users, output_file='responses_1.json')"
   ]
  },
  {
   "cell_type": "code",
   "execution_count": 11,
   "metadata": {},
   "outputs": [
    {
     "name": "stdout",
     "output_type": "stream",
     "text": [
      "Average Hit Rate: 0.22000000000000003\n",
      "Average NDCG: 0.06759053223205369\n"
     ]
    }
   ],
   "source": [
    "hit_rates_1, ndcg_scores_1 = eval_response(prompt_1_rec, top_movies, movie_latest_small, num_users)"
   ]
  },
  {
   "cell_type": "code",
   "execution_count": null,
   "metadata": {},
   "outputs": [],
   "source": []
  },
  {
   "cell_type": "markdown",
   "metadata": {},
   "source": [
    "## Basic prompt + Genre"
   ]
  },
  {
   "cell_type": "code",
   "execution_count": 26,
   "metadata": {},
   "outputs": [],
   "source": [
    "def generate_step1_prompt(df, user_id):\n",
    "    df_user = df[df['userId'] == user_id]\n",
    "    candidate_movies = df_user['candidate_movies'].values[0]\n",
    "    top_movies = df_user['user_top_movies'].values[0]\n",
    "    genres = df_user['user_top_movie_genres'].values[0]\n",
    "    \n",
    "    prompt_template = '''\n",
    "Candidate movies: {candidate_movies}\n",
    "Top-rated movies: {top_movies}\n",
    "Genres: {genres}\n",
    "Step 1: What are my key preferences when selecting movies?\n",
    "Answer:\n",
    "    '''\n",
    "\n",
    "    prompt = prompt_template.format(candidate_movies=candidate_movies, top_movies=top_movies, genres=genres)\n",
    "    return prompt\n",
    "\n",
    "def generate_step2_prompt(df, user_id, response1):\n",
    "    df_user = df[df['userId'] == user_id]\n",
    "    candidate_movies = df_user['candidate_movies'].values[0]\n",
    "    top_movies = df_user['user_top_movies'].values[0]\n",
    "    genres = df_user['user_top_movie_genres'].values[0]\n",
    "\n",
    "    prompt_template = '''\n",
    "Candidate movies: {candidate_movies}\n",
    "Top-rated movies: {top_movies}\n",
    "Genres: {genres}\n",
    "Step 1: What are my key preferences when selecting movies?\n",
    "Answer: {response1}\n",
    "Step 2: Recommend 10 movies from the candidate set that I haven't watched, similar to my preferences.\n",
    "Format the response with each movie title in brackets and separated by a new line.\n",
    "Example:\n",
    "Here are 10 movies recommended for you:\n",
    "[Midnight Cowboy (1969)]\n",
    "[Lost in Translation (2003)]\n",
    "[etc.]\n",
    "Answer:\n",
    "    '''\n",
    "\n",
    "    prompt = prompt_template.format(candidate_movies=candidate_movies, top_movies=top_movies, genres=genres, response1=response1)\n",
    "    return prompt"
   ]
  },
  {
   "cell_type": "code",
   "execution_count": 30,
   "metadata": {},
   "outputs": [
    {
     "data": {
      "text/plain": [
       "[\"\\nI am user 1. My most recent 10 top-rated movies are listed below along with their genres and ratings:\\nMovie 1: Tombstone (1993), Genre: Action, Drama, Western, Rating: 5.0\\nMovie 2: Canadian Bacon (1995), Genre: Comedy, War, Rating: 5.0\\nMovie 3: Pink Floyd: The Wall (1982), Genre: Drama, Musical, Rating: 5.0\\nMovie 4: Messenger: The Story of Joan of Arc, The (1999), Genre: Drama, War, Rating: 5.0\\nMovie 5: Good Morning, Vietnam (1987), Genre: Comedy, Drama, War, Rating: 5.0\\nMovie 6: Rob Roy (1995), Genre: Action, Drama, Romance, War, Rating: 5.0\\nMovie 7: Henry V (1989), Genre: Action, Drama, Romance, War, Rating: 5.0\\nMovie 8: Schindler's List (1993), Genre: Drama, War, Rating: 5.0\\nMovie 9: M*A*S*H (a.k.a. MASH) (1970), Genre: Comedy, Drama, War, Rating: 5.0\\nMovie 10: Green Mile, The (1999), Genre: Crime, Drama, Rating: 5.0\\nPlease recommend 10 movies similar to these that I haven't watched yet. Format your response as a list of movie titles, using brackets around the titles and separating each title with a new line for easy parsing.\\nExample format:\\nHere are the 10 movies recommended for you: \\n[Midnight Cowboy (1969)]\\n[Lost in Translation (2003)]\\n[etc.]\\n\\nAnswer:\\n    \",\n",
       " \"\\nI am user 2. My most recent 10 top-rated movies are listed below along with their genres and ratings:\\nMovie 11: Mad Max: Fury Road (2015), Genre: Action, Adventure, Sci-Fi, Thriller, Rating: 5.0\\nMovie 12: Warrior (2011), Genre: Drama, Rating: 5.0\\nMovie 13: Inside Job (2010), Genre: Documentary, Rating: 5.0\\nMovie 14: Step Brothers (2008), Genre: Comedy, Rating: 5.0\\nMovie 15: Wolf of Wall Street, The (2013), Genre: Comedy, Crime, Drama, Rating: 5.0\\nMovie 16: The Jinx: The Life and Deaths of Robert Durst (2015), Genre: Documentary, Rating: 5.0\\nMovie 17: Town, The (2010), Genre: Crime, Drama, Thriller, Rating: 4.5\\nMovie 18: Good Will Hunting (1997), Genre: Drama, Romance, Rating: 4.5\\nMovie 19: Inglourious Basterds (2009), Genre: Action, Drama, War, Rating: 4.5\\nMovie 20: Dark Knight, The (2008), Genre: Action, Crime, Drama, IMAX, Rating: 4.5\\nPlease recommend 10 movies similar to these that I haven't watched yet. Format your response as a list of movie titles, using brackets around the titles and separating each title with a new line for easy parsing.\\nExample format:\\nHere are the 10 movies recommended for you: \\n[Midnight Cowboy (1969)]\\n[Lost in Translation (2003)]\\n[etc.]\\n\\nAnswer:\\n    \"]"
      ]
     },
     "execution_count": 30,
     "metadata": {},
     "output_type": "execute_result"
    }
   ],
   "source": [
    "prompts_genre = []\n",
    "for user_id in top_movies['userId'].unique():\n",
    "    prompt_genre = generate_prompt_from_df(top_movies, user_id, N_TOP_MOVIES)\n",
    "    prompts_genre.append(prompt_genre)\n",
    "\n",
    "prompts_genre[:2]"
   ]
  },
  {
   "cell_type": "code",
   "execution_count": 31,
   "metadata": {},
   "outputs": [
    {
     "name": "stdout",
     "output_type": "stream",
     "text": [
      "Response written to responses_genre.json\n",
      "Average Hit Rate: 0.15999999999999998\n",
      "Average NDCG: 0.03536507110322333\n"
     ]
    }
   ],
   "source": [
    "prompt_2_rec = openai_response(prompts_genre, num_users, output_file='responses_genre.json')\n",
    "\n",
    "hit_rates_2, ndcg_scores_2 = eval_response(prompt_2_rec, top_movies, movie_latest_small, num_users)"
   ]
  },
  {
   "cell_type": "markdown",
   "metadata": {},
   "source": []
  },
  {
   "cell_type": "markdown",
   "metadata": {},
   "source": [
    "## Basic prompt + Genre + wiki"
   ]
  },
  {
   "cell_type": "code",
   "execution_count": 35,
   "metadata": {},
   "outputs": [
    {
     "data": {
      "text/plain": [
       "(1529, 2)"
      ]
     },
     "execution_count": 35,
     "metadata": {},
     "output_type": "execute_result"
    }
   ],
   "source": [
    "wiki_movie = pd.read_csv('/workspaces/LLM-Recommender-System/data/movie_wiki.csv')\n",
    "wiki_movie.shape"
   ]
  },
  {
   "cell_type": "code",
   "execution_count": 39,
   "metadata": {},
   "outputs": [
    {
     "data": {
      "text/plain": [
       "0.08491803278688524"
      ]
     },
     "execution_count": 39,
     "metadata": {},
     "output_type": "execute_result"
    }
   ],
   "source": [
    "# merge with top_movies \n",
    "top_movies_wiki = pd.merge(top_movies, wiki_movie, left_on='title', right_on='movie_title', how='left')\n",
    "#print percentage of unique wiki summaries\n",
    "top_movies_wiki.wiki_summary.nunique()/top_movies_wiki.shape[0]"
   ]
  },
  {
   "cell_type": "code",
   "execution_count": null,
   "metadata": {},
   "outputs": [],
   "source": []
  },
  {
   "cell_type": "code",
   "execution_count": null,
   "metadata": {},
   "outputs": [],
   "source": []
  },
  {
   "cell_type": "code",
   "execution_count": null,
   "metadata": {},
   "outputs": [],
   "source": []
  },
  {
   "cell_type": "markdown",
   "metadata": {},
   "source": []
  },
  {
   "cell_type": "markdown",
   "metadata": {},
   "source": [
    "## Add similar user"
   ]
  },
  {
   "cell_type": "code",
   "execution_count": null,
   "metadata": {},
   "outputs": [],
   "source": []
  },
  {
   "cell_type": "code",
   "execution_count": null,
   "metadata": {},
   "outputs": [],
   "source": []
  },
  {
   "cell_type": "markdown",
   "metadata": {},
   "source": []
  },
  {
   "cell_type": "markdown",
   "metadata": {},
   "source": [
    "## 2-step"
   ]
  },
  {
   "cell_type": "markdown",
   "metadata": {},
   "source": []
  },
  {
   "cell_type": "markdown",
   "metadata": {},
   "source": [
    "## Add role"
   ]
  },
  {
   "cell_type": "markdown",
   "metadata": {},
   "source": []
  }
 ],
 "metadata": {
  "kernelspec": {
   "display_name": "Python 3",
   "language": "python",
   "name": "python3"
  },
  "language_info": {
   "codemirror_mode": {
    "name": "ipython",
    "version": 3
   },
   "file_extension": ".py",
   "mimetype": "text/x-python",
   "name": "python",
   "nbconvert_exporter": "python",
   "pygments_lexer": "ipython3",
   "version": "3.10.13"
  }
 },
 "nbformat": 4,
 "nbformat_minor": 2
}
