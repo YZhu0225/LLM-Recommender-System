{
 "cells": [
  {
   "cell_type": "code",
   "execution_count": 1,
   "metadata": {},
   "outputs": [],
   "source": [
    "import pandas as pd"
   ]
  },
  {
   "cell_type": "code",
   "execution_count": 2,
   "metadata": {},
   "outputs": [],
   "source": [
    "train = pd.read_csv('../data/train.csv')"
   ]
  },
  {
   "cell_type": "code",
   "execution_count": 3,
   "metadata": {},
   "outputs": [
    {
     "data": {
      "text/html": [
       "<div>\n",
       "<style scoped>\n",
       "    .dataframe tbody tr th:only-of-type {\n",
       "        vertical-align: middle;\n",
       "    }\n",
       "\n",
       "    .dataframe tbody tr th {\n",
       "        vertical-align: top;\n",
       "    }\n",
       "\n",
       "    .dataframe thead th {\n",
       "        text-align: right;\n",
       "    }\n",
       "</style>\n",
       "<table border=\"1\" class=\"dataframe\">\n",
       "  <thead>\n",
       "    <tr style=\"text-align: right;\">\n",
       "      <th></th>\n",
       "      <th>user_id</th>\n",
       "      <th>movie_id</th>\n",
       "      <th>rating</th>\n",
       "      <th>timestamp</th>\n",
       "      <th>movie_title</th>\n",
       "      <th>genres</th>\n",
       "      <th>avg_rating</th>\n",
       "    </tr>\n",
       "  </thead>\n",
       "  <tbody>\n",
       "    <tr>\n",
       "      <th>0</th>\n",
       "      <td>259</td>\n",
       "      <td>255</td>\n",
       "      <td>4</td>\n",
       "      <td>874724710</td>\n",
       "      <td>My Best Friend's Wedding (1997)</td>\n",
       "      <td>Romance</td>\n",
       "      <td>4.0</td>\n",
       "    </tr>\n",
       "    <tr>\n",
       "      <th>1</th>\n",
       "      <td>259</td>\n",
       "      <td>286</td>\n",
       "      <td>4</td>\n",
       "      <td>874724727</td>\n",
       "      <td>English Patient, The (1996)</td>\n",
       "      <td>Romance, War</td>\n",
       "      <td>4.0</td>\n",
       "    </tr>\n",
       "    <tr>\n",
       "      <th>2</th>\n",
       "      <td>259</td>\n",
       "      <td>298</td>\n",
       "      <td>4</td>\n",
       "      <td>874724754</td>\n",
       "      <td>Face/Off (1997)</td>\n",
       "      <td>Action, Sci-Fi, Thriller</td>\n",
       "      <td>4.0</td>\n",
       "    </tr>\n",
       "    <tr>\n",
       "      <th>3</th>\n",
       "      <td>259</td>\n",
       "      <td>185</td>\n",
       "      <td>4</td>\n",
       "      <td>874724781</td>\n",
       "      <td>Psycho (1960)</td>\n",
       "      <td>Horror, Romance, Thriller</td>\n",
       "      <td>4.0</td>\n",
       "    </tr>\n",
       "    <tr>\n",
       "      <th>4</th>\n",
       "      <td>259</td>\n",
       "      <td>173</td>\n",
       "      <td>4</td>\n",
       "      <td>874724843</td>\n",
       "      <td>Princess Bride, The (1987)</td>\n",
       "      <td>Action, Adventure, Romance</td>\n",
       "      <td>4.0</td>\n",
       "    </tr>\n",
       "  </tbody>\n",
       "</table>\n",
       "</div>"
      ],
      "text/plain": [
       "   user_id  movie_id  rating  timestamp                      movie_title  \\\n",
       "0      259       255       4  874724710  My Best Friend's Wedding (1997)   \n",
       "1      259       286       4  874724727      English Patient, The (1996)   \n",
       "2      259       298       4  874724754                  Face/Off (1997)   \n",
       "3      259       185       4  874724781                    Psycho (1960)   \n",
       "4      259       173       4  874724843       Princess Bride, The (1987)   \n",
       "\n",
       "                       genres  avg_rating  \n",
       "0                     Romance         4.0  \n",
       "1                Romance, War         4.0  \n",
       "2    Action, Sci-Fi, Thriller         4.0  \n",
       "3   Horror, Romance, Thriller         4.0  \n",
       "4  Action, Adventure, Romance         4.0  "
      ]
     },
     "execution_count": 3,
     "metadata": {},
     "output_type": "execute_result"
    }
   ],
   "source": [
    "train.head()"
   ]
  },
  {
   "cell_type": "code",
   "execution_count": 24,
   "metadata": {},
   "outputs": [
    {
     "data": {
      "text/plain": [
       "user_id\n",
       "1      [Empire Strikes Back, The (1980), Monty Python...\n",
       "5      [unknown, Star Trek: First Contact (1996), Jac...\n",
       "6      [Kolya (1996), English Patient, The (1996), L....\n",
       "8      [Contact (1997), Liar Liar (1997), In & Out (1...\n",
       "10     [Full Monty, The (1997), L.A. Confidential (19...\n",
       "                             ...                        \n",
       "937    [Contact (1997), Ulee's Gold (1997), English P...\n",
       "939    [Jackal, The (1997), Kull the Conqueror (1997)...\n",
       "940    [English Patient, The (1996), Everyone Says I ...\n",
       "941    [Contact (1997), Air Force One (1997), Liar Li...\n",
       "943    [Shawshank Redemption, The (1994), Return of t...\n",
       "Name: movie_title, Length: 621, dtype: object"
      ]
     },
     "execution_count": 24,
     "metadata": {},
     "output_type": "execute_result"
    }
   ],
   "source": [
    "train.groupby('user_id')['movie_title'].apply(list)"
   ]
  },
  {
   "cell_type": "code",
   "execution_count": null,
   "metadata": {},
   "outputs": [],
   "source": []
  }
 ],
 "metadata": {
  "kernelspec": {
   "display_name": ".openai_env",
   "language": "python",
   "name": "python3"
  },
  "language_info": {
   "codemirror_mode": {
    "name": "ipython",
    "version": 3
   },
   "file_extension": ".py",
   "mimetype": "text/x-python",
   "name": "python",
   "nbconvert_exporter": "python",
   "pygments_lexer": "ipython3",
   "version": "3.10.6"
  }
 },
 "nbformat": 4,
 "nbformat_minor": 2
}
