{
 "cells": [
  {
   "cell_type": "code",
   "execution_count": 1,
   "metadata": {},
   "outputs": [],
   "source": [
    "import pandas as pd"
   ]
  },
  {
   "cell_type": "code",
   "execution_count": 2,
   "metadata": {},
   "outputs": [],
   "source": [
    "train = pd.read_csv('../data/train.csv')"
   ]
  },
  {
   "cell_type": "code",
   "execution_count": 3,
   "metadata": {},
   "outputs": [
    {
     "data": {
      "text/html": [
       "<div>\n",
       "<style scoped>\n",
       "    .dataframe tbody tr th:only-of-type {\n",
       "        vertical-align: middle;\n",
       "    }\n",
       "\n",
       "    .dataframe tbody tr th {\n",
       "        vertical-align: top;\n",
       "    }\n",
       "\n",
       "    .dataframe thead th {\n",
       "        text-align: right;\n",
       "    }\n",
       "</style>\n",
       "<table border=\"1\" class=\"dataframe\">\n",
       "  <thead>\n",
       "    <tr style=\"text-align: right;\">\n",
       "      <th></th>\n",
       "      <th>user_id</th>\n",
       "      <th>movie_id</th>\n",
       "      <th>rating</th>\n",
       "      <th>timestamp</th>\n",
       "      <th>movie_title</th>\n",
       "      <th>genres</th>\n",
       "      <th>avg_rating</th>\n",
       "    </tr>\n",
       "  </thead>\n",
       "  <tbody>\n",
       "    <tr>\n",
       "      <th>0</th>\n",
       "      <td>259</td>\n",
       "      <td>255</td>\n",
       "      <td>4</td>\n",
       "      <td>874724710</td>\n",
       "      <td>My Best Friend's Wedding (1997)</td>\n",
       "      <td>Romance</td>\n",
       "      <td>4.0</td>\n",
       "    </tr>\n",
       "    <tr>\n",
       "      <th>1</th>\n",
       "      <td>259</td>\n",
       "      <td>286</td>\n",
       "      <td>4</td>\n",
       "      <td>874724727</td>\n",
       "      <td>English Patient, The (1996)</td>\n",
       "      <td>Romance, War</td>\n",
       "      <td>4.0</td>\n",
       "    </tr>\n",
       "    <tr>\n",
       "      <th>2</th>\n",
       "      <td>259</td>\n",
       "      <td>298</td>\n",
       "      <td>4</td>\n",
       "      <td>874724754</td>\n",
       "      <td>Face/Off (1997)</td>\n",
       "      <td>Action, Sci-Fi, Thriller</td>\n",
       "      <td>4.0</td>\n",
       "    </tr>\n",
       "    <tr>\n",
       "      <th>3</th>\n",
       "      <td>259</td>\n",
       "      <td>185</td>\n",
       "      <td>4</td>\n",
       "      <td>874724781</td>\n",
       "      <td>Psycho (1960)</td>\n",
       "      <td>Horror, Romance, Thriller</td>\n",
       "      <td>4.0</td>\n",
       "    </tr>\n",
       "    <tr>\n",
       "      <th>4</th>\n",
       "      <td>259</td>\n",
       "      <td>173</td>\n",
       "      <td>4</td>\n",
       "      <td>874724843</td>\n",
       "      <td>Princess Bride, The (1987)</td>\n",
       "      <td>Action, Adventure, Romance</td>\n",
       "      <td>4.0</td>\n",
       "    </tr>\n",
       "  </tbody>\n",
       "</table>\n",
       "</div>"
      ],
      "text/plain": [
       "   user_id  movie_id  rating  timestamp                      movie_title  \\\n",
       "0      259       255       4  874724710  My Best Friend's Wedding (1997)   \n",
       "1      259       286       4  874724727      English Patient, The (1996)   \n",
       "2      259       298       4  874724754                  Face/Off (1997)   \n",
       "3      259       185       4  874724781                    Psycho (1960)   \n",
       "4      259       173       4  874724843       Princess Bride, The (1987)   \n",
       "\n",
       "                       genres  avg_rating  \n",
       "0                     Romance         4.0  \n",
       "1                Romance, War         4.0  \n",
       "2    Action, Sci-Fi, Thriller         4.0  \n",
       "3   Horror, Romance, Thriller         4.0  \n",
       "4  Action, Adventure, Romance         4.0  "
      ]
     },
     "execution_count": 3,
     "metadata": {},
     "output_type": "execute_result"
    }
   ],
   "source": [
    "train.head()"
   ]
  },
  {
   "cell_type": "code",
   "execution_count": 25,
   "metadata": {},
   "outputs": [
    {
     "data": {
      "text/plain": [
       "count    621.000000\n",
       "mean     102.394525\n",
       "std       94.180971\n",
       "min        1.000000\n",
       "25%       35.000000\n",
       "50%       65.000000\n",
       "75%      146.000000\n",
       "max      737.000000\n",
       "Name: movie_title, dtype: float64"
      ]
     },
     "execution_count": 25,
     "metadata": {},
     "output_type": "execute_result"
    }
   ],
   "source": [
    "train.groupby('user_id')['movie_title'].apply(list).apply(lambda x: len(x)).describe()"
   ]
  },
  {
   "cell_type": "code",
   "execution_count": 26,
   "metadata": {},
   "outputs": [
    {
     "data": {
      "text/html": [
       "<div>\n",
       "<style scoped>\n",
       "    .dataframe tbody tr th:only-of-type {\n",
       "        vertical-align: middle;\n",
       "    }\n",
       "\n",
       "    .dataframe tbody tr th {\n",
       "        vertical-align: top;\n",
       "    }\n",
       "\n",
       "    .dataframe thead th {\n",
       "        text-align: right;\n",
       "    }\n",
       "</style>\n",
       "<table border=\"1\" class=\"dataframe\">\n",
       "  <thead>\n",
       "    <tr style=\"text-align: right;\">\n",
       "      <th></th>\n",
       "      <th>user_id</th>\n",
       "      <th>movie_id</th>\n",
       "      <th>rating</th>\n",
       "      <th>timestamp</th>\n",
       "      <th>movie_title</th>\n",
       "      <th>genres</th>\n",
       "      <th>avg_rating</th>\n",
       "    </tr>\n",
       "  </thead>\n",
       "  <tbody>\n",
       "    <tr>\n",
       "      <th>0</th>\n",
       "      <td>259</td>\n",
       "      <td>255</td>\n",
       "      <td>4</td>\n",
       "      <td>874724710</td>\n",
       "      <td>My Best Friend's Wedding (1997)</td>\n",
       "      <td>Romance</td>\n",
       "      <td>4.0</td>\n",
       "    </tr>\n",
       "    <tr>\n",
       "      <th>1</th>\n",
       "      <td>259</td>\n",
       "      <td>286</td>\n",
       "      <td>4</td>\n",
       "      <td>874724727</td>\n",
       "      <td>English Patient, The (1996)</td>\n",
       "      <td>Romance, War</td>\n",
       "      <td>4.0</td>\n",
       "    </tr>\n",
       "    <tr>\n",
       "      <th>2</th>\n",
       "      <td>259</td>\n",
       "      <td>298</td>\n",
       "      <td>4</td>\n",
       "      <td>874724754</td>\n",
       "      <td>Face/Off (1997)</td>\n",
       "      <td>Action, Sci-Fi, Thriller</td>\n",
       "      <td>4.0</td>\n",
       "    </tr>\n",
       "    <tr>\n",
       "      <th>3</th>\n",
       "      <td>259</td>\n",
       "      <td>185</td>\n",
       "      <td>4</td>\n",
       "      <td>874724781</td>\n",
       "      <td>Psycho (1960)</td>\n",
       "      <td>Horror, Romance, Thriller</td>\n",
       "      <td>4.0</td>\n",
       "    </tr>\n",
       "    <tr>\n",
       "      <th>4</th>\n",
       "      <td>259</td>\n",
       "      <td>173</td>\n",
       "      <td>4</td>\n",
       "      <td>874724843</td>\n",
       "      <td>Princess Bride, The (1987)</td>\n",
       "      <td>Action, Adventure, Romance</td>\n",
       "      <td>4.0</td>\n",
       "    </tr>\n",
       "    <tr>\n",
       "      <th>...</th>\n",
       "      <td>...</td>\n",
       "      <td>...</td>\n",
       "      <td>...</td>\n",
       "      <td>...</td>\n",
       "      <td>...</td>\n",
       "      <td>...</td>\n",
       "      <td>...</td>\n",
       "    </tr>\n",
       "    <tr>\n",
       "      <th>63582</th>\n",
       "      <td>642</td>\n",
       "      <td>8</td>\n",
       "      <td>5</td>\n",
       "      <td>885603662</td>\n",
       "      <td>Babe (1995)</td>\n",
       "      <td>Children</td>\n",
       "      <td>5.0</td>\n",
       "    </tr>\n",
       "    <tr>\n",
       "      <th>63583</th>\n",
       "      <td>642</td>\n",
       "      <td>234</td>\n",
       "      <td>1</td>\n",
       "      <td>885603662</td>\n",
       "      <td>Jaws (1975)</td>\n",
       "      <td>Action, Horror</td>\n",
       "      <td>1.0</td>\n",
       "    </tr>\n",
       "    <tr>\n",
       "      <th>63584</th>\n",
       "      <td>642</td>\n",
       "      <td>969</td>\n",
       "      <td>2</td>\n",
       "      <td>885603662</td>\n",
       "      <td>Winnie the Pooh and the Blustery Day (1968)</td>\n",
       "      <td>Animation, Children</td>\n",
       "      <td>2.0</td>\n",
       "    </tr>\n",
       "    <tr>\n",
       "      <th>63585</th>\n",
       "      <td>642</td>\n",
       "      <td>181</td>\n",
       "      <td>5</td>\n",
       "      <td>885603699</td>\n",
       "      <td>Return of the Jedi (1983)</td>\n",
       "      <td>Action, Adventure, Romance, Sci-Fi, War</td>\n",
       "      <td>5.0</td>\n",
       "    </tr>\n",
       "    <tr>\n",
       "      <th>63586</th>\n",
       "      <td>642</td>\n",
       "      <td>66</td>\n",
       "      <td>5</td>\n",
       "      <td>885603740</td>\n",
       "      <td>While You Were Sleeping (1995)</td>\n",
       "      <td>Romance</td>\n",
       "      <td>5.0</td>\n",
       "    </tr>\n",
       "  </tbody>\n",
       "</table>\n",
       "<p>63587 rows × 7 columns</p>\n",
       "</div>"
      ],
      "text/plain": [
       "       user_id  movie_id  rating  timestamp  \\\n",
       "0          259       255       4  874724710   \n",
       "1          259       286       4  874724727   \n",
       "2          259       298       4  874724754   \n",
       "3          259       185       4  874724781   \n",
       "4          259       173       4  874724843   \n",
       "...        ...       ...     ...        ...   \n",
       "63582      642         8       5  885603662   \n",
       "63583      642       234       1  885603662   \n",
       "63584      642       969       2  885603662   \n",
       "63585      642       181       5  885603699   \n",
       "63586      642        66       5  885603740   \n",
       "\n",
       "                                       movie_title  \\\n",
       "0                  My Best Friend's Wedding (1997)   \n",
       "1                      English Patient, The (1996)   \n",
       "2                                  Face/Off (1997)   \n",
       "3                                    Psycho (1960)   \n",
       "4                       Princess Bride, The (1987)   \n",
       "...                                            ...   \n",
       "63582                                  Babe (1995)   \n",
       "63583                                  Jaws (1975)   \n",
       "63584  Winnie the Pooh and the Blustery Day (1968)   \n",
       "63585                    Return of the Jedi (1983)   \n",
       "63586               While You Were Sleeping (1995)   \n",
       "\n",
       "                                        genres  avg_rating  \n",
       "0                                      Romance         4.0  \n",
       "1                                 Romance, War         4.0  \n",
       "2                     Action, Sci-Fi, Thriller         4.0  \n",
       "3                    Horror, Romance, Thriller         4.0  \n",
       "4                   Action, Adventure, Romance         4.0  \n",
       "...                                        ...         ...  \n",
       "63582                                 Children         5.0  \n",
       "63583                           Action, Horror         1.0  \n",
       "63584                      Animation, Children         2.0  \n",
       "63585  Action, Adventure, Romance, Sci-Fi, War         5.0  \n",
       "63586                                  Romance         5.0  \n",
       "\n",
       "[63587 rows x 7 columns]"
      ]
     },
     "execution_count": 26,
     "metadata": {},
     "output_type": "execute_result"
    }
   ],
   "source": [
    "train"
   ]
  },
  {
   "cell_type": "code",
   "execution_count": 247,
   "metadata": {},
   "outputs": [],
   "source": [
    "users_top_movies = train.groupby('user_id').apply(lambda x: x.sort_values('rating', ascending=False).head(10)['movie_title'].to_list())"
   ]
  },
  {
   "cell_type": "code",
   "execution_count": 61,
   "metadata": {},
   "outputs": [],
   "source": [
    "user_ratings = train.drop_duplicates(['user_id', 'movie_title']).pivot(index='user_id', columns='movie_title', values='rating').fillna(0)"
   ]
  },
  {
   "cell_type": "code",
   "execution_count": 173,
   "metadata": {},
   "outputs": [],
   "source": [
    "ten_closest_users = user_ratings.apply(\n",
    "    lambda x: user_ratings.loc[user_ratings.index != x.name]\n",
    "    .apply(lambda y: ((y - x) ** 2).sum(), axis=1)\n",
    "    .sort_values()\n",
    "    .head(10)\n",
    "    .index.to_list(),\n",
    "    axis=1,\n",
    ")"
   ]
  },
  {
   "cell_type": "code",
   "execution_count": 174,
   "metadata": {},
   "outputs": [
    {
     "data": {
      "text/plain": [
       "user_id\n",
       "1      [933, 521, 715, 738, 868, 44, 538, 77, 198, 508]\n",
       "5     [638, 275, 723, 700, 746, 55, 517, 231, 483, 563]\n",
       "6     [321, 452, 123, 929, 553, 237, 338, 82, 492, 745]\n",
       "8       [55, 153, 352, 37, 700, 517, 785, 80, 638, 746]\n",
       "10      [321, 6, 123, 237, 426, 710, 908, 397, 398, 82]\n",
       "dtype: object"
      ]
     },
     "execution_count": 174,
     "metadata": {},
     "output_type": "execute_result"
    }
   ],
   "source": [
    "ten_closest_users.head()"
   ]
  },
  {
   "cell_type": "code",
   "execution_count": 235,
   "metadata": {},
   "outputs": [],
   "source": [
    "def createPrompt(each):\n",
    "    return f\"\"\"I am user {each}.  The users who are most like me are {ten_closest_users[each]}.\n",
    "The top movies for each of these users are:\n",
    "{\"; \".join(pd.Series(users_top_movies.loc[ten_closest_users[each]].index).apply(lambda x: \": \".join([str(x), \", \".join(users_top_movies.loc[x])])).to_list())}.\"\"\""
   ]
  },
  {
   "cell_type": "code",
   "execution_count": 237,
   "metadata": {},
   "outputs": [
    {
     "data": {
      "text/plain": [
       "\"I am user 1.  The users who are most like me are [933, 521, 715, 738, 868, 44, 538, 77, 198, 508].\\nThe top movies for each of these users are:\\n933: Silence of the Lambs, The (1991), Pulp Fiction (1994), Fargo (1996), Apocalypse Now (1979), Dr. Strangelove or: How I Learned to Stop Worrying and Love the Bomb (1963), Godfather, The (1972), Clockwork Orange, A (1971), Braveheart (1995), Shawshank Redemption, The (1994), Sting, The (1973), Dead Poets Society (1989), Platoon (1986), Butch Cassidy and the Sundance Kid (1969), Twelve Monkeys (1995), Die Hard (1988), Clueless (1995), GoodFellas (1990), Star Trek: The Wrath of Khan (1982), Usual Suspects, The (1995), Schindler's List (1993); 521: Mystery Science Theater 3000: The Movie (1996), Clerks (1994), Sneakers (1992), Chasing Amy (1997), Akira (1988), Usual Suspects, The (1995), Amadeus (1984), Happy Gilmore (1996), Clockwork Orange, A (1971), Pulp Fiction (1994), Arsenic and Old Lace (1944), Princess Bride, The (1987), Austin Powers: International Man of Mystery (1997), Godfather, The (1972), Mallrats (1995), Real Genius (1985), Fugitive, The (1993), Back to the Future (1985), Long Kiss Goodnight, The (1996), Terminator 2: Judgment Day (1991); 715: Schindler's List (1993), Patton (1970), Shawshank Redemption, The (1994), Apollo 13 (1995), Die Hard (1988), Groundhog Day (1993), Pulp Fiction (1994), North by Northwest (1959), Aliens (1986), Silence of the Lambs, The (1991), Princess Bride, The (1987), Real Genius (1985), Transformers: The Movie, The (1986), Hunt for Red October, The (1990), So I Married an Axe Murderer (1993), Clerks (1994), Top Gun (1986), Right Stuff, The (1983), GoodFellas (1990), Toy Story (1995); 738: Star Trek: The Wrath of Khan (1982), Raiders of the Lost Ark (1981), Princess Bride, The (1987), Close Shave, A (1995), It's a Wonderful Life (1946), Hudsucker Proxy, The (1994), Shawshank Redemption, The (1994), Apollo 13 (1995), Star Trek: First Contact (1996), Top Gun (1986), Jackie Chan's First Strike (1996), Tombstone (1993), Silence of the Lambs, The (1991), This Is Spinal Tap (1984), Somewhere in Time (1980), Young Frankenstein (1974), Pulp Fiction (1994), Groundhog Day (1993), Contact (1997), Sleeper (1973); 868: Close Shave, A (1995), Bridge on the River Kwai, The (1957), Very Brady Sequel, A (1996), Star Wars (1977), Shawshank Redemption, The (1994), Taxi Driver (1976), 12 Angry Men (1957), Grand Day Out, A (1992), Nikita (La Femme Nikita) (1990), Usual Suspects, The (1995), Willy Wonka and the Chocolate Factory (1971), Swingers (1996), Three Colors: White (1994), Mr. Smith Goes to Washington (1939), Fargo (1996), Alien (1979), Star Trek: The Wrath of Khan (1982), Once Upon a Time in the West (1969), Twelve Monkeys (1995), Ghost in the Shell (Kokaku kidotai) (1995); 44: Raiders of the Lost Ark (1981), Sting, The (1973), 2001: A Space Odyssey (1968), Pink Floyd - The Wall (1982), Blade Runner (1982), Henry V (1989), Birds, The (1963), Schindler's List (1993), Princess Bride, The (1987), Man Who Would Be King, The (1975), Shawshank Redemption, The (1994), Fried Green Tomatoes (1991), Fifth Element, The (1997), Terminator, The (1984), Great Escape, The (1963), Searching for Bobby Fischer (1993), This Is Spinal Tap (1984), Monty Python and the Holy Grail (1974), Star Trek: The Wrath of Khan (1982), Fantasia (1940); 538: Godfather, The (1972), Silence of the Lambs, The (1991), Field of Dreams (1989), Killing Fields, The (1984), Godfather: Part II, The (1974), It's a Wonderful Life (1946), Forrest Gump (1994), Braveheart (1995), Dances with Wolves (1990), Star Wars (1977), Casablanca (1942), Bridge on the River Kwai, The (1957), Schindler's List (1993), Amadeus (1984), Raising Arizona (1987), E.T. the Extra-Terrestrial (1982), Sling Blade (1996), Some Folks Call It a Sling Blade (1993), Empire Strikes Back, The (1980), Full Metal Jacket (1987); 77: Bridge on the River Kwai, The (1957), Blade Runner (1982), Raiders of the Lost Ark (1981), Highlander (1986), Clerks (1994), Terminator, The (1984), Cool Hand Luke (1967), African Queen, The (1951), Princess Bride, The (1987), Apollo 13 (1995), Maltese Falcon, The (1941), Chasing Amy (1997), Treasure of the Sierra Madre, The (1948), Monty Python's Life of Brian (1979), Raising Arizona (1987), Madness of King George, The (1994), Toy Story (1995), Chasing Amy (1997), Clockwork Orange, A (1971), Fish Called Wanda, A (1988); 198: Blues Brothers, The (1980), When We Were Kings (1996), Blade Runner (1982), Raiders of the Lost Ark (1981), Hudsucker Proxy, The (1994), Full Metal Jacket (1987), 2001: A Space Odyssey (1968), Chinatown (1974), Alien (1979), Shine (1996), Pulp Fiction (1994), Dr. Strangelove or: How I Learned to Stop Worrying and Love the Bomb (1963), One Flew Over the Cuckoo's Nest (1975), Trigger Effect, The (1996), Heavy Metal (1981), Godfather, The (1972), Star Wars (1977), Nikita (La Femme Nikita) (1990), Silence of the Lambs, The (1991), Forrest Gump (1994); 508: Toy Story (1995), Apocalypse Now (1979), Gandhi (1982), Alien (1979), Great Dictator, The (1940), Amadeus (1984), Monty Python's Life of Brian (1979), Willy Wonka and the Chocolate Factory (1971), When Harry Met Sally... (1989), E.T. the Extra-Terrestrial (1982), Swingers (1996), Miracle on 34th Street (1994), This Is Spinal Tap (1984), Annie Hall (1977), Wizard of Oz, The (1939), One Flew Over the Cuckoo's Nest (1975), Star Trek: The Wrath of Khan (1982), Star Wars (1977), Heavy Metal (1981), Psycho (1960).\""
      ]
     },
     "execution_count": 237,
     "metadata": {},
     "output_type": "execute_result"
    }
   ],
   "source": [
    "createPrompt(ten_closest_users.iloc[:1].index[0])"
   ]
  },
  {
   "cell_type": "code",
   "execution_count": 256,
   "metadata": {},
   "outputs": [],
   "source": [
    "new_line = '\\n'\n",
    "for each in ten_closest_users.iloc[:1].index:\n",
    "    Input = f\"\"\"I am user {each}.  The users who are most like me are {ten_closest_users[each]}.\n",
    "The top movies for each of these users are:\n",
    "{new_line.join(pd.Series(users_top_movies.loc[ten_closest_users[each]].index).apply(lambda x: \": \".join([str(x), \", \".join(users_top_movies.loc[x])])).to_list())}.\n",
    "Please recommend ten movies for me to watch:\"\"\"\n",
    "    "
   ]
  },
  {
   "cell_type": "code",
   "execution_count": 257,
   "metadata": {},
   "outputs": [
    {
     "data": {
      "text/plain": [
       "\"I am user 1.  The users who are most like me are [933, 521, 715, 738, 868, 44, 538, 77, 198, 508].\\nThe top movies for each of these users are:\\n933: Silence of the Lambs, The (1991), Pulp Fiction (1994), Fargo (1996), Apocalypse Now (1979), Dr. Strangelove or: How I Learned to Stop Worrying and Love the Bomb (1963), Godfather, The (1972), Clockwork Orange, A (1971), Braveheart (1995), Shawshank Redemption, The (1994), Sting, The (1973)\\n521: Mystery Science Theater 3000: The Movie (1996), Clerks (1994), Sneakers (1992), Chasing Amy (1997), Akira (1988), Usual Suspects, The (1995), Amadeus (1984), Happy Gilmore (1996), Clockwork Orange, A (1971), Pulp Fiction (1994)\\n715: Schindler's List (1993), Patton (1970), Shawshank Redemption, The (1994), Apollo 13 (1995), Die Hard (1988), Groundhog Day (1993), Pulp Fiction (1994), North by Northwest (1959), Aliens (1986), Silence of the Lambs, The (1991)\\n738: Star Trek: The Wrath of Khan (1982), Raiders of the Lost Ark (1981), Princess Bride, The (1987), Close Shave, A (1995), It's a Wonderful Life (1946), Hudsucker Proxy, The (1994), Shawshank Redemption, The (1994), Apollo 13 (1995), Star Trek: First Contact (1996), Top Gun (1986)\\n868: Close Shave, A (1995), Bridge on the River Kwai, The (1957), Very Brady Sequel, A (1996), Star Wars (1977), Shawshank Redemption, The (1994), Taxi Driver (1976), 12 Angry Men (1957), Grand Day Out, A (1992), Nikita (La Femme Nikita) (1990), Usual Suspects, The (1995)\\n44: Raiders of the Lost Ark (1981), Sting, The (1973), 2001: A Space Odyssey (1968), Pink Floyd - The Wall (1982), Blade Runner (1982), Henry V (1989), Birds, The (1963), Schindler's List (1993), Princess Bride, The (1987), Man Who Would Be King, The (1975)\\n538: Godfather, The (1972), Silence of the Lambs, The (1991), Field of Dreams (1989), Killing Fields, The (1984), Godfather: Part II, The (1974), It's a Wonderful Life (1946), Forrest Gump (1994), Braveheart (1995), Dances with Wolves (1990), Star Wars (1977)\\n77: Bridge on the River Kwai, The (1957), Blade Runner (1982), Raiders of the Lost Ark (1981), Highlander (1986), Clerks (1994), Terminator, The (1984), Cool Hand Luke (1967), African Queen, The (1951), Princess Bride, The (1987), Apollo 13 (1995)\\n198: Blues Brothers, The (1980), When We Were Kings (1996), Blade Runner (1982), Raiders of the Lost Ark (1981), Hudsucker Proxy, The (1994), Full Metal Jacket (1987), 2001: A Space Odyssey (1968), Chinatown (1974), Alien (1979), Shine (1996)\\n508: Toy Story (1995), Apocalypse Now (1979), Gandhi (1982), Alien (1979), Great Dictator, The (1940), Amadeus (1984), Monty Python's Life of Brian (1979), Willy Wonka and the Chocolate Factory (1971), When Harry Met Sally... (1989), E.T. the Extra-Terrestrial (1982).\\nPlease recommend ten movies for me to watch:\""
      ]
     },
     "execution_count": 257,
     "metadata": {},
     "output_type": "execute_result"
    }
   ],
   "source": [
    "Input"
   ]
  },
  {
   "cell_type": "code",
   "execution_count": 258,
   "metadata": {},
   "outputs": [],
   "source": [
    "from openai import OpenAI\n",
    "from key import OPENAI_API_KEY\n",
    "client = OpenAI(api_key=OPENAI_API_KEY)"
   ]
  },
  {
   "cell_type": "code",
   "execution_count": 259,
   "metadata": {},
   "outputs": [],
   "source": [
    "response = client.chat.completions.create(\n",
    "        model=\"gpt-3.5-turbo\",\n",
    "        messages= [{ 'role':'user','content' : Input}],\n",
    "        # temperature=0,\n",
    "        # max_tokens=512,\n",
    "        # top_p=1,\n",
    "        # frequency_penalty=0,\n",
    "        # presence_penalty=0,\n",
    "        )"
   ]
  },
  {
   "cell_type": "code",
   "execution_count": 265,
   "metadata": {},
   "outputs": [
    {
     "data": {
      "text/plain": [
       "\"Based on the movie preferences of users who are most like you, I recommend the following ten movies for you to watch:\\n\\n1. The Shawshank Redemption (1994)\\n2. Pulp Fiction (1994)\\n3. A Clockwork Orange (1971)\\n4. Silence of the Lambs, The (1991)\\n5. Raiders of the Lost Ark (1981)\\n6. Apocalypse Now (1979)\\n7. Star Wars (1977)\\n8. Blade Runner (1982)\\n9. Schindler's List (1993)\\n10. Princess Bride, The (1987)\\n\\nEnjoy your movie marathon!\""
      ]
     },
     "execution_count": 265,
     "metadata": {},
     "output_type": "execute_result"
    }
   ],
   "source": [
    "response.choices[0].message.content"
   ]
  },
  {
   "cell_type": "code",
   "execution_count": null,
   "metadata": {},
   "outputs": [],
   "source": []
  }
 ],
 "metadata": {
  "kernelspec": {
   "display_name": ".openai_env",
   "language": "python",
   "name": "python3"
  },
  "language_info": {
   "codemirror_mode": {
    "name": "ipython",
    "version": 3
   },
   "file_extension": ".py",
   "mimetype": "text/x-python",
   "name": "python",
   "nbconvert_exporter": "python",
   "pygments_lexer": "ipython3",
   "version": "3.10.6"
  }
 },
 "nbformat": 4,
 "nbformat_minor": 2
}
