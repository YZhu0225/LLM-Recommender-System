{
 "cells": [
  {
   "cell_type": "code",
   "execution_count": 1,
   "metadata": {},
   "outputs": [],
   "source": [
    "import pandas as pd"
   ]
  },
  {
   "cell_type": "code",
   "execution_count": 2,
   "metadata": {},
   "outputs": [],
   "source": [
    "train = pd.read_csv('../data/train.csv')"
   ]
  },
  {
   "cell_type": "code",
   "execution_count": 3,
   "metadata": {},
   "outputs": [
    {
     "data": {
      "text/html": [
       "<div>\n",
       "<style scoped>\n",
       "    .dataframe tbody tr th:only-of-type {\n",
       "        vertical-align: middle;\n",
       "    }\n",
       "\n",
       "    .dataframe tbody tr th {\n",
       "        vertical-align: top;\n",
       "    }\n",
       "\n",
       "    .dataframe thead th {\n",
       "        text-align: right;\n",
       "    }\n",
       "</style>\n",
       "<table border=\"1\" class=\"dataframe\">\n",
       "  <thead>\n",
       "    <tr style=\"text-align: right;\">\n",
       "      <th></th>\n",
       "      <th>user_id</th>\n",
       "      <th>movie_id</th>\n",
       "      <th>rating</th>\n",
       "      <th>timestamp</th>\n",
       "      <th>movie_title</th>\n",
       "      <th>genres</th>\n",
       "      <th>avg_rating</th>\n",
       "    </tr>\n",
       "  </thead>\n",
       "  <tbody>\n",
       "    <tr>\n",
       "      <th>0</th>\n",
       "      <td>259</td>\n",
       "      <td>255</td>\n",
       "      <td>4</td>\n",
       "      <td>874724710</td>\n",
       "      <td>My Best Friend's Wedding (1997)</td>\n",
       "      <td>Romance</td>\n",
       "      <td>4.0</td>\n",
       "    </tr>\n",
       "    <tr>\n",
       "      <th>1</th>\n",
       "      <td>259</td>\n",
       "      <td>286</td>\n",
       "      <td>4</td>\n",
       "      <td>874724727</td>\n",
       "      <td>English Patient, The (1996)</td>\n",
       "      <td>Romance, War</td>\n",
       "      <td>4.0</td>\n",
       "    </tr>\n",
       "    <tr>\n",
       "      <th>2</th>\n",
       "      <td>259</td>\n",
       "      <td>298</td>\n",
       "      <td>4</td>\n",
       "      <td>874724754</td>\n",
       "      <td>Face/Off (1997)</td>\n",
       "      <td>Action, Sci-Fi, Thriller</td>\n",
       "      <td>4.0</td>\n",
       "    </tr>\n",
       "    <tr>\n",
       "      <th>3</th>\n",
       "      <td>259</td>\n",
       "      <td>185</td>\n",
       "      <td>4</td>\n",
       "      <td>874724781</td>\n",
       "      <td>Psycho (1960)</td>\n",
       "      <td>Horror, Romance, Thriller</td>\n",
       "      <td>4.0</td>\n",
       "    </tr>\n",
       "    <tr>\n",
       "      <th>4</th>\n",
       "      <td>259</td>\n",
       "      <td>173</td>\n",
       "      <td>4</td>\n",
       "      <td>874724843</td>\n",
       "      <td>Princess Bride, The (1987)</td>\n",
       "      <td>Action, Adventure, Romance</td>\n",
       "      <td>4.0</td>\n",
       "    </tr>\n",
       "  </tbody>\n",
       "</table>\n",
       "</div>"
      ],
      "text/plain": [
       "   user_id  movie_id  rating  timestamp                      movie_title  \\\n",
       "0      259       255       4  874724710  My Best Friend's Wedding (1997)   \n",
       "1      259       286       4  874724727      English Patient, The (1996)   \n",
       "2      259       298       4  874724754                  Face/Off (1997)   \n",
       "3      259       185       4  874724781                    Psycho (1960)   \n",
       "4      259       173       4  874724843       Princess Bride, The (1987)   \n",
       "\n",
       "                       genres  avg_rating  \n",
       "0                     Romance         4.0  \n",
       "1                Romance, War         4.0  \n",
       "2    Action, Sci-Fi, Thriller         4.0  \n",
       "3   Horror, Romance, Thriller         4.0  \n",
       "4  Action, Adventure, Romance         4.0  "
      ]
     },
     "execution_count": 3,
     "metadata": {},
     "output_type": "execute_result"
    }
   ],
   "source": [
    "train.head()"
   ]
  },
  {
   "cell_type": "code",
   "execution_count": 25,
   "metadata": {},
   "outputs": [
    {
     "data": {
      "text/plain": [
       "count    621.000000\n",
       "mean     102.394525\n",
       "std       94.180971\n",
       "min        1.000000\n",
       "25%       35.000000\n",
       "50%       65.000000\n",
       "75%      146.000000\n",
       "max      737.000000\n",
       "Name: movie_title, dtype: float64"
      ]
     },
     "execution_count": 25,
     "metadata": {},
     "output_type": "execute_result"
    }
   ],
   "source": [
    "train.groupby('user_id')['movie_title'].apply(list).apply(lambda x: len(x)).describe()"
   ]
  },
  {
   "cell_type": "code",
   "execution_count": 26,
   "metadata": {},
   "outputs": [
    {
     "data": {
      "text/html": [
       "<div>\n",
       "<style scoped>\n",
       "    .dataframe tbody tr th:only-of-type {\n",
       "        vertical-align: middle;\n",
       "    }\n",
       "\n",
       "    .dataframe tbody tr th {\n",
       "        vertical-align: top;\n",
       "    }\n",
       "\n",
       "    .dataframe thead th {\n",
       "        text-align: right;\n",
       "    }\n",
       "</style>\n",
       "<table border=\"1\" class=\"dataframe\">\n",
       "  <thead>\n",
       "    <tr style=\"text-align: right;\">\n",
       "      <th></th>\n",
       "      <th>user_id</th>\n",
       "      <th>movie_id</th>\n",
       "      <th>rating</th>\n",
       "      <th>timestamp</th>\n",
       "      <th>movie_title</th>\n",
       "      <th>genres</th>\n",
       "      <th>avg_rating</th>\n",
       "    </tr>\n",
       "  </thead>\n",
       "  <tbody>\n",
       "    <tr>\n",
       "      <th>0</th>\n",
       "      <td>259</td>\n",
       "      <td>255</td>\n",
       "      <td>4</td>\n",
       "      <td>874724710</td>\n",
       "      <td>My Best Friend's Wedding (1997)</td>\n",
       "      <td>Romance</td>\n",
       "      <td>4.0</td>\n",
       "    </tr>\n",
       "    <tr>\n",
       "      <th>1</th>\n",
       "      <td>259</td>\n",
       "      <td>286</td>\n",
       "      <td>4</td>\n",
       "      <td>874724727</td>\n",
       "      <td>English Patient, The (1996)</td>\n",
       "      <td>Romance, War</td>\n",
       "      <td>4.0</td>\n",
       "    </tr>\n",
       "    <tr>\n",
       "      <th>2</th>\n",
       "      <td>259</td>\n",
       "      <td>298</td>\n",
       "      <td>4</td>\n",
       "      <td>874724754</td>\n",
       "      <td>Face/Off (1997)</td>\n",
       "      <td>Action, Sci-Fi, Thriller</td>\n",
       "      <td>4.0</td>\n",
       "    </tr>\n",
       "    <tr>\n",
       "      <th>3</th>\n",
       "      <td>259</td>\n",
       "      <td>185</td>\n",
       "      <td>4</td>\n",
       "      <td>874724781</td>\n",
       "      <td>Psycho (1960)</td>\n",
       "      <td>Horror, Romance, Thriller</td>\n",
       "      <td>4.0</td>\n",
       "    </tr>\n",
       "    <tr>\n",
       "      <th>4</th>\n",
       "      <td>259</td>\n",
       "      <td>173</td>\n",
       "      <td>4</td>\n",
       "      <td>874724843</td>\n",
       "      <td>Princess Bride, The (1987)</td>\n",
       "      <td>Action, Adventure, Romance</td>\n",
       "      <td>4.0</td>\n",
       "    </tr>\n",
       "    <tr>\n",
       "      <th>...</th>\n",
       "      <td>...</td>\n",
       "      <td>...</td>\n",
       "      <td>...</td>\n",
       "      <td>...</td>\n",
       "      <td>...</td>\n",
       "      <td>...</td>\n",
       "      <td>...</td>\n",
       "    </tr>\n",
       "    <tr>\n",
       "      <th>63582</th>\n",
       "      <td>642</td>\n",
       "      <td>8</td>\n",
       "      <td>5</td>\n",
       "      <td>885603662</td>\n",
       "      <td>Babe (1995)</td>\n",
       "      <td>Children</td>\n",
       "      <td>5.0</td>\n",
       "    </tr>\n",
       "    <tr>\n",
       "      <th>63583</th>\n",
       "      <td>642</td>\n",
       "      <td>234</td>\n",
       "      <td>1</td>\n",
       "      <td>885603662</td>\n",
       "      <td>Jaws (1975)</td>\n",
       "      <td>Action, Horror</td>\n",
       "      <td>1.0</td>\n",
       "    </tr>\n",
       "    <tr>\n",
       "      <th>63584</th>\n",
       "      <td>642</td>\n",
       "      <td>969</td>\n",
       "      <td>2</td>\n",
       "      <td>885603662</td>\n",
       "      <td>Winnie the Pooh and the Blustery Day (1968)</td>\n",
       "      <td>Animation, Children</td>\n",
       "      <td>2.0</td>\n",
       "    </tr>\n",
       "    <tr>\n",
       "      <th>63585</th>\n",
       "      <td>642</td>\n",
       "      <td>181</td>\n",
       "      <td>5</td>\n",
       "      <td>885603699</td>\n",
       "      <td>Return of the Jedi (1983)</td>\n",
       "      <td>Action, Adventure, Romance, Sci-Fi, War</td>\n",
       "      <td>5.0</td>\n",
       "    </tr>\n",
       "    <tr>\n",
       "      <th>63586</th>\n",
       "      <td>642</td>\n",
       "      <td>66</td>\n",
       "      <td>5</td>\n",
       "      <td>885603740</td>\n",
       "      <td>While You Were Sleeping (1995)</td>\n",
       "      <td>Romance</td>\n",
       "      <td>5.0</td>\n",
       "    </tr>\n",
       "  </tbody>\n",
       "</table>\n",
       "<p>63587 rows × 7 columns</p>\n",
       "</div>"
      ],
      "text/plain": [
       "       user_id  movie_id  rating  timestamp  \\\n",
       "0          259       255       4  874724710   \n",
       "1          259       286       4  874724727   \n",
       "2          259       298       4  874724754   \n",
       "3          259       185       4  874724781   \n",
       "4          259       173       4  874724843   \n",
       "...        ...       ...     ...        ...   \n",
       "63582      642         8       5  885603662   \n",
       "63583      642       234       1  885603662   \n",
       "63584      642       969       2  885603662   \n",
       "63585      642       181       5  885603699   \n",
       "63586      642        66       5  885603740   \n",
       "\n",
       "                                       movie_title  \\\n",
       "0                  My Best Friend's Wedding (1997)   \n",
       "1                      English Patient, The (1996)   \n",
       "2                                  Face/Off (1997)   \n",
       "3                                    Psycho (1960)   \n",
       "4                       Princess Bride, The (1987)   \n",
       "...                                            ...   \n",
       "63582                                  Babe (1995)   \n",
       "63583                                  Jaws (1975)   \n",
       "63584  Winnie the Pooh and the Blustery Day (1968)   \n",
       "63585                    Return of the Jedi (1983)   \n",
       "63586               While You Were Sleeping (1995)   \n",
       "\n",
       "                                        genres  avg_rating  \n",
       "0                                      Romance         4.0  \n",
       "1                                 Romance, War         4.0  \n",
       "2                     Action, Sci-Fi, Thriller         4.0  \n",
       "3                    Horror, Romance, Thriller         4.0  \n",
       "4                   Action, Adventure, Romance         4.0  \n",
       "...                                        ...         ...  \n",
       "63582                                 Children         5.0  \n",
       "63583                           Action, Horror         1.0  \n",
       "63584                      Animation, Children         2.0  \n",
       "63585  Action, Adventure, Romance, Sci-Fi, War         5.0  \n",
       "63586                                  Romance         5.0  \n",
       "\n",
       "[63587 rows x 7 columns]"
      ]
     },
     "execution_count": 26,
     "metadata": {},
     "output_type": "execute_result"
    }
   ],
   "source": [
    "train"
   ]
  },
  {
   "cell_type": "code",
   "execution_count": 318,
   "metadata": {},
   "outputs": [],
   "source": [
    "user_movies = train.groupby('user_id').apply(lambda x: x['movie_title'].tolist())"
   ]
  },
  {
   "cell_type": "code",
   "execution_count": 290,
   "metadata": {},
   "outputs": [],
   "source": [
    "users_top_movies = train.groupby('user_id').apply(lambda x: x.sort_values('rating', ascending=False).head(10)['movie_title'].to_list())"
   ]
  },
  {
   "cell_type": "code",
   "execution_count": 291,
   "metadata": {},
   "outputs": [],
   "source": [
    "user_ratings = train.drop_duplicates(['user_id', 'movie_title']).pivot(index='user_id', columns='movie_title', values='rating').fillna(0)"
   ]
  },
  {
   "cell_type": "code",
   "execution_count": 297,
   "metadata": {},
   "outputs": [],
   "source": [
    "from scipy.sparse import csr_matrix\n",
    "sparse_user_ratings = csr_matrix(user_ratings)"
   ]
  },
  {
   "cell_type": "code",
   "execution_count": 292,
   "metadata": {},
   "outputs": [],
   "source": [
    "ten_closest_users_by_rating_distance = user_ratings.apply(\n",
    "    lambda x: user_ratings.loc[user_ratings.index != x.name]\n",
    "    .apply(lambda y: ((y - x) ** 2).sum(), axis=1)\n",
    "    .sort_values()\n",
    "    .head(10)\n",
    "    .index.to_list(),\n",
    "    axis=1,\n",
    ")"
   ]
  },
  {
   "cell_type": "code",
   "execution_count": 294,
   "metadata": {},
   "outputs": [
    {
     "data": {
      "text/plain": [
       "user_id\n",
       "1      [933, 521, 715, 738, 868, 44, 538, 77, 198, 508]\n",
       "5     [638, 275, 723, 700, 746, 55, 517, 231, 483, 563]\n",
       "6     [321, 452, 123, 929, 553, 237, 338, 82, 492, 745]\n",
       "8       [55, 153, 352, 37, 700, 517, 785, 80, 638, 746]\n",
       "10      [321, 6, 123, 237, 426, 710, 908, 397, 398, 82]\n",
       "dtype: object"
      ]
     },
     "execution_count": 294,
     "metadata": {},
     "output_type": "execute_result"
    }
   ],
   "source": [
    "ten_closest_users_by_rating_distance.head()"
   ]
  },
  {
   "cell_type": "code",
   "execution_count": 302,
   "metadata": {},
   "outputs": [],
   "source": [
    "from sklearn.metrics.pairwise import cosine_similarity\n",
    "import numpy as np"
   ]
  },
  {
   "cell_type": "code",
   "execution_count": 312,
   "metadata": {},
   "outputs": [],
   "source": [
    "ten_closest_users_by_cosine_similarity = pd.DataFrame(cosine_similarity(sparse_user_ratings) - np.identity(sparse_user_ratings.shape[0]), index = user_ratings.index, columns = user_ratings.index).apply(lambda x: list(x.sort_values(ascending = False).head(10).index), axis=1)"
   ]
  },
  {
   "cell_type": "code",
   "execution_count": 315,
   "metadata": {},
   "outputs": [
    {
     "data": {
      "text/plain": [
       "user_id\n",
       "1     [916, 457, 268, 435, 429, 823, 301, 276, 889, ...\n",
       "5      [648, 407, 307, 497, 268, 276, 22, 622, 804, 70]\n",
       "6       [18, 194, 716, 10, 666, 151, 321, 85, 389, 854]\n",
       "8      [746, 158, 37, 352, 638, 425, 22, 627, 671, 538]\n",
       "10      [6, 406, 666, 389, 321, 398, 524, 716, 194, 18]\n",
       "dtype: object"
      ]
     },
     "execution_count": 315,
     "metadata": {},
     "output_type": "execute_result"
    }
   ],
   "source": [
    "ten_closest_users_by_cosine_similarity.head()"
   ]
  },
  {
   "cell_type": "code",
   "execution_count": 363,
   "metadata": {},
   "outputs": [],
   "source": [
    "new_line = '\\n'\n",
    "for each in ten_closest_users_by_rating_distance.iloc[:1].index:\n",
    "    Input = f\"\"\"I am user {each}.  The users who are most like me are {ten_closest_users_by_rating_distance[each]}.\n",
    "The top movies for each of these users are:\n",
    "{new_line.join(pd.Series(users_top_movies.loc[ten_closest_users_by_rating_distance[each]].index).apply(lambda x: \": \".join([str(x), \", \".join(users_top_movies.loc[x])])).to_list())}.\n",
    "Please recommend ten movies for me to watch that I have not seen and provide brackets around the movies and their years so I can easily parse them.\"\"\"\n",
    "    "
   ]
  },
  {
   "cell_type": "code",
   "execution_count": 434,
   "metadata": {},
   "outputs": [],
   "source": [
    "new_line = '\\n'\n",
    "\n",
    "def createPrompt(each):\n",
    "    return f\"\"\"I am user {each}.\n",
    "The most recent ten movies I have seen are are:\n",
    "{\", \".join(user_movies[each][-10:])}.\n",
    "The users who are most like me are {ten_closest_users_by_rating_distance[each]}.\n",
    "The top movies for each of these users are:\n",
    "{new_line.join(pd.Series(users_top_movies.loc[ten_closest_users_by_rating_distance[each]].index).apply(lambda x: \": \".join([str(x), \", \".join(users_top_movies.loc[x])])).to_list())}.\n",
    "Please recommend ten movies for me to watch that I have not seen and provide brackets around the movies and their years so I can easily parse them.\"\"\"\n",
    "    "
   ]
  },
  {
   "cell_type": "code",
   "execution_count": 371,
   "metadata": {},
   "outputs": [
    {
     "data": {
      "text/plain": [
       "\"I am user 1.\\nThe movies I have seen are are:\\nEmpire Strikes Back, The (1980), Monty Python and the Holy Grail (1974), Jean de Florette (1986), Reservoir Dogs (1992), Manon of the Spring (Manon des sources) (1986), Dead Poets Society (1989), Godfather: Part II, The (1974), Postino, Il (1994), Godfather, The (1972), Fifth Element, The (1997), Return of the Jedi (1983), Rock, The (1996), Mystery Science Theater 3000: The Movie (1996), Toy Story (1995), Chasing Amy (1997), Star Wars (1977), Grosse Pointe Blank (1997), Men in Black (1997), Austin Powers: International Man of Mystery (1997), Pillow Book, The (1995), In the Company of Men (1997), Welcome to the Dollhouse (1995), Lone Star (1996), Ridicule (1996), Antonia's Line (1995), Frighteners, The (1996), Big Night (1996), Unhook the Stars (1996), Twelve Monkeys (1995), Mars Attacks! (1996), Mr. Holland's Opus (1995), Devil's Own, The (1997), Mimic (1997), Spitfire Grill, The (1996), Rumble in the Bronx (1995), Event Horizon (1997), Jerry Maguire (1996), Birdcage, The (1996), Mighty Aphrodite (1995), Independence Day (ID4) (1996), Shall We Dance? (1996), Beavis and Butt-head Do America (1996), Citizen Ruth (1996), Twister (1996), Kansas City (1996), What's Eating Gilbert Grape (1993), Ed Wood (1994), Henry V (1989), Crimson Tide (1995), Wallace & Gromit: The Best of Aardman Animation (1996), Strange Days (1995), Apollo 13 (1995), Madness of King George, The (1994), Raising Arizona (1987), Bridge on the River Kwai, The (1957), Alien (1979), Forrest Gump (1994), Seven (Se7en) (1995), Top Gun (1986), Aladdin (1992), Much Ado About Nothing (1993), Three Colors: Blue (1993), Clockwork Orange, A (1971), Shawshank Redemption, The (1994), Silence of the Lambs, The (1991), Braveheart (1995), 2001: A Space Odyssey (1968), Return of the Pink Panther, The (1974), Brothers McMullen, The (1995), Groundhog Day (1993), Babe (1995), Blade Runner (1982), Pink Floyd - The Wall (1982), GoodFellas (1990), Hoop Dreams (1994), Brazil (1985), Glengarry Glen Ross (1992), Raging Bull (1980), Snow White and the Seven Dwarfs (1937), Apocalypse Now (1979), Supercop (1992), Psycho (1960), Sound of Music, The (1965), Professional, The (1994), Back to the Future (1985), Crow, The (1994), Pulp Fiction (1994), Terminator 2: Judgment Day (1991), Willy Wonka and the Chocolate Factory (1971), Fugitive, The (1993), Hudsucker Proxy, The (1994), Four Weddings and a Funeral (1994), Unbearable Lightness of Being, The (1988), Taxi Driver (1976), Robert A. Heinlein's The Puppet Masters (1994), Home Alone (1990), Graduate, The (1967), Amadeus (1984), Army of Darkness (1993), Citizen Kane (1941), Lawnmower Man, The (1992), Cyrano de Bergerac (1990), Dances with Wolves (1990), Blues Brothers, The (1980), Full Metal Jacket (1987), Basic Instinct (1992), Ref, The (1994), Die Hard (1988), Mad Love (1995), Raiders of the Lost Ark (1981), From Dusk Till Dawn (1996), Lost World: Jurassic Park, The (1997), Sgt. Bilko (1996), Ghost and the Darkness, The (1996), Kids in the Hall: Brain Candy (1996), Long Kiss Goodnight, The (1996), Mirror Has Two Faces, The (1996), Diabolique (1996), Jungle2Jungle (1997), Cable Guy, The (1996), Moll Flanders (1996), Turbo: A Power Rangers Movie (1997), Theodore Rex (1995), Striptease (1996), Eat Drink Man Woman (1994), Chasing Amy (1997), unknown, George of the Jungle (1997), Air Bud (1997), Steel (1997), Richard III (1995), Swingers (1996), Jaws (1975), Lion King, The (1994), True Romance (1993), Clerks (1994), Aliens (1986), Nightmare Before Christmas, The (1993), Right Stuff, The (1983), Bram Stoker's Dracula (1992), Good, The Bad and The Ugly, The (1966), When Harry Met Sally... (1989), Sting, The (1973), Maverick (1994), Three Colors: Red (1994), Gone with the Wind (1939), Billy Madison (1995), Terminator, The (1984), Cinema Paradiso (1988), Cape Fear (1991), Room with a View, A (1986), Sling Blade (1996), Platoon (1986), Bad Boys (1995), Star Trek VI: The Undiscovered Country (1991), Hot Shots! Part Deux (1993), Batman Returns (1992), Ace Ventura: Pet Detective (1994), Shining, The (1980), Maya Lin: A Strong Clear Vision (1994), Get Shorty (1995), Field of Dreams (1989), Abyss, The (1989), GoldenEye (1995), Firm, The (1993), Akira (1988), Mr. Smith Goes to Washington (1939), Natural Born Killers (1994), Fish Called Wanda, A (1988), Exotica (1994), To Wong Foo, Thanks for Everything! Julie Newmar (1995), Full Monty, The (1997), Batman & Robin (1997), Haunted World of Edward D. Wood Jr., The (1995), Princess Bride, The (1987), M*A*S*H (1970), Star Trek III: The Search for Spock (1984), Dirty Dancing (1987), Unforgiven (1992), Stargate (1994), So I Married an Axe Murderer (1993), Nightmare on Elm Street, A (1984), Private Benjamin (1980), Free Willy 2: The Adventure Home (1995), Three Colors: White (1994), Star Trek IV: The Voyage Home (1986), On Golden Pond (1981), Flipper (1996), Hunt for Red October, The (1990), Priest (1994), I.Q. (1994), Belle de jour (1967), Under Siege (1992), Breakfast at Tiffany's (1961), Jurassic Park (1993), Sleeper (1973), 20,000 Leagues Under the Sea (1954), Mask, The (1994), Desperado (1995), Weekend at Bernie's (1989), Nikita (La Femme Nikita) (1990), 101 Dalmatians (1996), Horseman on the Roof, The (Hussard sur le toit, Le) (1995), Muppet Treasure Island (1996), Jude (1996), Sleepless in Seattle (1993), Sneakers (1992), Heavy Metal (1981), All Dogs Go to Heaven 2 (1996), Operation Dumbo Drop (1995), Batman Forever (1995), Disclosure (1994), Doom Generation, The (1995), Wizard of Oz, The (1939), Indiana Jones and the Last Crusade (1989), Patton (1970), Phenomenon (1996), Usual Suspects, The (1995), Evil Dead II (1987), Quiz Show (1994), Cold Comfort Farm (1995), Young Frankenstein (1974), Four Rooms (1995), D3: The Mighty Ducks (1996), While You Were Sleeping (1995), Nadja (1994), Net, The (1995), Homeward Bound: The Incredible Journey (1993), Last of the Mohicans, The (1992), Die Hard 2 (1990), Carlito's Way (1993), Free Willy (1993), Young Guns (1988), Santa Clause, The (1994), Love Bug, The (1969), Brother Minister: The Assassination of Malcolm X (1994), Bedknobs and Broomsticks (1971), Legends of the Fall (1994), Outbreak (1995), 12 Angry Men (1957), Dead Man Walking (1995), Searching for Bobby Fischer (1993), Remains of the Day, The (1993), Dolores Claiborne (1994), French Twist (Gazon maudit) (1995), Wrong Trousers, The (1993), Fargo (1996), Monty Python's Life of Brian (1979), Star Trek: The Wrath of Khan (1982), Star Trek: First Contact (1996), Contact (1997), Kull the Conqueror (1997), My Best Friend's Wedding (1997).\\nThe users who are most like me are [933, 521, 715, 738, 868, 44, 538, 77, 198, 508].\\nThe top movies for each of these users are:\\n933: Silence of the Lambs, The (1991), Pulp Fiction (1994), Fargo (1996), Apocalypse Now (1979), Dr. Strangelove or: How I Learned to Stop Worrying and Love the Bomb (1963), Godfather, The (1972), Clockwork Orange, A (1971), Braveheart (1995), Shawshank Redemption, The (1994), Sting, The (1973)\\n521: Mystery Science Theater 3000: The Movie (1996), Clerks (1994), Sneakers (1992), Chasing Amy (1997), Akira (1988), Usual Suspects, The (1995), Amadeus (1984), Happy Gilmore (1996), Clockwork Orange, A (1971), Pulp Fiction (1994)\\n715: Schindler's List (1993), Patton (1970), Shawshank Redemption, The (1994), Apollo 13 (1995), Die Hard (1988), Groundhog Day (1993), Pulp Fiction (1994), North by Northwest (1959), Aliens (1986), Silence of the Lambs, The (1991)\\n738: Star Trek: The Wrath of Khan (1982), Raiders of the Lost Ark (1981), Princess Bride, The (1987), Close Shave, A (1995), It's a Wonderful Life (1946), Hudsucker Proxy, The (1994), Shawshank Redemption, The (1994), Apollo 13 (1995), Star Trek: First Contact (1996), Top Gun (1986)\\n868: Close Shave, A (1995), Bridge on the River Kwai, The (1957), Very Brady Sequel, A (1996), Star Wars (1977), Shawshank Redemption, The (1994), Taxi Driver (1976), 12 Angry Men (1957), Grand Day Out, A (1992), Nikita (La Femme Nikita) (1990), Usual Suspects, The (1995)\\n44: Raiders of the Lost Ark (1981), Sting, The (1973), 2001: A Space Odyssey (1968), Pink Floyd - The Wall (1982), Blade Runner (1982), Henry V (1989), Birds, The (1963), Schindler's List (1993), Princess Bride, The (1987), Man Who Would Be King, The (1975)\\n538: Godfather, The (1972), Silence of the Lambs, The (1991), Field of Dreams (1989), Killing Fields, The (1984), Godfather: Part II, The (1974), It's a Wonderful Life (1946), Forrest Gump (1994), Braveheart (1995), Dances with Wolves (1990), Star Wars (1977)\\n77: Bridge on the River Kwai, The (1957), Blade Runner (1982), Raiders of the Lost Ark (1981), Highlander (1986), Clerks (1994), Terminator, The (1984), Cool Hand Luke (1967), African Queen, The (1951), Princess Bride, The (1987), Apollo 13 (1995)\\n198: Blues Brothers, The (1980), When We Were Kings (1996), Blade Runner (1982), Raiders of the Lost Ark (1981), Hudsucker Proxy, The (1994), Full Metal Jacket (1987), 2001: A Space Odyssey (1968), Chinatown (1974), Alien (1979), Shine (1996)\\n508: Toy Story (1995), Apocalypse Now (1979), Gandhi (1982), Alien (1979), Great Dictator, The (1940), Amadeus (1984), Monty Python's Life of Brian (1979), Willy Wonka and the Chocolate Factory (1971), When Harry Met Sally... (1989), E.T. the Extra-Terrestrial (1982).\\nPlease recommend ten movies for me to watch that I have not seen and provide brackets around the movies and their years so I can easily parse them.\""
      ]
     },
     "execution_count": 371,
     "metadata": {},
     "output_type": "execute_result"
    }
   ],
   "source": [
    "Input"
   ]
  },
  {
   "cell_type": "code",
   "execution_count": 258,
   "metadata": {},
   "outputs": [],
   "source": [
    "from openai import OpenAI\n",
    "from key import OPENAI_API_KEY\n",
    "client = OpenAI(api_key=OPENAI_API_KEY)"
   ]
  },
  {
   "cell_type": "code",
   "execution_count": 372,
   "metadata": {},
   "outputs": [],
   "source": [
    "response = client.chat.completions.create(\n",
    "        model=\"gpt-3.5-turbo\",\n",
    "        messages= [{ 'role':'user','content' : Input}],\n",
    "        # temperature=0,\n",
    "        # max_tokens=512,\n",
    "        # top_p=1,\n",
    "        # frequency_penalty=0,\n",
    "        # presence_penalty=0,\n",
    "        )"
   ]
  },
  {
   "cell_type": "code",
   "execution_count": 392,
   "metadata": {},
   "outputs": [
    {
     "data": {
      "text/plain": [
       "\"I am user 1.  The users who are most like me are [933, 521, 715, 738, 868, 44, 538, 77, 198, 508].\\nThe top movies for each of these users are:\\n933: Silence of the Lambs, The (1991), Pulp Fiction (1994), Fargo (1996), Apocalypse Now (1979), Dr. Strangelove or: How I Learned to Stop Worrying and Love the Bomb (1963), Godfather, The (1972), Clockwork Orange, A (1971), Braveheart (1995), Shawshank Redemption, The (1994), Sting, The (1973)\\n521: Mystery Science Theater 3000: The Movie (1996), Clerks (1994), Sneakers (1992), Chasing Amy (1997), Akira (1988), Usual Suspects, The (1995), Amadeus (1984), Happy Gilmore (1996), Clockwork Orange, A (1971), Pulp Fiction (1994)\\n715: Schindler's List (1993), Patton (1970), Shawshank Redemption, The (1994), Apollo 13 (1995), Die Hard (1988), Groundhog Day (1993), Pulp Fiction (1994), North by Northwest (1959), Aliens (1986), Silence of the Lambs, The (1991)\\n738: Star Trek: The Wrath of Khan (1982), Raiders of the Lost Ark (1981), Princess Bride, The (1987), Close Shave, A (1995), It's a Wonderful Life (1946), Hudsucker Proxy, The (1994), Shawshank Redemption, The (1994), Apollo 13 (1995), Star Trek: First Contact (1996), Top Gun (1986)\\n868: Close Shave, A (1995), Bridge on the River Kwai, The (1957), Very Brady Sequel, A (1996), Star Wars (1977), Shawshank Redemption, The (1994), Taxi Driver (1976), 12 Angry Men (1957), Grand Day Out, A (1992), Nikita (La Femme Nikita) (1990), Usual Suspects, The (1995)\\n44: Raiders of the Lost Ark (1981), Sting, The (1973), 2001: A Space Odyssey (1968), Pink Floyd - The Wall (1982), Blade Runner (1982), Henry V (1989), Birds, The (1963), Schindler's List (1993), Princess Bride, The (1987), Man Who Would Be King, The (1975)\\n538: Godfather, The (1972), Silence of the Lambs, The (1991), Field of Dreams (1989), Killing Fields, The (1984), Godfather: Part II, The (1974), It's a Wonderful Life (1946), Forrest Gump (1994), Braveheart (1995), Dances with Wolves (1990), Star Wars (1977)\\n77: Bridge on the River Kwai, The (1957), Blade Runner (1982), Raiders of the Lost Ark (1981), Highlander (1986), Clerks (1994), Terminator, The (1984), Cool Hand Luke (1967), African Queen, The (1951), Princess Bride, The (1987), Apollo 13 (1995)\\n198: Blues Brothers, The (1980), When We Were Kings (1996), Blade Runner (1982), Raiders of the Lost Ark (1981), Hudsucker Proxy, The (1994), Full Metal Jacket (1987), 2001: A Space Odyssey (1968), Chinatown (1974), Alien (1979), Shine (1996)\\n508: Toy Story (1995), Apocalypse Now (1979), Gandhi (1982), Alien (1979), Great Dictator, The (1940), Amadeus (1984), Monty Python's Life of Brian (1979), Willy Wonka and the Chocolate Factory (1971), When Harry Met Sally... (1989), E.T. the Extra-Terrestrial (1982).\\nPlease recommend ten movies for me to watch that I have not seen and provide brackets around the movies and their years so I can easily parse them.\""
      ]
     },
     "execution_count": 392,
     "metadata": {},
     "output_type": "execute_result"
    }
   ],
   "source": [
    "createPrompt(ten_closest_users_by_rating_distance.iloc[:1].index[0])"
   ]
  },
  {
   "cell_type": "code",
   "execution_count": 435,
   "metadata": {},
   "outputs": [],
   "source": [
    "test = pd.Series(ten_closest_users_by_rating_distance.index, index = ten_closest_users_by_rating_distance.index).loc[user_movies.index.intersection(user_movies_test.index)[:5]].apply(lambda x: client.chat.completions.create(\n",
    "        model=\"gpt-3.5-turbo\",\n",
    "        messages= [{ 'role':'user','content' : createPrompt(x)}],\n",
    "        # temperature=0,\n",
    "        # max_tokens=512,\n",
    "        # top_p=1,\n",
    "        # frequency_penalty=0,\n",
    "        # presence_penalty=0,\n",
    "        ))"
   ]
  },
  {
   "cell_type": "code",
   "execution_count": 436,
   "metadata": {},
   "outputs": [],
   "source": [
    "recommendations = test.apply(lambda x: [\n",
    "    each.split(\"]\")[0]\n",
    "    for each in ([\n",
    "        each\n",
    "        for each in x.choices[0].message.content.split(\"[\")\n",
    "    ][1:])\n",
    "])"
   ]
  },
  {
   "cell_type": "code",
   "execution_count": 437,
   "metadata": {},
   "outputs": [
    {
     "data": {
      "text/plain": [
       "user_id\n",
       "1     [Blade Runner, Pulp Fiction, Shawshank Redempt...\n",
       "13    [Fight Club (1999), Eternal Sunshine of the Sp...\n",
       "14    [Pulp Fiction (1994), Fight Club (1999), Etern...\n",
       "23    [The Shawshank Redemption (1994), Pulp Fiction...\n",
       "30    [Pulp Fiction (1994), The Shawshank Redemption...\n",
       "Name: user_id, dtype: object"
      ]
     },
     "execution_count": 437,
     "metadata": {},
     "output_type": "execute_result"
    }
   ],
   "source": [
    "recommendations"
   ]
  },
  {
   "cell_type": "code",
   "execution_count": 323,
   "metadata": {},
   "outputs": [
    {
     "data": {
      "text/plain": [
       "ChatCompletion(id='chatcmpl-8TZFXnptntBJSlpD10pwyQHp3nlsg', choices=[Choice(finish_reason='stop', index=0, message=ChatCompletionMessage(content=\"Here are ten movie recommendations for you to watch:\\n\\n1. [Pulp Fiction (1994)] - Directed by Quentin Tarantino, this iconic crime film intertwines various characters and their stories in a non-linear narrative.\\n2. [The Shawshank Redemption (1994)] - A gripping drama about a man who, despite being wrongfully convicted, finds hope and redemption during his time in prison.\\n3. [Fight Club (1999)] - This thought-provoking film follows an insomniac office worker who forms an underground fight club as a means of escape and rebellion.\\n4. [Eternal Sunshine of the Spotless Mind (2004)] - A unique romantic sci-fi flick that explores memory, love, and the consequences of erasing one's past.\\n5. [The Grand Budapest Hotel (2014)] - A whimsical comedy-drama set in a fictional Eastern European hotel, filled with eccentric characters and an intriguing murder mystery.\\n6. [Whiplash (2014)] - A thrilling drama about a young jazz drummer who enters a cutthroat music conservatory and forms a complex relationship with his intense mentor.\\n7. [The Intouchables (2011)] - Based on a true story, this heartwarming French film depicts the unlikely friendship between a wealthy quadriplegic man and his caregiver.\\n8. [Prisoners (2013)] - A suspenseful and dark thriller that follows a father's desperate search for his young daughter who goes missing.\\n9. [Inception (2010)] - Directed by Christopher Nolan, this mind-bending sci-fi heist film delves into dreams and subconscious manipulation.\\n10. [Oldboy (2003)] - An intense South Korean revenge thriller about a man who seeks retribution after being imprisoned for 15 years without explanation.\\n\\nEnjoy your movie marathon!\", role='assistant', function_call=None, tool_calls=None))], created=1702057703, model='gpt-3.5-turbo-0613', object='chat.completion', system_fingerprint=None, usage=CompletionUsage(completion_tokens=373, prompt_tokens=145, total_tokens=518))"
      ]
     },
     "execution_count": 323,
     "metadata": {},
     "output_type": "execute_result"
    }
   ],
   "source": [
    "response"
   ]
  },
  {
   "cell_type": "code",
   "execution_count": 322,
   "metadata": {},
   "outputs": [
    {
     "data": {
      "text/plain": [
       "\"Here are ten movie recommendations for you to watch:\\n\\n1. [Pulp Fiction (1994)] - Directed by Quentin Tarantino, this iconic crime film intertwines various characters and their stories in a non-linear narrative.\\n2. [The Shawshank Redemption (1994)] - A gripping drama about a man who, despite being wrongfully convicted, finds hope and redemption during his time in prison.\\n3. [Fight Club (1999)] - This thought-provoking film follows an insomniac office worker who forms an underground fight club as a means of escape and rebellion.\\n4. [Eternal Sunshine of the Spotless Mind (2004)] - A unique romantic sci-fi flick that explores memory, love, and the consequences of erasing one's past.\\n5. [The Grand Budapest Hotel (2014)] - A whimsical comedy-drama set in a fictional Eastern European hotel, filled with eccentric characters and an intriguing murder mystery.\\n6. [Whiplash (2014)] - A thrilling drama about a young jazz drummer who enters a cutthroat music conservatory and forms a complex relationship with his intense mentor.\\n7. [The Intouchables (2011)] - Based on a true story, this heartwarming French film depicts the unlikely friendship between a wealthy quadriplegic man and his caregiver.\\n8. [Prisoners (2013)] - A suspenseful and dark thriller that follows a father's desperate search for his young daughter who goes missing.\\n9. [Inception (2010)] - Directed by Christopher Nolan, this mind-bending sci-fi heist film delves into dreams and subconscious manipulation.\\n10. [Oldboy (2003)] - An intense South Korean revenge thriller about a man who seeks retribution after being imprisoned for 15 years without explanation.\\n\\nEnjoy your movie marathon!\""
      ]
     },
     "execution_count": 322,
     "metadata": {},
     "output_type": "execute_result"
    }
   ],
   "source": [
    "response.choices[0].message.content"
   ]
  },
  {
   "cell_type": "code",
   "execution_count": 358,
   "metadata": {},
   "outputs": [],
   "source": [
    "new_line = '\\n'\n",
    "for each in ten_closest_users_by_rating_distance.iloc[:1].index:\n",
    "    Input = f\"\"\"I am user {each}.\n",
    "The movies I have seen are are:\n",
    "{user_movies[each]}.\n",
    "Please recommend ten movies for me to watch that I have not seen and provide brackets around the movies and their years so I can easily parse them.\"\"\""
   ]
  },
  {
   "cell_type": "code",
   "execution_count": 370,
   "metadata": {},
   "outputs": [],
   "source": [
    "new_line = '\\n'\n",
    "for each in ten_closest_users_by_rating_distance.iloc[:1].index:\n",
    "    Input = f\"\"\"I am user {each}.\n",
    "The movies I have seen are are:\n",
    "{\", \".join(user_movies[each])}.\n",
    "The users who are most like me are {ten_closest_users_by_rating_distance[each]}.\n",
    "The top movies for each of these users are:\n",
    "{new_line.join(pd.Series(users_top_movies.loc[ten_closest_users_by_rating_distance[each]].index).apply(lambda x: \": \".join([str(x), \", \".join(users_top_movies.loc[x])])).to_list())}.\n",
    "Please recommend ten movies for me to watch that I have not seen and provide brackets around the movies and their years so I can easily parse them.\"\"\""
   ]
  },
  {
   "cell_type": "code",
   "execution_count": 357,
   "metadata": {},
   "outputs": [],
   "source": [
    "new_line = '\\n'\n",
    "for each in ten_closest_users_by_rating_distance.iloc[:1].index:\n",
    "    Input = f\"\"\"I am user {each}.\n",
    "The most recent ten movies I have seen are are:\n",
    "{\", \".join(user_movies[each][-10:])}.\n",
    "Please recommend ten movies for me to watch that I have not seen and provide brackets around the movies and their years so I can easily parse them.\"\"\""
   ]
  },
  {
   "cell_type": "code",
   "execution_count": null,
   "metadata": {},
   "outputs": [],
   "source": [
    "new_line = '\\n'\n",
    "for each in ten_closest_users_by_rating_distance.iloc[:1].index:\n",
    "    Input = f\"\"\"I am user {each}.\n",
    "The most recent ten movies I have seen are are:\n",
    "{\", \".join(user_movies[each][-10:])}.\n",
    "The users who are most like me are {ten_closest_users_by_rating_distance[each]}.\n",
    "The top movies for each of these users are:\n",
    "{new_line.join(pd.Series(users_top_movies.loc[ten_closest_users_by_rating_distance[each]].index).apply(lambda x: \": \".join([str(x), \", \".join(users_top_movies.loc[x])])).to_list())}.\n",
    "Please recommend ten movies for me to watch that I have not seen and provide brackets around the movies and their years so I can easily parse them.\"\"\""
   ]
  },
  {
   "cell_type": "code",
   "execution_count": 373,
   "metadata": {},
   "outputs": [],
   "source": [
    "recommendations = [\n",
    "    each.split(\"]\")[0]\n",
    "    for each in ([\n",
    "        each\n",
    "        for each in response.choices[0].message.content.split(\"[\")\n",
    "    ][1:])\n",
    "]"
   ]
  },
  {
   "cell_type": "code",
   "execution_count": 337,
   "metadata": {},
   "outputs": [],
   "source": [
    "test = pd.read_csv('../data/test.csv')"
   ]
  },
  {
   "cell_type": "code",
   "execution_count": 338,
   "metadata": {},
   "outputs": [],
   "source": [
    "user_movies_test = test.groupby('user_id').apply(lambda x: x['movie_title'].tolist())"
   ]
  },
  {
   "cell_type": "code",
   "execution_count": 377,
   "metadata": {},
   "outputs": [
    {
     "data": {
      "text/plain": [
       "19"
      ]
     },
     "execution_count": 377,
     "metadata": {},
     "output_type": "execute_result"
    }
   ],
   "source": [
    "len(user_movies_test[1])"
   ]
  },
  {
   "cell_type": "code",
   "execution_count": 374,
   "metadata": {},
   "outputs": [
    {
     "data": {
      "text/plain": [
       "['Casablanca (1942)',\n",
       " 'The Shawshank Redemption (1994)',\n",
       " 'The Godfather: Part I (1972)',\n",
       " 'The Dark Knight (2008)',\n",
       " 'Fight Club (1999)',\n",
       " 'Inception (2010)',\n",
       " 'The Matrix (1999)',\n",
       " 'The Lion King (1994)',\n",
       " 'Good Will Hunting (1997)',\n",
       " 'Eternal Sunshine of the Spotless Mind (2004)']"
      ]
     },
     "execution_count": 374,
     "metadata": {},
     "output_type": "execute_result"
    }
   ],
   "source": [
    "recommendations"
   ]
  },
  {
   "cell_type": "code",
   "execution_count": 375,
   "metadata": {},
   "outputs": [
    {
     "data": {
      "text/plain": [
       "{'Good Will Hunting (1997)'}"
      ]
     },
     "execution_count": 375,
     "metadata": {},
     "output_type": "execute_result"
    }
   ],
   "source": [
    "set(user_movies_test[1]).intersection(recommendations)"
   ]
  },
  {
   "cell_type": "code",
   "execution_count": 438,
   "metadata": {},
   "outputs": [],
   "source": [
    "hits = pd.concat((user_movies_test, recommendations), axis=1).dropna().apply(lambda x: len(set(x.iloc[0]).intersection(x.iloc[1])), axis = 1)"
   ]
  },
  {
   "cell_type": "code",
   "execution_count": 439,
   "metadata": {},
   "outputs": [
    {
     "data": {
      "text/plain": [
       "user_id\n",
       "1     0\n",
       "13    0\n",
       "14    0\n",
       "23    0\n",
       "30    1\n",
       "dtype: int64"
      ]
     },
     "execution_count": 439,
     "metadata": {},
     "output_type": "execute_result"
    }
   ],
   "source": [
    "hits"
   ]
  },
  {
   "cell_type": "code",
   "execution_count": 430,
   "metadata": {},
   "outputs": [
    {
     "data": {
      "text/plain": [
       "user_id\n",
       "1     [Star Wars: Episode IV - A New Hope (1977), Th...\n",
       "5     [Blade Runner, Pulp Fiction, The Godfather, Th...\n",
       "6     [The Shawshank Redemption (1994), Fight Club (...\n",
       "8     [The Shawshank Redemption (1994), The Godfathe...\n",
       "10    [The Godfather: Part II (1974), Fight Club (19...\n",
       "Name: user_id, dtype: object"
      ]
     },
     "execution_count": 430,
     "metadata": {},
     "output_type": "execute_result"
    }
   ],
   "source": [
    "recommendations"
   ]
  },
  {
   "cell_type": "code",
   "execution_count": 431,
   "metadata": {},
   "outputs": [
    {
     "data": {
      "text/plain": [
       "user_id\n",
       "1      [Good Will Hunting (1997), Starship Troopers (...\n",
       "2      [English Patient, The (1996), Contact (1997), ...\n",
       "3      [Air Force One (1997), Game, The (1997), L.A. ...\n",
       "4      [Contact (1997), Air Force One (1997), Scream ...\n",
       "7      [Full Monty, The (1997), Volcano (1997), I Kno...\n",
       "                             ...                        \n",
       "936    [Good Will Hunting (1997), Contact (1997), Tit...\n",
       "938    [Titanic (1997), Air Force One (1997), Contact...\n",
       "940    [Sum of Us, The (1994), Some Like It Hot (1959...\n",
       "942    [Apt Pupil (1998), Amistad (1997), Full Monty,...\n",
       "943    [Taxi Driver (1976), Monty Python and the Holy...\n",
       "Length: 455, dtype: object"
      ]
     },
     "execution_count": 431,
     "metadata": {},
     "output_type": "execute_result"
    }
   ],
   "source": [
    "user_movies_test"
   ]
  },
  {
   "cell_type": "code",
   "execution_count": null,
   "metadata": {},
   "outputs": [],
   "source": []
  }
 ],
 "metadata": {
  "kernelspec": {
   "display_name": ".openai_env",
   "language": "python",
   "name": "python3"
  },
  "language_info": {
   "codemirror_mode": {
    "name": "ipython",
    "version": 3
   },
   "file_extension": ".py",
   "mimetype": "text/x-python",
   "name": "python",
   "nbconvert_exporter": "python",
   "pygments_lexer": "ipython3",
   "version": "3.10.6"
  }
 },
 "nbformat": 4,
 "nbformat_minor": 2
}
