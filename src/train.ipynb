{
 "cells": [
  {
   "cell_type": "code",
   "execution_count": 1,
   "metadata": {},
   "outputs": [],
   "source": [
    "import pandas as pd"
   ]
  },
  {
   "cell_type": "code",
   "execution_count": 2,
   "metadata": {},
   "outputs": [],
   "source": [
    "train = pd.read_csv('../data/train.csv')"
   ]
  },
  {
   "cell_type": "code",
   "execution_count": 3,
   "metadata": {},
   "outputs": [
    {
     "data": {
      "text/html": [
       "<div>\n",
       "<style scoped>\n",
       "    .dataframe tbody tr th:only-of-type {\n",
       "        vertical-align: middle;\n",
       "    }\n",
       "\n",
       "    .dataframe tbody tr th {\n",
       "        vertical-align: top;\n",
       "    }\n",
       "\n",
       "    .dataframe thead th {\n",
       "        text-align: right;\n",
       "    }\n",
       "</style>\n",
       "<table border=\"1\" class=\"dataframe\">\n",
       "  <thead>\n",
       "    <tr style=\"text-align: right;\">\n",
       "      <th></th>\n",
       "      <th>user_id</th>\n",
       "      <th>movie_id</th>\n",
       "      <th>rating</th>\n",
       "      <th>timestamp</th>\n",
       "      <th>movie_title</th>\n",
       "      <th>genres</th>\n",
       "      <th>avg_rating</th>\n",
       "    </tr>\n",
       "  </thead>\n",
       "  <tbody>\n",
       "    <tr>\n",
       "      <th>0</th>\n",
       "      <td>259</td>\n",
       "      <td>255</td>\n",
       "      <td>4</td>\n",
       "      <td>874724710</td>\n",
       "      <td>My Best Friend's Wedding (1997)</td>\n",
       "      <td>Romance</td>\n",
       "      <td>4.0</td>\n",
       "    </tr>\n",
       "    <tr>\n",
       "      <th>1</th>\n",
       "      <td>259</td>\n",
       "      <td>286</td>\n",
       "      <td>4</td>\n",
       "      <td>874724727</td>\n",
       "      <td>English Patient, The (1996)</td>\n",
       "      <td>Romance, War</td>\n",
       "      <td>4.0</td>\n",
       "    </tr>\n",
       "    <tr>\n",
       "      <th>2</th>\n",
       "      <td>259</td>\n",
       "      <td>298</td>\n",
       "      <td>4</td>\n",
       "      <td>874724754</td>\n",
       "      <td>Face/Off (1997)</td>\n",
       "      <td>Action, Sci-Fi, Thriller</td>\n",
       "      <td>4.0</td>\n",
       "    </tr>\n",
       "    <tr>\n",
       "      <th>3</th>\n",
       "      <td>259</td>\n",
       "      <td>185</td>\n",
       "      <td>4</td>\n",
       "      <td>874724781</td>\n",
       "      <td>Psycho (1960)</td>\n",
       "      <td>Horror, Romance, Thriller</td>\n",
       "      <td>4.0</td>\n",
       "    </tr>\n",
       "    <tr>\n",
       "      <th>4</th>\n",
       "      <td>259</td>\n",
       "      <td>173</td>\n",
       "      <td>4</td>\n",
       "      <td>874724843</td>\n",
       "      <td>Princess Bride, The (1987)</td>\n",
       "      <td>Action, Adventure, Romance</td>\n",
       "      <td>4.0</td>\n",
       "    </tr>\n",
       "  </tbody>\n",
       "</table>\n",
       "</div>"
      ],
      "text/plain": [
       "   user_id  movie_id  rating  timestamp                      movie_title  \\\n",
       "0      259       255       4  874724710  My Best Friend's Wedding (1997)   \n",
       "1      259       286       4  874724727      English Patient, The (1996)   \n",
       "2      259       298       4  874724754                  Face/Off (1997)   \n",
       "3      259       185       4  874724781                    Psycho (1960)   \n",
       "4      259       173       4  874724843       Princess Bride, The (1987)   \n",
       "\n",
       "                       genres  avg_rating  \n",
       "0                     Romance         4.0  \n",
       "1                Romance, War         4.0  \n",
       "2    Action, Sci-Fi, Thriller         4.0  \n",
       "3   Horror, Romance, Thriller         4.0  \n",
       "4  Action, Adventure, Romance         4.0  "
      ]
     },
     "execution_count": 3,
     "metadata": {},
     "output_type": "execute_result"
    }
   ],
   "source": [
    "train.head()"
   ]
  },
  {
   "cell_type": "code",
   "execution_count": 318,
   "metadata": {},
   "outputs": [],
   "source": [
    "user_movies = train.groupby('user_id').apply(lambda x: x['movie_title'].tolist())"
   ]
  },
  {
   "cell_type": "code",
   "execution_count": 562,
   "metadata": {},
   "outputs": [],
   "source": [
    "def get_user_recent_movies(dataframe, n = 10):\n",
    "    return dataframe.groupby('user_id').apply(lambda x: x['movie_title'].tail(n).to_list())\n",
    "\n",
    "user_recent_movies = get_user_recent_movies(train)"
   ]
  },
  {
   "cell_type": "code",
   "execution_count": 493,
   "metadata": {},
   "outputs": [],
   "source": [
    "def get_user_top_movies(dataframe, n = 10):\n",
    "    return dataframe.groupby('user_id').apply(lambda x: x.sort_values('rating', ascending=False).head(n)['movie_title'].to_list())\n",
    "\n",
    "user_top_movies = get_user_top_movies(train)"
   ]
  },
  {
   "cell_type": "code",
   "execution_count": 652,
   "metadata": {},
   "outputs": [],
   "source": [
    "movie_genres = train.groupby('movie_title').apply(lambda x: x['genres'].unique().tolist()).apply(lambda x: x[0].split(\", \"))"
   ]
  },
  {
   "cell_type": "code",
   "execution_count": 613,
   "metadata": {},
   "outputs": [
    {
     "data": {
      "text/plain": [
       "user_id\n",
       "1      [Empire Strikes Back, The (1980), Usual Suspec...\n",
       "5      [Wrong Trousers, The (1993), This Is Spinal Ta...\n",
       "6      [Down by Law (1986), Graduate, The (1967), Lon...\n",
       "8      [Contact (1997), Die Hard (1988), Braveheart (...\n",
       "10     [Amadeus (1984), Taxi Driver (1976), All About...\n",
       "                             ...                        \n",
       "937    [Boot, Das (1981), Star Wars (1977), Dead Man ...\n",
       "939    [Jackal, The (1997), My Best Friend's Wedding ...\n",
       "940    [Titanic (1997), Air Force One (1997), Contact...\n",
       "941    [Toy Story (1995), Lone Star (1996), Close Sha...\n",
       "943    [Shawshank Redemption, The (1994), Courage Und...\n",
       "Length: 621, dtype: object"
      ]
     },
     "execution_count": 613,
     "metadata": {},
     "output_type": "execute_result"
    }
   ],
   "source": [
    "user_top_movies"
   ]
  },
  {
   "cell_type": "code",
   "execution_count": 663,
   "metadata": {},
   "outputs": [
    {
     "data": {
      "text/plain": [
       "['Empire Strikes Back, The (1980)',\n",
       " 'Usual Suspects, The (1995)',\n",
       " 'Maya Lin: A Strong Clear Vision (1994)',\n",
       " 'Brazil (1985)',\n",
       " 'Hoop Dreams (1994)',\n",
       " 'Blade Runner (1982)',\n",
       " 'Groundhog Day (1993)',\n",
       " 'Full Monty, The (1997)',\n",
       " 'Haunted World of Edward D. Wood Jr., The (1995)',\n",
       " 'Princess Bride, The (1987)']"
      ]
     },
     "execution_count": 663,
     "metadata": {},
     "output_type": "execute_result"
    }
   ],
   "source": [
    "user_top_movies[1]"
   ]
  },
  {
   "cell_type": "code",
   "execution_count": 686,
   "metadata": {},
   "outputs": [],
   "source": [
    "user_top_movie_genres = user_top_movies.apply(lambda x: pd.Series(movie_genres.loc[x].sum()).unique().tolist())"
   ]
  },
  {
   "cell_type": "code",
   "execution_count": 454,
   "metadata": {},
   "outputs": [],
   "source": [
    "user_ratings = train.drop_duplicates(['user_id', 'movie_title']).pivot(index='user_id', columns='movie_title', values='avg_rating').fillna(0)"
   ]
  },
  {
   "cell_type": "code",
   "execution_count": 455,
   "metadata": {},
   "outputs": [],
   "source": [
    "from scipy.sparse import csr_matrix\n",
    "sparse_user_ratings = csr_matrix(user_ratings)"
   ]
  },
  {
   "cell_type": "code",
   "execution_count": 302,
   "metadata": {},
   "outputs": [],
   "source": [
    "from sklearn.metrics.pairwise import cosine_similarity\n",
    "import numpy as np"
   ]
  },
  {
   "cell_type": "code",
   "execution_count": 459,
   "metadata": {},
   "outputs": [],
   "source": [
    "def get_similar_users(sparse_user_ratings, index, n = 10):\n",
    "    return pd.DataFrame(cosine_similarity(sparse_user_ratings) - np.identity(sparse_user_ratings.shape[0]), index = index, columns = index).apply(lambda x: list(x.sort_values(ascending = False).head(n).index), axis=1)\n",
    "\n",
    "similar_users = get_similar_users(sparse_user_ratings, user_ratings.index)"
   ]
  },
  {
   "cell_type": "code",
   "execution_count": 460,
   "metadata": {},
   "outputs": [
    {
     "data": {
      "text/plain": [
       "user_id\n",
       "1     [916, 457, 268, 435, 429, 823, 301, 276, 889, ...\n",
       "5      [648, 407, 307, 497, 268, 276, 22, 622, 804, 70]\n",
       "6       [18, 194, 716, 10, 666, 151, 321, 85, 389, 854]\n",
       "8      [746, 158, 37, 352, 638, 425, 22, 627, 671, 538]\n",
       "10      [6, 406, 666, 389, 321, 398, 524, 716, 194, 18]\n",
       "dtype: object"
      ]
     },
     "execution_count": 460,
     "metadata": {},
     "output_type": "execute_result"
    }
   ],
   "source": [
    "similar_users.head()"
   ]
  },
  {
   "cell_type": "code",
   "execution_count": 501,
   "metadata": {},
   "outputs": [],
   "source": [
    "def get_candidate_movies(similar_users, dataframe, n = 10):\n",
    "    return similar_users.apply(lambda x: dataframe.loc[dataframe['user_id'].isin(x), 'movie_title'].unique()[:10])\n",
    "\n",
    "candidate_movies = get_candidate_movies(similar_users, train)"
   ]
  },
  {
   "cell_type": "code",
   "execution_count": 687,
   "metadata": {},
   "outputs": [],
   "source": [
    "user_prompt_data = pd.concat((user_movies, user_top_movies, user_recent_movies, similar_users, candidate_movies, user_top_movie_genres), axis = 1, keys = ['user_movies', 'user_top_movies', 'user_recent_movies', 'similar_users', 'candidate_movies', 'user_top_movie_genres'])"
   ]
  },
  {
   "cell_type": "code",
   "execution_count": 570,
   "metadata": {},
   "outputs": [],
   "source": [
    "new_line = '\\n'\n",
    "\n",
    "def createPrompt(each):\n",
    "    return f\"\"\"I am user {each}.\n",
    "The most recent ten movies I have seen are:\n",
    "{\", \".join(user_prompt_data.loc[each, 'user_recent_movies'])}.\n",
    "My top rated movies are:\n",
    "{\", \".join(user_prompt_data.loc[each, 'user_top_movies'])}.\n",
    "The users who are most like me are {\", \".join([str(each) for each in user_prompt_data.loc[each, 'similar_users']])}.\n",
    "The top movies for each of these users are:\n",
    "{new_line.join([f\"{each}: {', '.join(user_prompt_data.loc[each, 'user_top_movies'])}\" for each in user_prompt_data.loc[each, 'similar_users']])}.\n",
    "Please recommend ten movies for me to watch that I have not seen. Provide brackets around your recommendations so I can easily parse them.\n",
    "For example (['Midnight Cowboy (1969)', 'Lost in Translation (2003)', etc.])\"\"\"\n",
    "    "
   ]
  },
  {
   "cell_type": "code",
   "execution_count": 571,
   "metadata": {},
   "outputs": [],
   "source": [
    "prompts = pd.Series(user_prompt_data.index, index = user_prompt_data.index).apply(lambda x: createPrompt(x))"
   ]
  },
  {
   "cell_type": "code",
   "execution_count": 572,
   "metadata": {},
   "outputs": [],
   "source": [
    "from openai import OpenAI\n",
    "from key import OPENAI_API_KEY\n",
    "client = OpenAI(api_key=OPENAI_API_KEY)"
   ]
  },
  {
   "cell_type": "code",
   "execution_count": 593,
   "metadata": {},
   "outputs": [],
   "source": [
    "response = prompts.iloc[:50].apply(lambda x: client.chat.completions.create(\n",
    "    model=\"gpt-3.5-turbo\",\n",
    "        messages= [{ 'role':'user','content' : x}],\n",
    "        # temperature=0,\n",
    "        # max_tokens=512,\n",
    "        # top_p=1,\n",
    "        # frequency_penalty=0,\n",
    "        # presence_penalty=0,\n",
    "        ))"
   ]
  },
  {
   "cell_type": "code",
   "execution_count": 594,
   "metadata": {},
   "outputs": [],
   "source": [
    "recommendations = response.apply(lambda x: x.choices[0].message.content.split(\"[\")[1].split(\"]\")[0].split(\", \"))"
   ]
  },
  {
   "cell_type": "code",
   "execution_count": 597,
   "metadata": {},
   "outputs": [
    {
     "data": {
      "text/plain": [
       "ChatCompletion(id='chatcmpl-8Tfbc3XUkdfOBkz6zLZYYrtVW6F9j', choices=[Choice(finish_reason='stop', index=0, message=ChatCompletionMessage(content=\"Here are ten movie recommendations for you:\\n\\n1. ['The Shawshank Redemption (1994)']\\n2. ['Inception (2010)']\\n3. ['The Godfather (1972)']\\n4. ['Schindler's List (1993)']\\n5. ['Fight Club (1999)']\\n6. ['The Matrix (1999)']\\n7. ['The Dark Knight (2008)']\\n8. ['The Lord of the Rings: The Fellowship of the Ring (2001)']\\n9. ['Pulp Fiction (1994)']\\n10. ['The Silence of the Lambs (1991)']\", role='assistant', function_call=None, tool_calls=None))], created=1702082136, model='gpt-3.5-turbo-0613', object='chat.completion', system_fingerprint=None, usage=CompletionUsage(completion_tokens=130, prompt_tokens=1057, total_tokens=1187))"
      ]
     },
     "execution_count": 597,
     "metadata": {},
     "output_type": "execute_result"
    }
   ],
   "source": [
    "response[8]"
   ]
  },
  {
   "cell_type": "code",
   "execution_count": 595,
   "metadata": {},
   "outputs": [
    {
     "data": {
      "text/plain": [
       "user_id\n",
       "1     ['Shawshank Redemption, The (1994)', 'Godfathe...\n",
       "5     ['Pulp Fiction (1994)', 'The Shawshank Redempt...\n",
       "6     ['Pulp Fiction (1994)', 'Fight Club (1999)', '...\n",
       "8                   ['The Shawshank Redemption (1994)']\n",
       "10                           ['Midnight Cowboy (1969)']\n",
       "Name: user_id, dtype: object"
      ]
     },
     "execution_count": 595,
     "metadata": {},
     "output_type": "execute_result"
    }
   ],
   "source": [
    "recommendations.head()"
   ]
  },
  {
   "cell_type": "code",
   "execution_count": 337,
   "metadata": {},
   "outputs": [],
   "source": [
    "test = pd.read_csv('../data/test.csv')"
   ]
  },
  {
   "cell_type": "code",
   "execution_count": 338,
   "metadata": {},
   "outputs": [],
   "source": [
    "user_movies_test = test.groupby('user_id').apply(lambda x: x['movie_title'].tolist())"
   ]
  },
  {
   "cell_type": "code",
   "execution_count": 598,
   "metadata": {},
   "outputs": [],
   "source": [
    "hits = pd.concat((user_movies_test, recommendations), axis=1).dropna().apply(lambda x: len(set(x.iloc[0]).intersection(x.iloc[1])), axis = 1)"
   ]
  },
  {
   "cell_type": "code",
   "execution_count": 599,
   "metadata": {},
   "outputs": [
    {
     "data": {
      "text/plain": [
       "user_id\n",
       "1     0\n",
       "13    0\n",
       "14    0\n",
       "23    0\n",
       "30    0\n",
       "43    0\n",
       "54    0\n",
       "58    0\n",
       "60    0\n",
       "64    0\n",
       "dtype: int64"
      ]
     },
     "execution_count": 599,
     "metadata": {},
     "output_type": "execute_result"
    }
   ],
   "source": [
    "hits"
   ]
  },
  {
   "cell_type": "code",
   "execution_count": 734,
   "metadata": {},
   "outputs": [],
   "source": [
    "def promptTemplate(each):\n",
    "    return f\"\"\"\n",
    "Candidate Set (candidate movies): {user_prompt_data.loc[each, 'candidate_movies']}.\n",
    "The movies I have rated highly (watched movies): {user_prompt_data.loc[each, 'user_top_movies']}.\n",
    "Their genres are: {user_prompt_data.loc[each, 'user_top_movie_genres']}.\n",
    "Can you recommend 10 movies from the Candidate Set similar to but not in the selected movies I've watched?.\n",
    "(Format Example: Here are the 10 movies recommended for you: [Midnight Cowboy (1969){new_line}Lost in Translation (2003){new_line}etc.])\n",
    "Answer: \n",
    "\"\"\""
   ]
  },
  {
   "cell_type": "code",
   "execution_count": 733,
   "metadata": {},
   "outputs": [
    {
     "ename": "SyntaxError",
     "evalue": "f-string: empty expression not allowed (1132140648.py, line 20)",
     "output_type": "error",
     "traceback": [
      "\u001b[1;36m  Cell \u001b[1;32mIn[733], line 20\u001b[1;36m\u001b[0m\n\u001b[1;33m    \"\"\"\u001b[0m\n\u001b[1;37m       ^\u001b[0m\n\u001b[1;31mSyntaxError\u001b[0m\u001b[1;31m:\u001b[0m f-string: empty expression not allowed\n"
     ]
    }
   ],
   "source": [
    "def promptTemplate1(each):\n",
    "    return f\"\"\"\n",
    "Candidate Set (candidate movies): {user_prompt_data.loc[each, 'candidate_movies']}.\n",
    "The movies I have rated highly (watched movies): {user_prompt_data.loc[each, 'user_top_movies']}.\n",
    "Their genres are: {user_prompt_data.loc[each, 'user_top_movie_genres']}.\n",
    "Step 1: What features are most important to me when selecting movies (Summarize my preferences briefly)? \n",
    "Answer: \n",
    "\"\"\"\n",
    "\n",
    "def promptTemplate2(each):\n",
    "    return f\"\"\"\n",
    "Candidate Set (candidate movies): {user_prompt_data.loc[each, 'candidate_movies']}.\n",
    "The movies I have rated highly (watched movies): {user_prompt_data.loc[each, 'user_top_movies']}.\n",
    "Their genres are: {user_prompt_data.loc[each, 'user_top_movie_genres']}.\n",
    "Step 1: What features are most important to me when selecting movies (Summarize my preferences briefly)? \n",
    "Answer: {}.\n",
    "Step 2: Can you recommend 10 movies from the Candidate Set similar to but not in the selected movies I've watched?.\n",
    "(Format Example: Here are the 10 movies recommended for you: [Midnight Cowboy (1969){new_line}Lost in Translation (2003){new_line} etc.])\n",
    "Answer: \n",
    "\"\"\""
   ]
  },
  {
   "cell_type": "code",
   "execution_count": 722,
   "metadata": {},
   "outputs": [],
   "source": [
    "prompts = pd.Series(user_prompt_data.index, index = user_prompt_data.index).apply(lambda x: promptTemplate(x))"
   ]
  },
  {
   "cell_type": "code",
   "execution_count": 723,
   "metadata": {},
   "outputs": [
    {
     "data": {
      "text/plain": [
       "user_id\n",
       "1     \\nCandidate Set (candidate movies): ['Contact ...\n",
       "5     \\nCandidate Set (candidate movies): ['Contact ...\n",
       "6     \\nCandidate Set (candidate movies): ['Full Mon...\n",
       "8     \\nCandidate Set (candidate movies): ['Contact ...\n",
       "10    \\nCandidate Set (candidate movies): ['Keys to ...\n",
       "Name: user_id, dtype: object"
      ]
     },
     "execution_count": 723,
     "metadata": {},
     "output_type": "execute_result"
    }
   ],
   "source": [
    "prompts.head()"
   ]
  },
  {
   "cell_type": "code",
   "execution_count": 724,
   "metadata": {},
   "outputs": [],
   "source": [
    "response = prompts.iloc[:10].apply(lambda x: client.chat.completions.create(\n",
    "    model=\"gpt-3.5-turbo\",\n",
    "        messages= [{ 'role':'user','content' : x}],\n",
    "        # temperature=0,\n",
    "        # max_tokens=512,\n",
    "        # top_p=1,\n",
    "        # frequency_penalty=0,\n",
    "        # presence_penalty=0,\n",
    "        ))"
   ]
  },
  {
   "cell_type": "code",
   "execution_count": 725,
   "metadata": {},
   "outputs": [
    {
     "data": {
      "text/plain": [
       "ChatCompletion(id='chatcmpl-8TgkpqWgLPKUh1MRp0o3sQHSk6BSR', choices=[Choice(finish_reason='stop', index=0, message=ChatCompletionMessage(content='Here are 10 movies recommended for you: [\\'Contact (1997)\\', \\'Air Force One (1997)\\', \\'Conspiracy Theory (1997)\\', \\'Liar Liar (1997)\\', \"Dante\\'s Peak (1997)\", \\'Murder at 1600 (1997)\\', \\'Scream (1996)\\', \\'Spawn (1997)\\', \\'Crash (1996)\\', \\'Lost Highway (1997)\\']', role='assistant', function_call=None, tool_calls=None))], created=1702086551, model='gpt-3.5-turbo-0613', object='chat.completion', system_fingerprint=None, usage=CompletionUsage(completion_tokens=88, prompt_tokens=299, total_tokens=387))"
      ]
     },
     "execution_count": 725,
     "metadata": {},
     "output_type": "execute_result"
    }
   ],
   "source": [
    "response[1]"
   ]
  },
  {
   "cell_type": "code",
   "execution_count": 737,
   "metadata": {},
   "outputs": [],
   "source": [
    "recommendations = response.apply(lambda x: x.choices[0].message.content.split(\"[\")[-1].split(\"]\")[0].split(\"\\n\"))"
   ]
  },
  {
   "cell_type": "code",
   "execution_count": 739,
   "metadata": {},
   "outputs": [
    {
     "data": {
      "text/plain": [
       "user_id\n",
       "1     ['Contact (1997)', 'Air Force One (1997)', 'Co...\n",
       "5     ['Contact (1997)', 'Air Force One (1997)', 'Co...\n",
       "6     ['L.A. Confidential (1997)', 'English Patient,...\n",
       "8     ['Saint, The (1997)', 'Cop Land (1997)', 'Retu...\n",
       "10    ['Keys to Tulsa (1997)', 'First Wives Club, Th...\n",
       "Name: user_id, dtype: object"
      ]
     },
     "execution_count": 739,
     "metadata": {},
     "output_type": "execute_result"
    }
   ],
   "source": [
    "recommendations.head()"
   ]
  },
  {
   "cell_type": "code",
   "execution_count": 712,
   "metadata": {},
   "outputs": [],
   "source": [
    "hits = pd.concat((user_movies_test, recommendations), axis=1).dropna().apply(lambda x: len(set(x.iloc[0]).intersection(x.iloc[1])), axis = 1)"
   ]
  },
  {
   "cell_type": "code",
   "execution_count": 713,
   "metadata": {},
   "outputs": [
    {
     "data": {
      "text/plain": [
       "user_id\n",
       "1     0\n",
       "13    0\n",
       "14    0\n",
       "dtype: int64"
      ]
     },
     "execution_count": 713,
     "metadata": {},
     "output_type": "execute_result"
    }
   ],
   "source": [
    "hits"
   ]
  },
  {
   "cell_type": "code",
   "execution_count": null,
   "metadata": {},
   "outputs": [],
   "source": []
  }
 ],
 "metadata": {
  "kernelspec": {
   "display_name": ".openai_env",
   "language": "python",
   "name": "python3"
  },
  "language_info": {
   "codemirror_mode": {
    "name": "ipython",
    "version": 3
   },
   "file_extension": ".py",
   "mimetype": "text/x-python",
   "name": "python",
   "nbconvert_exporter": "python",
   "pygments_lexer": "ipython3",
   "version": "3.10.6"
  }
 },
 "nbformat": 4,
 "nbformat_minor": 2
}
