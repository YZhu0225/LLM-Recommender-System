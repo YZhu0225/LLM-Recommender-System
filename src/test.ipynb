{
 "cells": [
  {
   "cell_type": "code",
   "execution_count": 53,
   "metadata": {},
   "outputs": [],
   "source": [
    "import pandas as pd\n",
    "import numpy as np"
   ]
  },
  {
   "cell_type": "code",
   "execution_count": 54,
   "metadata": {},
   "outputs": [
    {
     "data": {
      "text/html": [
       "<div>\n",
       "<style scoped>\n",
       "    .dataframe tbody tr th:only-of-type {\n",
       "        vertical-align: middle;\n",
       "    }\n",
       "\n",
       "    .dataframe tbody tr th {\n",
       "        vertical-align: top;\n",
       "    }\n",
       "\n",
       "    .dataframe thead th {\n",
       "        text-align: right;\n",
       "    }\n",
       "</style>\n",
       "<table border=\"1\" class=\"dataframe\">\n",
       "  <thead>\n",
       "    <tr style=\"text-align: right;\">\n",
       "      <th></th>\n",
       "      <th>user id</th>\n",
       "      <th>movie id</th>\n",
       "      <th>rating</th>\n",
       "      <th>timestamp</th>\n",
       "    </tr>\n",
       "  </thead>\n",
       "  <tbody>\n",
       "    <tr>\n",
       "      <th>0</th>\n",
       "      <td>196</td>\n",
       "      <td>242</td>\n",
       "      <td>3</td>\n",
       "      <td>881250949</td>\n",
       "    </tr>\n",
       "    <tr>\n",
       "      <th>1</th>\n",
       "      <td>186</td>\n",
       "      <td>302</td>\n",
       "      <td>3</td>\n",
       "      <td>891717742</td>\n",
       "    </tr>\n",
       "    <tr>\n",
       "      <th>2</th>\n",
       "      <td>22</td>\n",
       "      <td>377</td>\n",
       "      <td>1</td>\n",
       "      <td>878887116</td>\n",
       "    </tr>\n",
       "    <tr>\n",
       "      <th>3</th>\n",
       "      <td>244</td>\n",
       "      <td>51</td>\n",
       "      <td>2</td>\n",
       "      <td>880606923</td>\n",
       "    </tr>\n",
       "    <tr>\n",
       "      <th>4</th>\n",
       "      <td>166</td>\n",
       "      <td>346</td>\n",
       "      <td>1</td>\n",
       "      <td>886397596</td>\n",
       "    </tr>\n",
       "  </tbody>\n",
       "</table>\n",
       "</div>"
      ],
      "text/plain": [
       "   user id  movie id  rating  timestamp\n",
       "0      196       242       3  881250949\n",
       "1      186       302       3  891717742\n",
       "2       22       377       1  878887116\n",
       "3      244        51       2  880606923\n",
       "4      166       346       1  886397596"
      ]
     },
     "execution_count": 54,
     "metadata": {},
     "output_type": "execute_result"
    }
   ],
   "source": [
    "data_cols = ['user id','movie id','rating','timestamp']\n",
    "data = pd.read_csv('/workspaces/LLM-Recommender-System/data/ml-100k/u.data', sep='\\t', header=None, names=data_cols)\n",
    "data.head()"
   ]
  },
  {
   "cell_type": "code",
   "execution_count": 55,
   "metadata": {},
   "outputs": [
    {
     "data": {
      "text/html": [
       "<div>\n",
       "<style scoped>\n",
       "    .dataframe tbody tr th:only-of-type {\n",
       "        vertical-align: middle;\n",
       "    }\n",
       "\n",
       "    .dataframe tbody tr th {\n",
       "        vertical-align: top;\n",
       "    }\n",
       "\n",
       "    .dataframe thead th {\n",
       "        text-align: right;\n",
       "    }\n",
       "</style>\n",
       "<table border=\"1\" class=\"dataframe\">\n",
       "  <thead>\n",
       "    <tr style=\"text-align: right;\">\n",
       "      <th></th>\n",
       "      <th>movie id</th>\n",
       "      <th>movie title</th>\n",
       "      <th>release date</th>\n",
       "      <th>video release date</th>\n",
       "      <th>IMDb URL</th>\n",
       "      <th>unknown</th>\n",
       "      <th>Action</th>\n",
       "      <th>Adventure</th>\n",
       "      <th>Animation</th>\n",
       "      <th>Children</th>\n",
       "      <th>...</th>\n",
       "      <th>Fantasy</th>\n",
       "      <th>Film-Noir</th>\n",
       "      <th>Horror</th>\n",
       "      <th>Musical</th>\n",
       "      <th>Mystery</th>\n",
       "      <th>Romance</th>\n",
       "      <th>Sci-Fi</th>\n",
       "      <th>Thriller</th>\n",
       "      <th>War</th>\n",
       "      <th>Western</th>\n",
       "    </tr>\n",
       "  </thead>\n",
       "  <tbody>\n",
       "    <tr>\n",
       "      <th>0</th>\n",
       "      <td>1</td>\n",
       "      <td>Toy Story (1995)</td>\n",
       "      <td>01-Jan-1995</td>\n",
       "      <td>NaN</td>\n",
       "      <td>http://us.imdb.com/M/title-exact?Toy%20Story%2...</td>\n",
       "      <td>0</td>\n",
       "      <td>0</td>\n",
       "      <td>0</td>\n",
       "      <td>1</td>\n",
       "      <td>1</td>\n",
       "      <td>...</td>\n",
       "      <td>0</td>\n",
       "      <td>0</td>\n",
       "      <td>0</td>\n",
       "      <td>0</td>\n",
       "      <td>0</td>\n",
       "      <td>0</td>\n",
       "      <td>0</td>\n",
       "      <td>0</td>\n",
       "      <td>0</td>\n",
       "      <td>0</td>\n",
       "    </tr>\n",
       "    <tr>\n",
       "      <th>1</th>\n",
       "      <td>2</td>\n",
       "      <td>GoldenEye (1995)</td>\n",
       "      <td>01-Jan-1995</td>\n",
       "      <td>NaN</td>\n",
       "      <td>http://us.imdb.com/M/title-exact?GoldenEye%20(...</td>\n",
       "      <td>0</td>\n",
       "      <td>1</td>\n",
       "      <td>1</td>\n",
       "      <td>0</td>\n",
       "      <td>0</td>\n",
       "      <td>...</td>\n",
       "      <td>0</td>\n",
       "      <td>0</td>\n",
       "      <td>0</td>\n",
       "      <td>0</td>\n",
       "      <td>0</td>\n",
       "      <td>0</td>\n",
       "      <td>0</td>\n",
       "      <td>1</td>\n",
       "      <td>0</td>\n",
       "      <td>0</td>\n",
       "    </tr>\n",
       "    <tr>\n",
       "      <th>2</th>\n",
       "      <td>3</td>\n",
       "      <td>Four Rooms (1995)</td>\n",
       "      <td>01-Jan-1995</td>\n",
       "      <td>NaN</td>\n",
       "      <td>http://us.imdb.com/M/title-exact?Four%20Rooms%...</td>\n",
       "      <td>0</td>\n",
       "      <td>0</td>\n",
       "      <td>0</td>\n",
       "      <td>0</td>\n",
       "      <td>0</td>\n",
       "      <td>...</td>\n",
       "      <td>0</td>\n",
       "      <td>0</td>\n",
       "      <td>0</td>\n",
       "      <td>0</td>\n",
       "      <td>0</td>\n",
       "      <td>0</td>\n",
       "      <td>0</td>\n",
       "      <td>1</td>\n",
       "      <td>0</td>\n",
       "      <td>0</td>\n",
       "    </tr>\n",
       "    <tr>\n",
       "      <th>3</th>\n",
       "      <td>4</td>\n",
       "      <td>Get Shorty (1995)</td>\n",
       "      <td>01-Jan-1995</td>\n",
       "      <td>NaN</td>\n",
       "      <td>http://us.imdb.com/M/title-exact?Get%20Shorty%...</td>\n",
       "      <td>0</td>\n",
       "      <td>1</td>\n",
       "      <td>0</td>\n",
       "      <td>0</td>\n",
       "      <td>0</td>\n",
       "      <td>...</td>\n",
       "      <td>0</td>\n",
       "      <td>0</td>\n",
       "      <td>0</td>\n",
       "      <td>0</td>\n",
       "      <td>0</td>\n",
       "      <td>0</td>\n",
       "      <td>0</td>\n",
       "      <td>0</td>\n",
       "      <td>0</td>\n",
       "      <td>0</td>\n",
       "    </tr>\n",
       "    <tr>\n",
       "      <th>4</th>\n",
       "      <td>5</td>\n",
       "      <td>Copycat (1995)</td>\n",
       "      <td>01-Jan-1995</td>\n",
       "      <td>NaN</td>\n",
       "      <td>http://us.imdb.com/M/title-exact?Copycat%20(1995)</td>\n",
       "      <td>0</td>\n",
       "      <td>0</td>\n",
       "      <td>0</td>\n",
       "      <td>0</td>\n",
       "      <td>0</td>\n",
       "      <td>...</td>\n",
       "      <td>0</td>\n",
       "      <td>0</td>\n",
       "      <td>0</td>\n",
       "      <td>0</td>\n",
       "      <td>0</td>\n",
       "      <td>0</td>\n",
       "      <td>0</td>\n",
       "      <td>1</td>\n",
       "      <td>0</td>\n",
       "      <td>0</td>\n",
       "    </tr>\n",
       "  </tbody>\n",
       "</table>\n",
       "<p>5 rows × 24 columns</p>\n",
       "</div>"
      ],
      "text/plain": [
       "   movie id        movie title release date  video release date  \\\n",
       "0         1   Toy Story (1995)  01-Jan-1995                 NaN   \n",
       "1         2   GoldenEye (1995)  01-Jan-1995                 NaN   \n",
       "2         3  Four Rooms (1995)  01-Jan-1995                 NaN   \n",
       "3         4  Get Shorty (1995)  01-Jan-1995                 NaN   \n",
       "4         5     Copycat (1995)  01-Jan-1995                 NaN   \n",
       "\n",
       "                                            IMDb URL  unknown  Action  \\\n",
       "0  http://us.imdb.com/M/title-exact?Toy%20Story%2...        0       0   \n",
       "1  http://us.imdb.com/M/title-exact?GoldenEye%20(...        0       1   \n",
       "2  http://us.imdb.com/M/title-exact?Four%20Rooms%...        0       0   \n",
       "3  http://us.imdb.com/M/title-exact?Get%20Shorty%...        0       1   \n",
       "4  http://us.imdb.com/M/title-exact?Copycat%20(1995)        0       0   \n",
       "\n",
       "   Adventure  Animation  Children  ...  Fantasy  Film-Noir  Horror  Musical  \\\n",
       "0          0          1         1  ...        0          0       0        0   \n",
       "1          1          0         0  ...        0          0       0        0   \n",
       "2          0          0         0  ...        0          0       0        0   \n",
       "3          0          0         0  ...        0          0       0        0   \n",
       "4          0          0         0  ...        0          0       0        0   \n",
       "\n",
       "   Mystery  Romance  Sci-Fi  Thriller  War  Western  \n",
       "0        0        0       0         0    0        0  \n",
       "1        0        0       0         1    0        0  \n",
       "2        0        0       0         1    0        0  \n",
       "3        0        0       0         0    0        0  \n",
       "4        0        0       0         1    0        0  \n",
       "\n",
       "[5 rows x 24 columns]"
      ]
     },
     "execution_count": 55,
     "metadata": {},
     "output_type": "execute_result"
    }
   ],
   "source": [
    "item_cols = ['movie id',  'movie title', 'release date', 'video release date','IMDb URL', 'unknown',\\\n",
    "'Action', 'Adventure', 'Animation', 'Children', 'Comedy', 'Crime', 'Documentary', 'Drama','Fantasy', \\\n",
    "'Film-Noir', 'Horror', 'Musical', 'Mystery', 'Romance','Sci-Fi', 'Thriller', 'War', 'Western']\n",
    "item = pd.read_csv('/workspaces/LLM-Recommender-System/data/ml-100k/u.item',  sep='|',header=None,names=item_cols,encoding='latin-1')\n",
    "item.head()"
   ]
  },
  {
   "cell_type": "code",
   "execution_count": 56,
   "metadata": {},
   "outputs": [
    {
     "data": {
      "text/html": [
       "<div>\n",
       "<style scoped>\n",
       "    .dataframe tbody tr th:only-of-type {\n",
       "        vertical-align: middle;\n",
       "    }\n",
       "\n",
       "    .dataframe tbody tr th {\n",
       "        vertical-align: top;\n",
       "    }\n",
       "\n",
       "    .dataframe thead th {\n",
       "        text-align: right;\n",
       "    }\n",
       "</style>\n",
       "<table border=\"1\" class=\"dataframe\">\n",
       "  <thead>\n",
       "    <tr style=\"text-align: right;\">\n",
       "      <th></th>\n",
       "      <th>movie id</th>\n",
       "      <th>movie title</th>\n",
       "      <th>release date</th>\n",
       "      <th>video release date</th>\n",
       "      <th>IMDb URL</th>\n",
       "      <th>unknown</th>\n",
       "      <th>Action</th>\n",
       "      <th>Adventure</th>\n",
       "      <th>Animation</th>\n",
       "      <th>Children</th>\n",
       "      <th>...</th>\n",
       "      <th>Film-Noir</th>\n",
       "      <th>Horror</th>\n",
       "      <th>Musical</th>\n",
       "      <th>Mystery</th>\n",
       "      <th>Romance</th>\n",
       "      <th>Sci-Fi</th>\n",
       "      <th>Thriller</th>\n",
       "      <th>War</th>\n",
       "      <th>Western</th>\n",
       "      <th>Genres</th>\n",
       "    </tr>\n",
       "  </thead>\n",
       "  <tbody>\n",
       "    <tr>\n",
       "      <th>0</th>\n",
       "      <td>1</td>\n",
       "      <td>Toy Story (1995)</td>\n",
       "      <td>01-Jan-1995</td>\n",
       "      <td>NaN</td>\n",
       "      <td>http://us.imdb.com/M/title-exact?Toy%20Story%2...</td>\n",
       "      <td>0</td>\n",
       "      <td>0</td>\n",
       "      <td>0</td>\n",
       "      <td>1</td>\n",
       "      <td>1</td>\n",
       "      <td>...</td>\n",
       "      <td>0</td>\n",
       "      <td>0</td>\n",
       "      <td>0</td>\n",
       "      <td>0</td>\n",
       "      <td>0</td>\n",
       "      <td>0</td>\n",
       "      <td>0</td>\n",
       "      <td>0</td>\n",
       "      <td>0</td>\n",
       "      <td>Animation, Children</td>\n",
       "    </tr>\n",
       "    <tr>\n",
       "      <th>1</th>\n",
       "      <td>2</td>\n",
       "      <td>GoldenEye (1995)</td>\n",
       "      <td>01-Jan-1995</td>\n",
       "      <td>NaN</td>\n",
       "      <td>http://us.imdb.com/M/title-exact?GoldenEye%20(...</td>\n",
       "      <td>0</td>\n",
       "      <td>1</td>\n",
       "      <td>1</td>\n",
       "      <td>0</td>\n",
       "      <td>0</td>\n",
       "      <td>...</td>\n",
       "      <td>0</td>\n",
       "      <td>0</td>\n",
       "      <td>0</td>\n",
       "      <td>0</td>\n",
       "      <td>0</td>\n",
       "      <td>0</td>\n",
       "      <td>1</td>\n",
       "      <td>0</td>\n",
       "      <td>0</td>\n",
       "      <td>Action, Adventure, Thriller</td>\n",
       "    </tr>\n",
       "    <tr>\n",
       "      <th>2</th>\n",
       "      <td>3</td>\n",
       "      <td>Four Rooms (1995)</td>\n",
       "      <td>01-Jan-1995</td>\n",
       "      <td>NaN</td>\n",
       "      <td>http://us.imdb.com/M/title-exact?Four%20Rooms%...</td>\n",
       "      <td>0</td>\n",
       "      <td>0</td>\n",
       "      <td>0</td>\n",
       "      <td>0</td>\n",
       "      <td>0</td>\n",
       "      <td>...</td>\n",
       "      <td>0</td>\n",
       "      <td>0</td>\n",
       "      <td>0</td>\n",
       "      <td>0</td>\n",
       "      <td>0</td>\n",
       "      <td>0</td>\n",
       "      <td>1</td>\n",
       "      <td>0</td>\n",
       "      <td>0</td>\n",
       "      <td>Thriller</td>\n",
       "    </tr>\n",
       "    <tr>\n",
       "      <th>3</th>\n",
       "      <td>4</td>\n",
       "      <td>Get Shorty (1995)</td>\n",
       "      <td>01-Jan-1995</td>\n",
       "      <td>NaN</td>\n",
       "      <td>http://us.imdb.com/M/title-exact?Get%20Shorty%...</td>\n",
       "      <td>0</td>\n",
       "      <td>1</td>\n",
       "      <td>0</td>\n",
       "      <td>0</td>\n",
       "      <td>0</td>\n",
       "      <td>...</td>\n",
       "      <td>0</td>\n",
       "      <td>0</td>\n",
       "      <td>0</td>\n",
       "      <td>0</td>\n",
       "      <td>0</td>\n",
       "      <td>0</td>\n",
       "      <td>0</td>\n",
       "      <td>0</td>\n",
       "      <td>0</td>\n",
       "      <td>Action</td>\n",
       "    </tr>\n",
       "    <tr>\n",
       "      <th>4</th>\n",
       "      <td>5</td>\n",
       "      <td>Copycat (1995)</td>\n",
       "      <td>01-Jan-1995</td>\n",
       "      <td>NaN</td>\n",
       "      <td>http://us.imdb.com/M/title-exact?Copycat%20(1995)</td>\n",
       "      <td>0</td>\n",
       "      <td>0</td>\n",
       "      <td>0</td>\n",
       "      <td>0</td>\n",
       "      <td>0</td>\n",
       "      <td>...</td>\n",
       "      <td>0</td>\n",
       "      <td>0</td>\n",
       "      <td>0</td>\n",
       "      <td>0</td>\n",
       "      <td>0</td>\n",
       "      <td>0</td>\n",
       "      <td>1</td>\n",
       "      <td>0</td>\n",
       "      <td>0</td>\n",
       "      <td>Thriller</td>\n",
       "    </tr>\n",
       "  </tbody>\n",
       "</table>\n",
       "<p>5 rows × 25 columns</p>\n",
       "</div>"
      ],
      "text/plain": [
       "   movie id        movie title release date  video release date  \\\n",
       "0         1   Toy Story (1995)  01-Jan-1995                 NaN   \n",
       "1         2   GoldenEye (1995)  01-Jan-1995                 NaN   \n",
       "2         3  Four Rooms (1995)  01-Jan-1995                 NaN   \n",
       "3         4  Get Shorty (1995)  01-Jan-1995                 NaN   \n",
       "4         5     Copycat (1995)  01-Jan-1995                 NaN   \n",
       "\n",
       "                                            IMDb URL  unknown  Action  \\\n",
       "0  http://us.imdb.com/M/title-exact?Toy%20Story%2...        0       0   \n",
       "1  http://us.imdb.com/M/title-exact?GoldenEye%20(...        0       1   \n",
       "2  http://us.imdb.com/M/title-exact?Four%20Rooms%...        0       0   \n",
       "3  http://us.imdb.com/M/title-exact?Get%20Shorty%...        0       1   \n",
       "4  http://us.imdb.com/M/title-exact?Copycat%20(1995)        0       0   \n",
       "\n",
       "   Adventure  Animation  Children  ...  Film-Noir  Horror  Musical  Mystery  \\\n",
       "0          0          1         1  ...          0       0        0        0   \n",
       "1          1          0         0  ...          0       0        0        0   \n",
       "2          0          0         0  ...          0       0        0        0   \n",
       "3          0          0         0  ...          0       0        0        0   \n",
       "4          0          0         0  ...          0       0        0        0   \n",
       "\n",
       "   Romance  Sci-Fi  Thriller  War  Western                       Genres  \n",
       "0        0       0         0    0        0          Animation, Children  \n",
       "1        0       0         1    0        0  Action, Adventure, Thriller  \n",
       "2        0       0         1    0        0                     Thriller  \n",
       "3        0       0         0    0        0                       Action  \n",
       "4        0       0         1    0        0                     Thriller  \n",
       "\n",
       "[5 rows x 25 columns]"
      ]
     },
     "execution_count": 56,
     "metadata": {},
     "output_type": "execute_result"
    }
   ],
   "source": [
    "# Assuming 'df' is your DataFrame\n",
    "genre_columns = ['Action', 'Adventure', 'Animation', 'Children', 'Fantasy', 'Film-Noir', 'Horror', 'Musical', 'Mystery', 'Romance', 'Sci-Fi', 'Thriller', 'War', 'Western']\n",
    "\n",
    "# Function to get genres for a row\n",
    "def get_genres(row):\n",
    "    genres = [genre for genre in genre_columns if row[genre] == 1]\n",
    "    return ', '.join(genres) if genres else 'unknown'\n",
    "\n",
    "# Apply the function to each row\n",
    "item['Genres'] = item.apply(get_genres, axis=1)\n",
    "item.head()"
   ]
  },
  {
   "cell_type": "code",
   "execution_count": 57,
   "metadata": {},
   "outputs": [
    {
     "data": {
      "text/html": [
       "<div>\n",
       "<style scoped>\n",
       "    .dataframe tbody tr th:only-of-type {\n",
       "        vertical-align: middle;\n",
       "    }\n",
       "\n",
       "    .dataframe tbody tr th {\n",
       "        vertical-align: top;\n",
       "    }\n",
       "\n",
       "    .dataframe thead th {\n",
       "        text-align: right;\n",
       "    }\n",
       "</style>\n",
       "<table border=\"1\" class=\"dataframe\">\n",
       "  <thead>\n",
       "    <tr style=\"text-align: right;\">\n",
       "      <th></th>\n",
       "      <th>movie id</th>\n",
       "      <th>movie title</th>\n",
       "      <th>Genres</th>\n",
       "    </tr>\n",
       "  </thead>\n",
       "  <tbody>\n",
       "    <tr>\n",
       "      <th>0</th>\n",
       "      <td>1</td>\n",
       "      <td>Toy Story (1995)</td>\n",
       "      <td>Animation, Children</td>\n",
       "    </tr>\n",
       "    <tr>\n",
       "      <th>1</th>\n",
       "      <td>2</td>\n",
       "      <td>GoldenEye (1995)</td>\n",
       "      <td>Action, Adventure, Thriller</td>\n",
       "    </tr>\n",
       "    <tr>\n",
       "      <th>2</th>\n",
       "      <td>3</td>\n",
       "      <td>Four Rooms (1995)</td>\n",
       "      <td>Thriller</td>\n",
       "    </tr>\n",
       "    <tr>\n",
       "      <th>3</th>\n",
       "      <td>4</td>\n",
       "      <td>Get Shorty (1995)</td>\n",
       "      <td>Action</td>\n",
       "    </tr>\n",
       "    <tr>\n",
       "      <th>4</th>\n",
       "      <td>5</td>\n",
       "      <td>Copycat (1995)</td>\n",
       "      <td>Thriller</td>\n",
       "    </tr>\n",
       "  </tbody>\n",
       "</table>\n",
       "</div>"
      ],
      "text/plain": [
       "   movie id        movie title                       Genres\n",
       "0         1   Toy Story (1995)          Animation, Children\n",
       "1         2   GoldenEye (1995)  Action, Adventure, Thriller\n",
       "2         3  Four Rooms (1995)                     Thriller\n",
       "3         4  Get Shorty (1995)                       Action\n",
       "4         5     Copycat (1995)                     Thriller"
      ]
     },
     "execution_count": 57,
     "metadata": {},
     "output_type": "execute_result"
    }
   ],
   "source": [
    "item = item[['movie id', 'movie title', 'Genres']]\n",
    "item.head()"
   ]
  },
  {
   "cell_type": "code",
   "execution_count": 58,
   "metadata": {},
   "outputs": [
    {
     "data": {
      "text/html": [
       "<div>\n",
       "<style scoped>\n",
       "    .dataframe tbody tr th:only-of-type {\n",
       "        vertical-align: middle;\n",
       "    }\n",
       "\n",
       "    .dataframe tbody tr th {\n",
       "        vertical-align: top;\n",
       "    }\n",
       "\n",
       "    .dataframe thead th {\n",
       "        text-align: right;\n",
       "    }\n",
       "</style>\n",
       "<table border=\"1\" class=\"dataframe\">\n",
       "  <thead>\n",
       "    <tr style=\"text-align: right;\">\n",
       "      <th></th>\n",
       "      <th>user id</th>\n",
       "      <th>movie id</th>\n",
       "      <th>rating</th>\n",
       "      <th>timestamp</th>\n",
       "      <th>movie title</th>\n",
       "      <th>Genres</th>\n",
       "    </tr>\n",
       "  </thead>\n",
       "  <tbody>\n",
       "    <tr>\n",
       "      <th>0</th>\n",
       "      <td>1</td>\n",
       "      <td>1</td>\n",
       "      <td>5</td>\n",
       "      <td>874965758</td>\n",
       "      <td>Toy Story (1995)</td>\n",
       "      <td>Animation, Children</td>\n",
       "    </tr>\n",
       "    <tr>\n",
       "      <th>1</th>\n",
       "      <td>1</td>\n",
       "      <td>2</td>\n",
       "      <td>3</td>\n",
       "      <td>876893171</td>\n",
       "      <td>GoldenEye (1995)</td>\n",
       "      <td>Action, Adventure, Thriller</td>\n",
       "    </tr>\n",
       "    <tr>\n",
       "      <th>2</th>\n",
       "      <td>1</td>\n",
       "      <td>3</td>\n",
       "      <td>4</td>\n",
       "      <td>878542960</td>\n",
       "      <td>Four Rooms (1995)</td>\n",
       "      <td>Thriller</td>\n",
       "    </tr>\n",
       "    <tr>\n",
       "      <th>3</th>\n",
       "      <td>1</td>\n",
       "      <td>4</td>\n",
       "      <td>3</td>\n",
       "      <td>876893119</td>\n",
       "      <td>Get Shorty (1995)</td>\n",
       "      <td>Action</td>\n",
       "    </tr>\n",
       "    <tr>\n",
       "      <th>4</th>\n",
       "      <td>1</td>\n",
       "      <td>5</td>\n",
       "      <td>3</td>\n",
       "      <td>889751712</td>\n",
       "      <td>Copycat (1995)</td>\n",
       "      <td>Thriller</td>\n",
       "    </tr>\n",
       "  </tbody>\n",
       "</table>\n",
       "</div>"
      ],
      "text/plain": [
       "   user id  movie id  rating  timestamp        movie title  \\\n",
       "0        1         1       5  874965758   Toy Story (1995)   \n",
       "1        1         2       3  876893171   GoldenEye (1995)   \n",
       "2        1         3       4  878542960  Four Rooms (1995)   \n",
       "3        1         4       3  876893119  Get Shorty (1995)   \n",
       "4        1         5       3  889751712     Copycat (1995)   \n",
       "\n",
       "                        Genres  \n",
       "0          Animation, Children  \n",
       "1  Action, Adventure, Thriller  \n",
       "2                     Thriller  \n",
       "3                       Action  \n",
       "4                     Thriller  "
      ]
     },
     "execution_count": 58,
     "metadata": {},
     "output_type": "execute_result"
    }
   ],
   "source": [
    "# merge data and item\n",
    "df = pd.merge(data, item, on='movie id').sort_values(by=['user id', 'movie id']).reset_index(drop=True)\n",
    "df.head()"
   ]
  },
  {
   "cell_type": "code",
   "execution_count": 59,
   "metadata": {},
   "outputs": [
    {
     "data": {
      "text/html": [
       "<div>\n",
       "<style scoped>\n",
       "    .dataframe tbody tr th:only-of-type {\n",
       "        vertical-align: middle;\n",
       "    }\n",
       "\n",
       "    .dataframe tbody tr th {\n",
       "        vertical-align: top;\n",
       "    }\n",
       "\n",
       "    .dataframe thead th {\n",
       "        text-align: right;\n",
       "    }\n",
       "</style>\n",
       "<table border=\"1\" class=\"dataframe\">\n",
       "  <thead>\n",
       "    <tr style=\"text-align: right;\">\n",
       "      <th></th>\n",
       "      <th>user_id</th>\n",
       "      <th>movie_id</th>\n",
       "      <th>rating</th>\n",
       "      <th>timestamp</th>\n",
       "      <th>movie_title</th>\n",
       "      <th>genres</th>\n",
       "      <th>avg_rating</th>\n",
       "    </tr>\n",
       "  </thead>\n",
       "  <tbody>\n",
       "    <tr>\n",
       "      <th>0</th>\n",
       "      <td>1</td>\n",
       "      <td>1</td>\n",
       "      <td>5</td>\n",
       "      <td>874965758</td>\n",
       "      <td>Toy Story (1995)</td>\n",
       "      <td>Animation, Children</td>\n",
       "      <td>5.0</td>\n",
       "    </tr>\n",
       "    <tr>\n",
       "      <th>1</th>\n",
       "      <td>1</td>\n",
       "      <td>2</td>\n",
       "      <td>3</td>\n",
       "      <td>876893171</td>\n",
       "      <td>GoldenEye (1995)</td>\n",
       "      <td>Action, Adventure, Thriller</td>\n",
       "      <td>3.0</td>\n",
       "    </tr>\n",
       "    <tr>\n",
       "      <th>2</th>\n",
       "      <td>1</td>\n",
       "      <td>3</td>\n",
       "      <td>4</td>\n",
       "      <td>878542960</td>\n",
       "      <td>Four Rooms (1995)</td>\n",
       "      <td>Thriller</td>\n",
       "      <td>4.0</td>\n",
       "    </tr>\n",
       "    <tr>\n",
       "      <th>3</th>\n",
       "      <td>1</td>\n",
       "      <td>4</td>\n",
       "      <td>3</td>\n",
       "      <td>876893119</td>\n",
       "      <td>Get Shorty (1995)</td>\n",
       "      <td>Action</td>\n",
       "      <td>3.0</td>\n",
       "    </tr>\n",
       "    <tr>\n",
       "      <th>4</th>\n",
       "      <td>1</td>\n",
       "      <td>5</td>\n",
       "      <td>3</td>\n",
       "      <td>889751712</td>\n",
       "      <td>Copycat (1995)</td>\n",
       "      <td>Thriller</td>\n",
       "      <td>3.0</td>\n",
       "    </tr>\n",
       "  </tbody>\n",
       "</table>\n",
       "</div>"
      ],
      "text/plain": [
       "   user_id  movie_id  rating  timestamp        movie_title  \\\n",
       "0        1         1       5  874965758   Toy Story (1995)   \n",
       "1        1         2       3  876893171   GoldenEye (1995)   \n",
       "2        1         3       4  878542960  Four Rooms (1995)   \n",
       "3        1         4       3  876893119  Get Shorty (1995)   \n",
       "4        1         5       3  889751712     Copycat (1995)   \n",
       "\n",
       "                        genres  avg_rating  \n",
       "0          Animation, Children         5.0  \n",
       "1  Action, Adventure, Thriller         3.0  \n",
       "2                     Thriller         4.0  \n",
       "3                       Action         3.0  \n",
       "4                     Thriller         3.0  "
      ]
     },
     "execution_count": 59,
     "metadata": {},
     "output_type": "execute_result"
    }
   ],
   "source": [
    "# average rating for each movie for each user, add the column to df\n",
    "df['avg_rating'] = df.groupby(['user id', 'movie id'])['rating'].transform('mean')\n",
    "# rename the column\n",
    "df.columns = ['user_id', 'movie_id', 'rating', 'timestamp', 'movie_title', 'genres', 'avg_rating']\n",
    "df.head()"
   ]
  },
  {
   "cell_type": "code",
   "execution_count": 60,
   "metadata": {},
   "outputs": [],
   "source": [
    "df.to_csv('/workspaces/LLM-Recommender-System/data/processed_movie100k.csv', index=False)"
   ]
  },
  {
   "cell_type": "code",
   "execution_count": 215,
   "metadata": {},
   "outputs": [
    {
     "name": "stdout",
     "output_type": "stream",
     "text": [
      "Candidate Movies: ['Toy Story (1995)', \"Mr. Holland's Opus (1995)\", 'Birdcage, The (1996)', 'Star Wars (1977)', 'Fargo (1996)', 'Independence Day (ID4) (1996)', 'Return of the Jedi (1983)', 'Jerry Maguire (1996)', \"Devil's Own, The (1997)\", \"My Best Friend's Wedding (1997)\", 'Men in Black (1997)', 'Contact (1997)', 'Full Monty, The (1997)', 'River Wild, The (1994)', 'Time to Kill, A (1996)', 'Tin Cup (1996)', 'English Patient, The (1996)', 'Air Force One (1997)', 'Game, The (1997)', 'Courage Under Fire (1996)']\n"
     ]
    }
   ],
   "source": [
    "import pandas as pd\n",
    "from sklearn.metrics.pairwise import cosine_similarity\n",
    "from scipy.sparse import csr_matrix\n",
    "\n",
    "# Function to find most similar users\n",
    "def get_similar_users(user_id, matrix, m):\n",
    "    if user_id not in matrix.index:\n",
    "        return []\n",
    "    sim_users = matrix.loc[user_id].sort_values(ascending=False).iloc[1:m+1].index.tolist()\n",
    "    return sim_users\n",
    "\n",
    "def user_filtering_recommendations(dataframe, target_user_id, m, ns):\n",
    "    \"\"\"\n",
    "    Generate movie recommendations for a target user based on user-filtering.\n",
    "\n",
    "    :param dataframe: A pandas DataFrame containing columns 'user_id', 'movie_id', 'rating', 'movie title'.\n",
    "    :param target_user_id: The user ID for whom recommendations are to be generated.\n",
    "    :param m: The number of similar users to consider.\n",
    "    :param ns: The number of candidate items to recommend.\n",
    "    :return: A list of recommended movie titles.\n",
    "    \"\"\"\n",
    "    # Create a pivot table\n",
    "    user_movie_matrix = dataframe.pivot_table(index='user_id', columns='movie_id', values='avg_rating', fill_value=0)\n",
    "\n",
    "    # Convert to sparse matrix\n",
    "    sparse_matrix = csr_matrix(user_movie_matrix)\n",
    "\n",
    "    # Compute Cosine Similarity\n",
    "    cosine_sim = cosine_similarity(sparse_matrix)\n",
    "\n",
    "    # Convert to DataFrame\n",
    "    cosine_sim_df = pd.DataFrame(cosine_sim, index=user_movie_matrix.index, columns=user_movie_matrix.index)\n",
    "\n",
    "    # Find similar users\n",
    "    similar_users = get_similar_users(target_user_id, cosine_sim_df, m)\n",
    "\n",
    "    # Get candidate movie IDs\n",
    "    candidate_ids = dataframe[dataframe['user_id'].isin(similar_users)]['movie_id'].value_counts().head(ns).index\n",
    "\n",
    "    # Map IDs to Titles\n",
    "    candidate_titles = dataframe[dataframe['movie_id'].isin(candidate_ids)]['movie_title'].unique().tolist()\n",
    "\n",
    "    return candidate_titles\n",
    "\n",
    "candidate_movies = user_filtering_recommendations(df, target_user_id=15, m=10, ns=20)\n",
    "print(\"Candidate Movies:\", candidate_movies)\n"
   ]
  },
  {
   "cell_type": "code",
   "execution_count": 216,
   "metadata": {},
   "outputs": [
    {
     "name": "stdout",
     "output_type": "stream",
     "text": [
      "User 2 Movies: ['Toy Story (1995)', 'Twelve Monkeys (1995)', 'Dead Man Walking (1995)', 'Mighty Aphrodite (1995)', 'Postino, Il (1994)', \"Mr. Holland's Opus (1995)\", 'White Balloon, The (1995)', 'Angels and Insects (1995)', 'Birdcage, The (1996)', 'Star Wars (1977)', 'Truth About Cats & Dogs, The (1996)', 'Twister (1996)', 'Independence Day (ID4) (1996)', 'Phenomenon (1996)', 'Godfather, The (1972)', 'Big Night (1996)', 'Ghost and the Darkness, The (1996)', 'Return of the Jedi (1983)', 'Mirror Has Two Faces, The (1996)', 'Star Trek: First Contact (1996)', '101 Dalmatians (1996)', 'Mars Attacks! (1996)', 'Jerry Maguire (1996)', 'Jungle2Jungle (1997)', \"Smilla's Sense of Snow (1997)\", 'Grosse Pointe Blank (1997)', 'Austin Powers: International Man of Mystery (1997)', 'Shall We Dance? (1996)', 'Lost World: Jurassic Park, The (1997)', \"My Best Friend's Wedding (1997)\", 'Men in Black (1997)', 'Contact (1997)', 'Full Monty, The (1997)', 'Sabrina (1995)', 'Sense and Sensibility (1995)', 'Bed of Roses (1996)', 'Up Close and Personal (1996)', 'Time to Kill, A (1996)', 'Emma (1996)', 'Secrets & Lies (1996)', 'English Patient, The (1996)', 'Evita (1996)', 'Absolute Power (1997)', 'Rosewood (1997)', \"Ulee's Gold (1997)\", 'Air Force One (1997)', 'In & Out (1997)', 'L.A. Confidential (1997)', 'Mrs. Brown (Her Majesty, Mrs. Brown) (1997)', \"Devil's Advocate, The (1997)\", 'FairyTale: A True Story (1997)', 'Rainmaker, The (1997)', 'Murder at 1600 (1997)', \"Dante's Peak (1997)\", 'Conspiracy Theory (1997)', 'Edge, The (1997)', 'Game, The (1997)', 'Mission: Impossible (1996)', 'Jack (1996)', 'Nutty Professor, The (1996)', \"Jackie Chan's First Strike (1996)\", 'Nixon (1995)', 'Cry, the Beloved Country (1995)', 'Courage Under Fire (1996)', 'Dragonheart (1996)', 'James and the Giant Peach (1996)', 'First Wives Club, The (1996)', 'People vs. Larry Flynt, The (1996)', 'Broken Arrow (1996)', 'Primal Fear (1996)', 'Chamber, The (1996)', 'Crucible, The (1996)', 'Volcano (1997)', 'Executive Decision (1996)', 'Seven Years in Tibet (1997)', 'City Hall (1996)', 'Ransom (1996)', 'Michael Collins (1996)', 'Saint, The (1997)', 'MatchMaker, The (1997)', 'Red Corner (1997)', 'One Fine Day (1996)', 'Mulholland Falls (1996)', 'That Thing You Do! (1996)', 'My Fellow Americans (1996)', 'Michael (1996)', 'Peacemaker, The (1997)', 'Tango Lesson, The (1997)', 'White Squall (1996)', 'Unforgettable (1996)', 'Down Periscope (1996)', 'Flower of My Secret, The (Flor de mi secreto, La) (1995)', 'Craft, The (1996)', 'Harriet the Spy (1996)', 'Chain Reaction (1996)', 'Island of Dr. Moreau, The (1996)', 'First Kid (1996)', 'Funeral, The (1996)', \"Preacher's Wife, The (1996)\", 'Paradise Road (1997)', 'Brassed Off (1996)', 'Thousand Acres, A (1997)', 'Smile Like Yours, A (1997)']\n",
      "Number of Candidate Movies in User 2's Watch History: 16\n"
     ]
    }
   ],
   "source": [
    "# how many candidate movies are in the user's watch history\n",
    "user_2_movies = df[df['user_id'] == 15]['movie_title'].unique().tolist()\n",
    "print(\"User 2 Movies:\", user_2_movies)\n",
    "print(\"Number of Candidate Movies in User 2's Watch History:\", len(set(candidate_movies).intersection(set(user_2_movies))))"
   ]
  },
  {
   "cell_type": "code",
   "execution_count": 62,
   "metadata": {},
   "outputs": [],
   "source": [
    "import openai"
   ]
  },
  {
   "cell_type": "code",
   "execution_count": 185,
   "metadata": {},
   "outputs": [],
   "source": [
    "temp_1 = \"\"\"\n",
    "Candidate Set (candidate movies): {}.\n",
    "The movies I have watched (watched movies): {}.\n",
    "Their genres are: {}.\n",
    "Step 1: What features are most important to me when selecting movies (Summarize my preferences briefly)? \n",
    "Answer: \n",
    "\"\"\"\n",
    "\n",
    "temp_2 = \"\"\"\n",
    "Candidate Set (candidate movies): {}.\n",
    "The movies I have watched (watched movies): {}.\n",
    "Their genres are: {}.\n",
    "Step 1: What features are most important to me when selecting movies (Summarize my preferences briefly)? \n",
    "Answer: {}.\n",
    "Step 2: You will select 5 movies that appeal to me the most from the list of movies I have watched, based on my personal preferences. The selected movies will be presented in descending order of preference. (Format: [no. a watched movie.]). \n",
    "Answer: \n",
    "\"\"\"\n",
    "\n",
    "temp_3 = \"\"\"\n",
    "Candidate Set (candidate movies): {}.\n",
    "The movies I have watched (watched movies): {}.\n",
    "Their genres are: {}.\n",
    "Step 1: What features are most important to me when selecting movies (Summarize my preferences briefly)? \n",
    "Answer: {}.\n",
    "Step 2: You will select 5 movies that appeal to me the most from the list of movies I have watched, based on my personal preferences. The selected movies will be presented in descending order of preference. (Format: [no. a watched movie.]). \n",
    "Answer: {}.\n",
    "Step 3: Can you recommend 10 movies from the Candidate Set similar to but not in the selected movies I've watched?.\n",
    " (Format: Here are the 10 movies recommended for you: [no. a candidate movie])\n",
    "Answer: \n",
    "\"\"\""
   ]
  },
  {
   "cell_type": "code",
   "execution_count": 186,
   "metadata": {},
   "outputs": [
    {
     "name": "stdout",
     "output_type": "stream",
     "text": [
      "['Forrest Gump (1994)', 'Top Gun (1986)', 'Chinatown (1974)', 'Philadelphia Story, The (1940)', 'All About Eve (1950)', 'Pulp Fiction (1994)', 'Silence of the Lambs, The (1991)', 'When Harry Met Sally... (1989)', 'Sabrina (1954)', 'Cinderella (1950)']\n",
      "{'Thriller', 'Romance, War', 'Action, Romance', 'Animation, Children, Musical', 'Romance', 'Film-Noir, Mystery, Thriller', 'unknown'}\n"
     ]
    }
   ],
   "source": [
    "watched_movies = df[df['user_id'] == 10]['movie_title'].unique().tolist()\n",
    "# select random 10 movies from watched movies\n",
    "np.random.seed(42)   # set random seed\n",
    "selected_watched_movies = np.random.choice(watched_movies, min(len(watched_movies), 10), replace=False).tolist()\n",
    "print(selected_watched_movies)\n",
    "# combine movie name and genre\n",
    "selected_watched_movies_genres = set(df[df['movie_title'].isin(selected_watched_movies)]['genres'].unique().tolist())\n",
    "print(selected_watched_movies_genres)"
   ]
  },
  {
   "cell_type": "code",
   "execution_count": 187,
   "metadata": {},
   "outputs": [
    {
     "data": {
      "text/plain": [
       "'\\nCandidate Set (candidate movies): [\\'Twelve Monkeys (1995)\\', \\'Dead Man Walking (1995)\\', \\'Star Wars (1977)\\', \\'Fargo (1996)\\', \\'Godfather, The (1972)\\', \\'Return of the Jedi (1983)\\', \\'Jerry Maguire (1996)\\', \"My Best Friend\\'s Wedding (1997)\", \\'Men in Black (1997)\\', \\'Contact (1997)\\', \\'Full Monty, The (1997)\\', \\'Sense and Sensibility (1995)\\', \\'Secrets & Lies (1996)\\', \\'English Patient, The (1996)\\', \\'Evita (1996)\\', \"Ulee\\'s Gold (1997)\", \\'Air Force One (1997)\\', \\'L.A. Confidential (1997)\\', \\'Game, The (1997)\\', \\'Michael Collins (1996)\\'].\\nThe movies I have watched (watched movies): [\\'Forrest Gump (1994)\\', \\'Top Gun (1986)\\', \\'Chinatown (1974)\\', \\'Philadelphia Story, The (1940)\\', \\'All About Eve (1950)\\', \\'Pulp Fiction (1994)\\', \\'Silence of the Lambs, The (1991)\\', \\'When Harry Met Sally... (1989)\\', \\'Sabrina (1954)\\', \\'Cinderella (1950)\\'].\\nTheir genres are: {\\'Thriller\\', \\'Romance, War\\', \\'Action, Romance\\', \\'Animation, Children, Musical\\', \\'Romance\\', \\'Film-Noir, Mystery, Thriller\\', \\'unknown\\'}.\\nStep 1: What features are most important to me when selecting movies (Summarize my preferences briefly)? \\nAnswer: \\n'"
      ]
     },
     "execution_count": 187,
     "metadata": {},
     "output_type": "execute_result"
    }
   ],
   "source": [
    "candidate_movies = user_filtering_recommendations(df, target_user_id=2, m=10, ns=20)\n",
    "Input_1 = temp_1.format(candidate_movies, selected_watched_movies, selected_watched_movies_genres)\n",
    "Input_1"
   ]
  },
  {
   "cell_type": "code",
   "execution_count": 188,
   "metadata": {},
   "outputs": [],
   "source": [
    "import openai\n",
    "from key import OPENAI_API_KEY"
   ]
  },
  {
   "cell_type": "code",
   "execution_count": 189,
   "metadata": {},
   "outputs": [],
   "source": [
    "openai.api_key = OPENAI_API_KEY"
   ]
  },
  {
   "cell_type": "code",
   "execution_count": 190,
   "metadata": {},
   "outputs": [],
   "source": [
    "# get response from OpenAI\n",
    "response = openai.ChatCompletion.create(\n",
    "    model=\"gpt-3.5-turbo\",\n",
    "    messages= [{ 'role':'user','content' : Input_1}],\n",
    "    # temperature=0.5,\n",
    "    # max_tokens=512,\n",
    "    # top_p=1,\n",
    "    # frequency_penalty=0,\n",
    "    # presence_penalty=0.6,\n",
    "    # stop=[\"\\n\"]\n",
    "    )"
   ]
  },
  {
   "cell_type": "code",
   "execution_count": 191,
   "metadata": {},
   "outputs": [
    {
     "data": {
      "text/plain": [
       "<OpenAIObject chat.completion id=chatcmpl-8RtpQ6ZAwc8qXIHVcZwdydDYIPjlf at 0x7f962022b7e0> JSON: {\n",
       "  \"id\": \"chatcmpl-8RtpQ6ZAwc8qXIHVcZwdydDYIPjlf\",\n",
       "  \"object\": \"chat.completion\",\n",
       "  \"created\": 1701660152,\n",
       "  \"model\": \"gpt-3.5-turbo-0613\",\n",
       "  \"choices\": [\n",
       "    {\n",
       "      \"index\": 0,\n",
       "      \"message\": {\n",
       "        \"role\": \"assistant\",\n",
       "        \"content\": \"Based on the given information, the most important features to you when selecting movies are romance, war, action, animation, children, musical, film-noir, mystery, thriller, and unknown genres.\"\n",
       "      },\n",
       "      \"finish_reason\": \"stop\"\n",
       "    }\n",
       "  ],\n",
       "  \"usage\": {\n",
       "    \"prompt_tokens\": 351,\n",
       "    \"completion_tokens\": 40,\n",
       "    \"total_tokens\": 391\n",
       "  },\n",
       "  \"system_fingerprint\": null\n",
       "}"
      ]
     },
     "execution_count": 191,
     "metadata": {},
     "output_type": "execute_result"
    }
   ],
   "source": [
    "response"
   ]
  },
  {
   "cell_type": "code",
   "execution_count": 192,
   "metadata": {},
   "outputs": [],
   "source": [
    "prediction_1 = response.choices[0].message.content"
   ]
  },
  {
   "cell_type": "code",
   "execution_count": 193,
   "metadata": {},
   "outputs": [
    {
     "data": {
      "text/plain": [
       "'\\nCandidate Set (candidate movies): [\\'Twelve Monkeys (1995)\\', \\'Dead Man Walking (1995)\\', \\'Star Wars (1977)\\', \\'Fargo (1996)\\', \\'Godfather, The (1972)\\', \\'Return of the Jedi (1983)\\', \\'Jerry Maguire (1996)\\', \"My Best Friend\\'s Wedding (1997)\", \\'Men in Black (1997)\\', \\'Contact (1997)\\', \\'Full Monty, The (1997)\\', \\'Sense and Sensibility (1995)\\', \\'Secrets & Lies (1996)\\', \\'English Patient, The (1996)\\', \\'Evita (1996)\\', \"Ulee\\'s Gold (1997)\", \\'Air Force One (1997)\\', \\'L.A. Confidential (1997)\\', \\'Game, The (1997)\\', \\'Michael Collins (1996)\\'].\\nThe movies I have watched (watched movies): [\\'Forrest Gump (1994)\\', \\'Top Gun (1986)\\', \\'Chinatown (1974)\\', \\'Philadelphia Story, The (1940)\\', \\'All About Eve (1950)\\', \\'Pulp Fiction (1994)\\', \\'Silence of the Lambs, The (1991)\\', \\'When Harry Met Sally... (1989)\\', \\'Sabrina (1954)\\', \\'Cinderella (1950)\\'].\\nTheir genres are: {\\'Thriller\\', \\'Romance, War\\', \\'Action, Romance\\', \\'Animation, Children, Musical\\', \\'Romance\\', \\'Film-Noir, Mystery, Thriller\\', \\'unknown\\'}.\\nStep 1: What features are most important to me when selecting movies (Summarize my preferences briefly)? \\nAnswer: Based on the given information, the most important features to you when selecting movies are romance, war, action, animation, children, musical, film-noir, mystery, thriller, and unknown genres..\\nStep 2: You will select 5 movies that appeal to me the most from the list of movies I have watched, based on my personal preferences. The selected movies will be presented in descending order of preference. (Format: [no. a watched movie.]). \\nAnswer: \\n'"
      ]
     },
     "execution_count": 193,
     "metadata": {},
     "output_type": "execute_result"
    }
   ],
   "source": [
    "Input_2 = temp_2.format(candidate_movies, selected_watched_movies, selected_watched_movies_genres, prediction_1)\n",
    "Input_2"
   ]
  },
  {
   "cell_type": "code",
   "execution_count": 194,
   "metadata": {},
   "outputs": [],
   "source": [
    "response = openai.ChatCompletion.create(\n",
    "    model=\"gpt-3.5-turbo\",\n",
    "    messages= [{ 'role':'user','content' : Input_2}],\n",
    "    # temperature=0.5,\n",
    "    # max_tokens=512,\n",
    "    # top_p=1,\n",
    "    # frequency_penalty=0,\n",
    "    # presence_penalty=0.6,\n",
    "    )"
   ]
  },
  {
   "cell_type": "code",
   "execution_count": 195,
   "metadata": {},
   "outputs": [
    {
     "data": {
      "text/plain": [
       "<OpenAIObject chat.completion id=chatcmpl-8RtpWnZQQdcAJTGwqO0ddtHJ2Jiey at 0x7f9620275440> JSON: {\n",
       "  \"id\": \"chatcmpl-8RtpWnZQQdcAJTGwqO0ddtHJ2Jiey\",\n",
       "  \"object\": \"chat.completion\",\n",
       "  \"created\": 1701660158,\n",
       "  \"model\": \"gpt-3.5-turbo-0613\",\n",
       "  \"choices\": [\n",
       "    {\n",
       "      \"index\": 0,\n",
       "      \"message\": {\n",
       "        \"role\": \"assistant\",\n",
       "        \"content\": \"1. Pulp Fiction (1994)\\n2. Silence of the Lambs, The (1991)\\n3. Sabrina (1954)\\n4. Cinderella (1950)\\n5. Philadelphia Story, The (1940)\"\n",
       "      },\n",
       "      \"finish_reason\": \"stop\"\n",
       "    }\n",
       "  ],\n",
       "  \"usage\": {\n",
       "    \"prompt_tokens\": 448,\n",
       "    \"completion_tokens\": 48,\n",
       "    \"total_tokens\": 496\n",
       "  },\n",
       "  \"system_fingerprint\": null\n",
       "}"
      ]
     },
     "execution_count": 195,
     "metadata": {},
     "output_type": "execute_result"
    }
   ],
   "source": [
    "response"
   ]
  },
  {
   "cell_type": "code",
   "execution_count": 196,
   "metadata": {},
   "outputs": [
    {
     "data": {
      "text/plain": [
       "'1. Pulp Fiction (1994)\\n2. Silence of the Lambs, The (1991)\\n3. Sabrina (1954)\\n4. Cinderella (1950)\\n5. Philadelphia Story, The (1940)'"
      ]
     },
     "execution_count": 196,
     "metadata": {},
     "output_type": "execute_result"
    }
   ],
   "source": [
    "prediction_2 = response.choices[0].message.content\n",
    "prediction_2"
   ]
  },
  {
   "cell_type": "code",
   "execution_count": 197,
   "metadata": {},
   "outputs": [
    {
     "data": {
      "text/plain": [
       "'\\nCandidate Set (candidate movies): [\\'Twelve Monkeys (1995)\\', \\'Dead Man Walking (1995)\\', \\'Star Wars (1977)\\', \\'Fargo (1996)\\', \\'Godfather, The (1972)\\', \\'Return of the Jedi (1983)\\', \\'Jerry Maguire (1996)\\', \"My Best Friend\\'s Wedding (1997)\", \\'Men in Black (1997)\\', \\'Contact (1997)\\', \\'Full Monty, The (1997)\\', \\'Sense and Sensibility (1995)\\', \\'Secrets & Lies (1996)\\', \\'English Patient, The (1996)\\', \\'Evita (1996)\\', \"Ulee\\'s Gold (1997)\", \\'Air Force One (1997)\\', \\'L.A. Confidential (1997)\\', \\'Game, The (1997)\\', \\'Michael Collins (1996)\\'].\\nThe movies I have watched (watched movies): [\\'Forrest Gump (1994)\\', \\'Top Gun (1986)\\', \\'Chinatown (1974)\\', \\'Philadelphia Story, The (1940)\\', \\'All About Eve (1950)\\', \\'Pulp Fiction (1994)\\', \\'Silence of the Lambs, The (1991)\\', \\'When Harry Met Sally... (1989)\\', \\'Sabrina (1954)\\', \\'Cinderella (1950)\\'].\\nTheir genres are: {\\'Thriller\\', \\'Romance, War\\', \\'Action, Romance\\', \\'Animation, Children, Musical\\', \\'Romance\\', \\'Film-Noir, Mystery, Thriller\\', \\'unknown\\'}.\\nStep 1: What features are most important to me when selecting movies (Summarize my preferences briefly)? \\nAnswer: Based on the given information, the most important features to you when selecting movies are romance, war, action, animation, children, musical, film-noir, mystery, thriller, and unknown genres..\\nStep 2: You will select 5 movies that appeal to me the most from the list of movies I have watched, based on my personal preferences. The selected movies will be presented in descending order of preference. (Format: [no. a watched movie.]). \\nAnswer: 1. Pulp Fiction (1994)\\n2. Silence of the Lambs, The (1991)\\n3. Sabrina (1954)\\n4. Cinderella (1950)\\n5. Philadelphia Story, The (1940).\\nStep 3: Can you recommend 10 movies from the Candidate Set similar to but not in the selected movies I\\'ve watched?.\\n (Format: Here are the 10 movies recommended for you: [no. a candidate movie])\\nAnswer: \\n'"
      ]
     },
     "execution_count": 197,
     "metadata": {},
     "output_type": "execute_result"
    }
   ],
   "source": [
    "Input_3 = temp_3.format(candidate_movies, selected_watched_movies, selected_watched_movies_genres, prediction_1, prediction_2)\n",
    "Input_3"
   ]
  },
  {
   "cell_type": "code",
   "execution_count": 198,
   "metadata": {},
   "outputs": [],
   "source": [
    "response = openai.ChatCompletion.create(\n",
    "    model=\"gpt-3.5-turbo\",\n",
    "    messages= [{ 'role':'user','content' : Input_3}],\n",
    "    # temperature=0.5,\n",
    "    # max_tokens=512,\n",
    "    # top_p=1,\n",
    "    # frequency_penalty=0,\n",
    "    # presence_penalty=0.6,\n",
    "    )"
   ]
  },
  {
   "cell_type": "code",
   "execution_count": 199,
   "metadata": {},
   "outputs": [
    {
     "data": {
      "text/plain": [
       "<OpenAIObject chat.completion id=chatcmpl-8RtpeGkrS00JVMslsPGVKRvLDohrS at 0x7f96202671a0> JSON: {\n",
       "  \"id\": \"chatcmpl-8RtpeGkrS00JVMslsPGVKRvLDohrS\",\n",
       "  \"object\": \"chat.completion\",\n",
       "  \"created\": 1701660166,\n",
       "  \"model\": \"gpt-3.5-turbo-0613\",\n",
       "  \"choices\": [\n",
       "    {\n",
       "      \"index\": 0,\n",
       "      \"message\": {\n",
       "        \"role\": \"assistant\",\n",
       "        \"content\": \"Here are the 10 movies recommended for you: \\n1. Twelve Monkeys (1995)\\n2. Dead Man Walking (1995)\\n3. Star Wars (1977)\\n4. Fargo (1996)\\n5. Godfather, The (1972)\\n6. Return of the Jedi (1983)\\n7. Jerry Maguire (1996)\\n8. My Best Friend's Wedding (1997)\\n9. Men in Black (1997)\\n10. Contact (1997)\"\n",
       "      },\n",
       "      \"finish_reason\": \"stop\"\n",
       "    }\n",
       "  ],\n",
       "  \"usage\": {\n",
       "    \"prompt_tokens\": 546,\n",
       "    \"completion_tokens\": 100,\n",
       "    \"total_tokens\": 646\n",
       "  },\n",
       "  \"system_fingerprint\": null\n",
       "}"
      ]
     },
     "execution_count": 199,
     "metadata": {},
     "output_type": "execute_result"
    }
   ],
   "source": [
    "response"
   ]
  },
  {
   "cell_type": "code",
   "execution_count": 203,
   "metadata": {},
   "outputs": [
    {
     "data": {
      "text/plain": [
       "\"Here are the 10 movies recommended for you: \\n1. Twelve Monkeys (1995)\\n2. Dead Man Walking (1995)\\n3. Star Wars (1977)\\n4. Fargo (1996)\\n5. Godfather, The (1972)\\n6. Return of the Jedi (1983)\\n7. Jerry Maguire (1996)\\n8. My Best Friend's Wedding (1997)\\n9. Men in Black (1997)\\n10. Contact (1997)\""
      ]
     },
     "execution_count": 203,
     "metadata": {},
     "output_type": "execute_result"
    }
   ],
   "source": [
    "prediction_3 = response.choices[0].message.content\n",
    "prediction_3"
   ]
  },
  {
   "cell_type": "code",
   "execution_count": 206,
   "metadata": {},
   "outputs": [
    {
     "data": {
      "text/plain": [
       "['Twelve Monkeys (1995)',\n",
       " 'Dead Man Walking (1995)',\n",
       " 'Star Wars (1977)',\n",
       " 'Fargo (1996)',\n",
       " 'Godfather, The (1972)',\n",
       " 'Return of the Jedi (1983)',\n",
       " 'Jerry Maguire (1996)',\n",
       " \"My Best Friend's Wedding (1997)\",\n",
       " 'Men in Black (1997)',\n",
       " 'Contact (1997)']"
      ]
     },
     "execution_count": 206,
     "metadata": {},
     "output_type": "execute_result"
    }
   ],
   "source": [
    "# only get the movie name from prediction_3\n",
    "recommendations = []\n",
    "for movie in prediction_3.split('\\n'):\n",
    "    split_movie = movie.split('.')\n",
    "    if len(split_movie) > 1:\n",
    "        # Extract the movie title and strip any leading/trailing whitespaces\n",
    "        recommendations.append(split_movie[1].strip())\n",
    "\n",
    "recommendations"
   ]
  },
  {
   "cell_type": "code",
   "execution_count": 202,
   "metadata": {},
   "outputs": [
    {
     "data": {
      "text/plain": [
       "0.5"
      ]
     },
     "execution_count": 202,
     "metadata": {},
     "output_type": "execute_result"
    }
   ],
   "source": [
    "# hit rate of recommendations in watched movies\n",
    "hit_rate = len(set(recommendations).intersection(set(watched_movies))) / len(recommendations)\n",
    "hit_rate"
   ]
  },
  {
   "cell_type": "code",
   "execution_count": null,
   "metadata": {},
   "outputs": [],
   "source": []
  }
 ],
 "metadata": {
  "kernelspec": {
   "display_name": "Python 3",
   "language": "python",
   "name": "python3"
  },
  "language_info": {
   "codemirror_mode": {
    "name": "ipython",
    "version": 3
   },
   "file_extension": ".py",
   "mimetype": "text/x-python",
   "name": "python",
   "nbconvert_exporter": "python",
   "pygments_lexer": "ipython3",
   "version": "3.10.13"
  }
 },
 "nbformat": 4,
 "nbformat_minor": 2
}
