{
 "cells": [
  {
   "cell_type": "code",
   "execution_count": 2,
   "metadata": {},
   "outputs": [
    {
     "name": "stdout",
     "output_type": "stream",
     "text": [
      "Collecting wikipedia-api\n",
      "  Downloading Wikipedia_API-0.6.0-py3-none-any.whl.metadata (22 kB)\n",
      "Requirement already satisfied: requests in /home/codespace/.local/lib/python3.10/site-packages (from wikipedia-api) (2.31.0)\n",
      "Requirement already satisfied: charset-normalizer<4,>=2 in /home/codespace/.local/lib/python3.10/site-packages (from requests->wikipedia-api) (3.3.2)\n",
      "Requirement already satisfied: idna<4,>=2.5 in /usr/local/python/3.10.13/lib/python3.10/site-packages (from requests->wikipedia-api) (3.6)\n",
      "Requirement already satisfied: urllib3<3,>=1.21.1 in /usr/local/python/3.10.13/lib/python3.10/site-packages (from requests->wikipedia-api) (2.0.7)\n",
      "Requirement already satisfied: certifi>=2017.4.17 in /usr/local/python/3.10.13/lib/python3.10/site-packages (from requests->wikipedia-api) (2023.11.17)\n",
      "Downloading Wikipedia_API-0.6.0-py3-none-any.whl (14 kB)\n",
      "Installing collected packages: wikipedia-api\n",
      "Successfully installed wikipedia-api-0.6.0\n"
     ]
    }
   ],
   "source": [
    "# !pip3 install wikipedia-api"
   ]
  },
  {
   "cell_type": "code",
   "execution_count": 7,
   "metadata": {},
   "outputs": [
    {
     "name": "stdout",
     "output_type": "stream",
     "text": [
      "Collecting wikipedia\n",
      "  Downloading wikipedia-1.4.0.tar.gz (27 kB)\n",
      "  Installing build dependencies ... \u001b[?25ldone\n",
      "\u001b[?25h  Getting requirements to build wheel ... \u001b[?25ldone\n",
      "\u001b[?25h  Preparing metadata (pyproject.toml) ... \u001b[?25ldone\n",
      "\u001b[?25hRequirement already satisfied: beautifulsoup4 in /home/codespace/.local/lib/python3.10/site-packages (from wikipedia) (4.12.2)\n",
      "Requirement already satisfied: requests<3.0.0,>=2.0.0 in /home/codespace/.local/lib/python3.10/site-packages (from wikipedia) (2.31.0)\n",
      "Requirement already satisfied: charset-normalizer<4,>=2 in /home/codespace/.local/lib/python3.10/site-packages (from requests<3.0.0,>=2.0.0->wikipedia) (3.3.2)\n",
      "Requirement already satisfied: idna<4,>=2.5 in /usr/local/python/3.10.13/lib/python3.10/site-packages (from requests<3.0.0,>=2.0.0->wikipedia) (3.6)\n",
      "Requirement already satisfied: urllib3<3,>=1.21.1 in /usr/local/python/3.10.13/lib/python3.10/site-packages (from requests<3.0.0,>=2.0.0->wikipedia) (2.0.7)\n",
      "Requirement already satisfied: certifi>=2017.4.17 in /usr/local/python/3.10.13/lib/python3.10/site-packages (from requests<3.0.0,>=2.0.0->wikipedia) (2023.11.17)\n",
      "Requirement already satisfied: soupsieve>1.2 in /home/codespace/.local/lib/python3.10/site-packages (from beautifulsoup4->wikipedia) (2.5)\n",
      "Building wheels for collected packages: wikipedia\n",
      "  Building wheel for wikipedia (pyproject.toml) ... \u001b[?25ldone\n",
      "\u001b[?25h  Created wheel for wikipedia: filename=wikipedia-1.4.0-py3-none-any.whl size=11678 sha256=afcab6ee87dcb1a1f7d93a3bef71c072a8bbb8ba5cc6ce19dcb6cefcd9f58117\n",
      "  Stored in directory: /home/codespace/.cache/pip/wheels/5e/b6/c5/93f3dec388ae76edc830cb42901bb0232504dfc0df02fc50de\n",
      "Successfully built wikipedia\n",
      "Installing collected packages: wikipedia\n",
      "Successfully installed wikipedia-1.4.0\n"
     ]
    }
   ],
   "source": [
    "# ! pip install wikipedia"
   ]
  },
  {
   "cell_type": "code",
   "execution_count": 2,
   "metadata": {},
   "outputs": [],
   "source": [
    "import pandas as pd\n",
    "import numpy as np\n",
    "import matplotlib.pyplot as plt\n",
    "import openai\n",
    "from key import OPENAI_API_KEY\n",
    "import wikipediaapi\n",
    "import wikipedia"
   ]
  },
  {
   "cell_type": "code",
   "execution_count": 3,
   "metadata": {},
   "outputs": [
    {
     "name": "stdout",
     "output_type": "stream",
     "text": [
      "(100000, 7)\n"
     ]
    }
   ],
   "source": [
    "movie100k = pd.read_csv('/workspaces/LLM-Recommender-System/data/processed_movie100k.csv')\n",
    "movie100k.head()\n",
    "print(movie100k.shape)"
   ]
  },
  {
   "cell_type": "code",
   "execution_count": 4,
   "metadata": {},
   "outputs": [
    {
     "name": "stdout",
     "output_type": "stream",
     "text": [
      "Failed to fetch summary for 187 (1997): Page id \"187 1994 film\" does not match any pages. Try another id!\n",
      "Failed to fetch summary for 2001: A Space Odyssey (1968): Page id \"2001 a space odyssey 1998 film\" does not match any pages. Try another id!\n",
      "Failed to fetch summary for African Queen, The (1951): Page id \"african queens the 1951 film\" does not match any pages. Try another id!\n",
      "Failed to fetch summary for Alice in Wonderland (1951): Page id \"alice in wonderland 1981 film\" does not match any pages. Try another id!\n",
      "Failed to fetch summary for Amadeus (1984): Page id \"amateur 1994 film\" does not match any pages. Try another id!\n",
      "Failed to fetch summary for Amityville 3-D (1983): Page id \"amityville 3 d 1993 film\" does not match any pages. Try another id!\n",
      "Failed to fetch summary for Andre (1994): Page id \"andres 1991 film\" does not match any pages. Try another id!\n",
      "Failed to fetch summary for April Fool's Day (1986): Page id \"april fool's day 1986 film\" does not match any pages. Try another id!\n",
      "Failed to fetch summary for Audrey Rose (1977): Page id \"audrey rose 1979 film\" does not match any pages. Try another id!\n",
      "Failed to fetch summary for Ayn Rand: A Sense of Life (1997): Page id \"ayn rand a sense of life 1999 film\" does not match any pages. Try another id!\n"
     ]
    },
    {
     "name": "stderr",
     "output_type": "stream",
     "text": [
      "/home/codespace/.python/current/lib/python3.10/site-packages/wikipedia/wikipedia.py:389: GuessedAtParserWarning: No parser was explicitly specified, so I'm using the best available HTML parser for this system (\"html.parser\"). This usually isn't a problem, but if you run this code on another system, or in a different virtual environment, it may use a different parser and behave differently.\n",
      "\n",
      "The code that caused this warning is on line 389 of the file /home/codespace/.python/current/lib/python3.10/site-packages/wikipedia/wikipedia.py. To get rid of this warning, pass the additional argument 'features=\"html.parser\"' to the BeautifulSoup constructor.\n",
      "\n",
      "  lis = BeautifulSoup(html).find_all('li')\n"
     ]
    },
    {
     "name": "stdout",
     "output_type": "stream",
     "text": [
      "No relevant Wikipedia page found for B*A*P*S (1997)\n",
      "Failed to fetch summary for Babe (1995): Page id \"babe 1999 film\" does not match any pages. Try another id!\n",
      "Failed to fetch summary for Babysitter, The (1995): Page id \"babysitters the 1996 film\" does not match any pages. Try another id!\n",
      "Failed to fetch summary for Backbeat (1993): Page id \"backchat 1995 film\" does not match any pages. Try another id!\n",
      "Failed to fetch summary for Bad Company (1995): Page id \"bad company 1999 film\" does not match any pages. Try another id!\n",
      "Failed to fetch summary for Ballad of Narayama, The (Narayama Bushiko) (1958): Page id \"ballad of narayama the narayama bushi kô film 1988 film\" does not match any pages. Try another id!\n",
      "Failed to fetch summary for Barcelona (1994): Page id \"barcelona 1992 film\" does not match any pages. Try another id!\n",
      "Failed to fetch summary for Beautiful Girls (1996): Page id \"beautiful girls 1998 film\" does not match any pages. Try another id!\n",
      "Failed to fetch summary for Beautiful Thing (1996): Page id \"beautiful thing 1999 film\" does not match any pages. Try another id!\n",
      "Failed to fetch summary for Beyond Bedlam (1993): Page id \"beyond bedlam 1996 film\" does not match any pages. Try another id!\n",
      "No relevant Wikipedia page found for Big Bang Theory, The (1994)\n",
      "Failed to fetch summary for Bitter Sugar (Azucar Amargo) (1996): Page id \"bitter sugar azúcar amarga film 1996 film\" does not match any pages. Try another id!\n",
      "Failed to fetch summary for Blink (1994): Page id \"blank 1994 film\" does not match any pages. Try another id!\n",
      "Failed to fetch summary for Blood & Wine (1997): Page id \"blood wind 1999 film\" does not match any pages. Try another id!\n",
      "Failed to fetch summary for Bloodsport 2 (1995): Page id \"blood part 2 1999 film\" does not match any pages. Try another id!\n",
      "Failed to fetch summary for Bloody Child, The (1996): Page id \"blonde child the 1996 film\" does not match any pages. Try another id!\n",
      "Failed to fetch summary for Bram Stoker's Dracula (1992): Page id \"bram stoker's dracula 1992 film\" does not match any pages. Try another id!\n",
      "Failed to fetch summary for Brothers in Trouble (1995): Page id \"brothers in trouble 1996 film\" does not match any pages. Try another id!\n",
      "Failed to fetch summary for Bye Bye, Love (1995): Page id \"bye bye love 1992 film\" does not match any pages. Try another id!\n",
      "Failed to fetch summary for C'est arrivé près de chez vous (1992): Page id \"cent arrivé près de chez vous 1992 film\" does not match any pages. Try another id!\n",
      "Failed to fetch summary for Cape Fear (1962): Page id \"cape fear 1991 film\" does not match any pages. Try another id!\n",
      "Failed to fetch summary for Cats Don't Dance (1997): Page id \"cats don't dance 1997 film\" does not match any pages. Try another id!\n",
      "Failed to fetch summary for City of Angels (1998): Page id \"city of angels 1995 film\" does not match any pages. Try another id!\n",
      "Failed to fetch summary for Clockers (1995): Page id \"clocks 1999 film\" does not match any pages. Try another id!\n",
      "Failed to fetch summary for Condition Red (1995): \"Condition Red\" may refer to: \n",
      "Condition Red (film)\n",
      "Condition Red (comics)\n",
      "Condition Red (Red Rockers album)\n",
      "Condition Red (Iron Savior album)\n",
      "\"Condition Red\" (The Goodees song)\n",
      "Failed to fetch summary for Contempt (Mépris, Le) (1963): Page id \"contest métis le film 1963 film\" does not match any pages. Try another id!\n",
      "Failed to fetch summary for Convent, The (Convento, O) (1995): Page id \"consent the convention o film 1995 film\" does not match any pages. Try another id!\n",
      "Failed to fetch summary for Crow: City of Angels, The (1996): Page id \"crown city of angels the 1998 film\" does not match any pages. Try another id!\n",
      "Failed to fetch summary for Curdled (1996): Page id \"curler 1996 film\" does not match any pages. Try another id!\n",
      "Failed to fetch summary for Dadetown (1995): Page id \"darktown 1999 film\" does not match any pages. Try another id!\n",
      "Failed to fetch summary for Day the Sun Turned Cold, The (Tianguo niezi) (1994): Page id \"Day the Sun Turned Cold, The (Tianguo niezi film) (1994 film)\" does not match any pages. Try another id!\n",
      "Failed to fetch summary for Devil's Advocate, The (1997): Page id \"devil's advocate the 1998 film\" does not match any pages. Try another id!\n",
      "Failed to fetch summary for Die xue shuang xiong (Killer, The) (1989): Page id \"die xue shuang xiong killed the film 1988 film\" does not match any pages. Try another id!\n",
      "Failed to fetch summary for Dingo (1992): Page id \"diego 1997 film\" does not match any pages. Try another id!\n",
      "Failed to fetch summary for Drop Zone (1994): Page id \"drop zone 1992 film\" does not match any pages. Try another id!\n",
      "Failed to fetch summary for Drunks (1995): Page id \"drinks 1997 film\" does not match any pages. Try another id!\n",
      "Failed to fetch summary for Duoluo tianshi (1995): Page id \"duomo tinashe 1995 film\" does not match any pages. Try another id!\n",
      "Failed to fetch summary for Ed's Next Move (1996): Page id \"eds next movie 1996 film\" does not match any pages. Try another id!\n",
      "Failed to fetch summary for Enfer, L' (1994): Page id \"enter l 1997 film\" does not match any pages. Try another id!\n",
      "Failed to fetch summary for Etz Hadomim Tafus (Under the Domin Tree) (1994): Page id \"Etz Hadomim Tafus (Under the Domin Tree film) (1994 film)\" does not match any pages. Try another id!\n",
      "Failed to fetch summary for Fast, Cheap & Out of Control (1997): Page id \"fast cheap out of control 1992 film\" does not match any pages. Try another id!\n",
      "Failed to fetch summary for Firm, The (1993): Page id \"film the 1998 film\" does not match any pages. Try another id!\n",
      "Failed to fetch summary for Gabbeh (1996): Page id \"gables 1999 film\" does not match any pages. Try another id!\n",
      "Failed to fetch summary for Ghost (1990): Page id \"ghost 1998 film\" does not match any pages. Try another id!\n",
      "Failed to fetch summary for Ghost and Mrs. Muir, The (1947): Page id \"ghost and mrs muir the 1974 film\" does not match any pages. Try another id!\n",
      "Failed to fetch summary for Grease (1978): Page id \"greece 1998 film\" does not match any pages. Try another id!\n",
      "Failed to fetch summary for Gridlock'd (1997): Page id \"gridlock'd 1997 film\" does not match any pages. Try another id!\n",
      "Failed to fetch summary for Heavy Metal (1981): Page id \"heavy metal 1988 film\" does not match any pages. Try another id!\n",
      "Failed to fetch summary for Highlander (1986): Page id \"highland 1987 film\" does not match any pages. Try another id!\n",
      "Failed to fetch summary for Hostile Intentions (1994): Page id \"hostage inventions 1994 film\" does not match any pages. Try another id!\n",
      "Failed to fetch summary for Howling, The (1981): Page id \"holding the 1988 film\" does not match any pages. Try another id!\n",
      "Failed to fetch summary for I Can't Sleep (J'ai pas sommeil) (1994): Page id \"i can't sleep jai pas sommeil film 1997 film\" does not match any pages. Try another id!\n",
      "Failed to fetch summary for I Don't Want to Talk About It (De eso no se habla) (1993): Page id \"I Dont Want to Talk About It (De eso no se habla film) (1993 film)\" does not match any pages. Try another id!\n",
      "Failed to fetch summary for Innocents, The (1961): Page id \"innocent the 1968 film\" does not match any pages. Try another id!\n",
      "Failed to fetch summary for Invitation, The (Zaproszenie) (1986): Page id \"initiation the zaproszenie films 1986 film\" does not match any pages. Try another id!\n",
      "Failed to fetch summary for Jackie Chan's First Strike (1996): Page id \"jackie chang first strike 1996 film\" does not match any pages. Try another id!\n",
      "Failed to fetch summary for Jade (1995): Page id \"jane 1991 film\" does not match any pages. Try another id!\n",
      "Failed to fetch summary for Jude (1996): Page id \"june 1997 film\" does not match any pages. Try another id!\n",
      "Failed to fetch summary for Judge Dredd (1995): Page id \"judge dress 1995 film\" does not match any pages. Try another id!\n",
      "Failed to fetch summary for Judgment Night (1993): Page id \"judgment night 1998 film\" does not match any pages. Try another id!\n",
      "Failed to fetch summary for Jupiter's Wife (1994): Page id \"jupiter wife 1998 film\" does not match any pages. Try another id!\n",
      "Failed to fetch summary for Jury Duty (1995): Page id \"jury duty 1997 film\" does not match any pages. Try another id!\n",
      "Failed to fetch summary for Kama Sutra: A Tale of Love (1996): Page id \"kama sutra a tale of love 1997 film\" does not match any pages. Try another id!\n",
      "Failed to fetch summary for Kicked in the Head (1997): Page id \"killed in the head 1994 film\" does not match any pages. Try another id!\n"
     ]
    }
   ],
   "source": [
    "movie_data = []\n",
    "\n",
    "for title in np.unique(movie100k['movie_title']):\n",
    "    try:\n",
    "        # Formatting the title for Wikipedia\n",
    "        title_formatted = title.replace(\"'\", \"\").rstrip()\n",
    "        if \"(\" in title_formatted and \")\" in title_formatted:\n",
    "            title_formatted = title_formatted.replace(\")\", \" film)\")  # Add 'film' before the closing parenthesis\n",
    "        else:\n",
    "            title_formatted += \" (film)\"\n",
    "\n",
    "        # Fetching the summary\n",
    "        summary = wikipedia.summary(title_formatted, sentences=1)\n",
    "        movie_data.append({'movie_title': title, 'wiki_summary': summary})\n",
    "    except wikipedia.DisambiguationError as e:\n",
    "        # Handle disambiguation by looking for a title containing 'film'\n",
    "        relevant_page = next((option for option in e.options if \"film\" in option and title.split(\" (\")[0] in option), None)\n",
    "        if relevant_page:\n",
    "            try:\n",
    "                summary = wikipedia.summary(relevant_page, sentences=1)\n",
    "                movie_data.append({'movie_title': title, 'wiki_summary': summary})\n",
    "            except Exception as ex:\n",
    "                print(f\"Failed to fetch summary for {title}: {ex}\")\n",
    "        else:\n",
    "            print(f\"No relevant Wikipedia page found for {title}\")\n",
    "    except Exception as ex:\n",
    "        print(f\"Failed to fetch summary for {title}: {ex}\")\n",
    "\n",
    "# Creating the DataFrame after collecting all data\n",
    "movie_wiki = pd.DataFrame(movie_data)"
   ]
  },
  {
   "cell_type": "code",
   "execution_count": null,
   "metadata": {},
   "outputs": [],
   "source": [
    "movie_wiki"
   ]
  },
  {
   "cell_type": "code",
   "execution_count": 1,
   "metadata": {},
   "outputs": [
    {
     "ename": "NameError",
     "evalue": "name 'movie_wiki' is not defined",
     "output_type": "error",
     "traceback": [
      "\u001b[0;31m---------------------------------------------------------------------------\u001b[0m",
      "\u001b[0;31mNameError\u001b[0m                                 Traceback (most recent call last)",
      "Cell \u001b[0;32mIn[1], line 1\u001b[0m\n\u001b[0;32m----> 1\u001b[0m \u001b[43mmovie_wiki\u001b[49m\n",
      "\u001b[0;31mNameError\u001b[0m: name 'movie_wiki' is not defined"
     ]
    }
   ],
   "source": [
    "movie_wiki.to_csv('/workspaces/LLM-Recommender-System/data/movie_wiki.csv')"
   ]
  },
  {
   "cell_type": "code",
   "execution_count": 15,
   "metadata": {},
   "outputs": [
    {
     "data": {
      "text/html": [
       "<div>\n",
       "<style scoped>\n",
       "    .dataframe tbody tr th:only-of-type {\n",
       "        vertical-align: middle;\n",
       "    }\n",
       "\n",
       "    .dataframe tbody tr th {\n",
       "        vertical-align: top;\n",
       "    }\n",
       "\n",
       "    .dataframe thead th {\n",
       "        text-align: right;\n",
       "    }\n",
       "</style>\n",
       "<table border=\"1\" class=\"dataframe\">\n",
       "  <thead>\n",
       "    <tr style=\"text-align: right;\">\n",
       "      <th></th>\n",
       "      <th>user_id</th>\n",
       "      <th>movie_id</th>\n",
       "      <th>rating</th>\n",
       "      <th>timestamp</th>\n",
       "      <th>movie_title</th>\n",
       "      <th>genres</th>\n",
       "      <th>avg_rating</th>\n",
       "      <th>wiki_summary</th>\n",
       "    </tr>\n",
       "  </thead>\n",
       "  <tbody>\n",
       "    <tr>\n",
       "      <th>0</th>\n",
       "      <td>1</td>\n",
       "      <td>1</td>\n",
       "      <td>5</td>\n",
       "      <td>874965758</td>\n",
       "      <td>Toy Story (1995)</td>\n",
       "      <td>Animation, Children</td>\n",
       "      <td>5.0</td>\n",
       "      <td>Toy Story is an American media franchise owned...</td>\n",
       "    </tr>\n",
       "    <tr>\n",
       "      <th>1</th>\n",
       "      <td>1</td>\n",
       "      <td>2</td>\n",
       "      <td>3</td>\n",
       "      <td>876893171</td>\n",
       "      <td>GoldenEye (1995)</td>\n",
       "      <td>Action, Adventure, Thriller</td>\n",
       "      <td>3.0</td>\n",
       "      <td>GoldenEye is a 1995 spy film, the seventeenth ...</td>\n",
       "    </tr>\n",
       "    <tr>\n",
       "      <th>2</th>\n",
       "      <td>1</td>\n",
       "      <td>3</td>\n",
       "      <td>4</td>\n",
       "      <td>878542960</td>\n",
       "      <td>Four Rooms (1995)</td>\n",
       "      <td>Thriller</td>\n",
       "      <td>4.0</td>\n",
       "      <td>Four Rooms is a 1995 American anthology \\nfarc...</td>\n",
       "    </tr>\n",
       "    <tr>\n",
       "      <th>3</th>\n",
       "      <td>1</td>\n",
       "      <td>4</td>\n",
       "      <td>3</td>\n",
       "      <td>876893119</td>\n",
       "      <td>Get Shorty (1995)</td>\n",
       "      <td>Action</td>\n",
       "      <td>3.0</td>\n",
       "      <td>Get Shorty is a 1995 American gangster comedy ...</td>\n",
       "    </tr>\n",
       "    <tr>\n",
       "      <th>4</th>\n",
       "      <td>1</td>\n",
       "      <td>5</td>\n",
       "      <td>3</td>\n",
       "      <td>889751712</td>\n",
       "      <td>Copycat (1995)</td>\n",
       "      <td>Thriller</td>\n",
       "      <td>3.0</td>\n",
       "      <td>Copycat is a 1995 American psychological thril...</td>\n",
       "    </tr>\n",
       "  </tbody>\n",
       "</table>\n",
       "</div>"
      ],
      "text/plain": [
       "   user_id  movie_id  rating  timestamp        movie_title  \\\n",
       "0        1         1       5  874965758   Toy Story (1995)   \n",
       "1        1         2       3  876893171   GoldenEye (1995)   \n",
       "2        1         3       4  878542960  Four Rooms (1995)   \n",
       "3        1         4       3  876893119  Get Shorty (1995)   \n",
       "4        1         5       3  889751712     Copycat (1995)   \n",
       "\n",
       "                        genres  avg_rating  \\\n",
       "0          Animation, Children         5.0   \n",
       "1  Action, Adventure, Thriller         3.0   \n",
       "2                     Thriller         4.0   \n",
       "3                       Action         3.0   \n",
       "4                     Thriller         3.0   \n",
       "\n",
       "                                        wiki_summary  \n",
       "0  Toy Story is an American media franchise owned...  \n",
       "1  GoldenEye is a 1995 spy film, the seventeenth ...  \n",
       "2  Four Rooms is a 1995 American anthology \\nfarc...  \n",
       "3  Get Shorty is a 1995 American gangster comedy ...  \n",
       "4  Copycat is a 1995 American psychological thril...  "
      ]
     },
     "execution_count": 15,
     "metadata": {},
     "output_type": "execute_result"
    }
   ],
   "source": [
    "# merge movie100k and movie_wiki\n",
    "movie100k_with_wiki = movie100k.merge(movie_wiki, on='movie_title', how='left')\n",
    "movie100k_with_wiki.head()"
   ]
  },
  {
   "cell_type": "code",
   "execution_count": 37,
   "metadata": {},
   "outputs": [
    {
     "name": "stdout",
     "output_type": "stream",
     "text": [
      "Percentage of rows missing in the wiki_summary column: 6.43%\n"
     ]
    }
   ],
   "source": [
    "print(f\"Percentage of rows missing in the wiki_summary column: {round(movie100k_with_wiki['wiki_summary'].isna().sum() / movie100k_with_wiki.shape[0] * 100, 2)}%\")"
   ]
  },
  {
   "cell_type": "code",
   "execution_count": null,
   "metadata": {},
   "outputs": [],
   "source": []
  }
 ],
 "metadata": {
  "kernelspec": {
   "display_name": "Python 3",
   "language": "python",
   "name": "python3"
  },
  "language_info": {
   "codemirror_mode": {
    "name": "ipython",
    "version": 3
   },
   "file_extension": ".py",
   "mimetype": "text/x-python",
   "name": "python",
   "nbconvert_exporter": "python",
   "pygments_lexer": "ipython3",
   "version": "3.10.13"
  }
 },
 "nbformat": 4,
 "nbformat_minor": 2
}
