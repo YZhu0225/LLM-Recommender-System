{
 "cells": [
  {
   "cell_type": "markdown",
   "metadata": {},
   "source": [
    "This Notebook compares recommendations made by ChatGPT based on several prompts."
   ]
  },
  {
   "cell_type": "code",
   "execution_count": 953,
   "metadata": {},
   "outputs": [],
   "source": [
    "import pandas as pd"
   ]
  },
  {
   "cell_type": "markdown",
   "metadata": {},
   "source": [
    "Building the Training Data"
   ]
  },
  {
   "cell_type": "code",
   "execution_count": 954,
   "metadata": {},
   "outputs": [],
   "source": [
    "train = pd.read_csv('../data/train.csv')"
   ]
  },
  {
   "cell_type": "code",
   "execution_count": 955,
   "metadata": {},
   "outputs": [
    {
     "data": {
      "text/html": [
       "<div>\n",
       "<style scoped>\n",
       "    .dataframe tbody tr th:only-of-type {\n",
       "        vertical-align: middle;\n",
       "    }\n",
       "\n",
       "    .dataframe tbody tr th {\n",
       "        vertical-align: top;\n",
       "    }\n",
       "\n",
       "    .dataframe thead th {\n",
       "        text-align: right;\n",
       "    }\n",
       "</style>\n",
       "<table border=\"1\" class=\"dataframe\">\n",
       "  <thead>\n",
       "    <tr style=\"text-align: right;\">\n",
       "      <th></th>\n",
       "      <th>user_id</th>\n",
       "      <th>movie_id</th>\n",
       "      <th>rating</th>\n",
       "      <th>timestamp</th>\n",
       "      <th>movie_title</th>\n",
       "      <th>genres</th>\n",
       "      <th>avg_rating</th>\n",
       "    </tr>\n",
       "  </thead>\n",
       "  <tbody>\n",
       "    <tr>\n",
       "      <th>0</th>\n",
       "      <td>259</td>\n",
       "      <td>255</td>\n",
       "      <td>4</td>\n",
       "      <td>874724710</td>\n",
       "      <td>My Best Friend's Wedding (1997)</td>\n",
       "      <td>Romance</td>\n",
       "      <td>4.0</td>\n",
       "    </tr>\n",
       "    <tr>\n",
       "      <th>1</th>\n",
       "      <td>259</td>\n",
       "      <td>286</td>\n",
       "      <td>4</td>\n",
       "      <td>874724727</td>\n",
       "      <td>English Patient, The (1996)</td>\n",
       "      <td>Romance, War</td>\n",
       "      <td>4.0</td>\n",
       "    </tr>\n",
       "    <tr>\n",
       "      <th>2</th>\n",
       "      <td>259</td>\n",
       "      <td>298</td>\n",
       "      <td>4</td>\n",
       "      <td>874724754</td>\n",
       "      <td>Face/Off (1997)</td>\n",
       "      <td>Action, Sci-Fi, Thriller</td>\n",
       "      <td>4.0</td>\n",
       "    </tr>\n",
       "    <tr>\n",
       "      <th>3</th>\n",
       "      <td>259</td>\n",
       "      <td>185</td>\n",
       "      <td>4</td>\n",
       "      <td>874724781</td>\n",
       "      <td>Psycho (1960)</td>\n",
       "      <td>Horror, Romance, Thriller</td>\n",
       "      <td>4.0</td>\n",
       "    </tr>\n",
       "    <tr>\n",
       "      <th>4</th>\n",
       "      <td>259</td>\n",
       "      <td>173</td>\n",
       "      <td>4</td>\n",
       "      <td>874724843</td>\n",
       "      <td>Princess Bride, The (1987)</td>\n",
       "      <td>Action, Adventure, Romance</td>\n",
       "      <td>4.0</td>\n",
       "    </tr>\n",
       "  </tbody>\n",
       "</table>\n",
       "</div>"
      ],
      "text/plain": [
       "   user_id  movie_id  rating  timestamp                      movie_title  \\\n",
       "0      259       255       4  874724710  My Best Friend's Wedding (1997)   \n",
       "1      259       286       4  874724727      English Patient, The (1996)   \n",
       "2      259       298       4  874724754                  Face/Off (1997)   \n",
       "3      259       185       4  874724781                    Psycho (1960)   \n",
       "4      259       173       4  874724843       Princess Bride, The (1987)   \n",
       "\n",
       "                       genres  avg_rating  \n",
       "0                     Romance         4.0  \n",
       "1                Romance, War         4.0  \n",
       "2    Action, Sci-Fi, Thriller         4.0  \n",
       "3   Horror, Romance, Thriller         4.0  \n",
       "4  Action, Adventure, Romance         4.0  "
      ]
     },
     "execution_count": 955,
     "metadata": {},
     "output_type": "execute_result"
    }
   ],
   "source": [
    "train.head()"
   ]
  },
  {
   "cell_type": "markdown",
   "metadata": {},
   "source": [
    "The movies each user has watched in the training data"
   ]
  },
  {
   "cell_type": "code",
   "execution_count": 956,
   "metadata": {},
   "outputs": [],
   "source": [
    "user_movies = train.groupby('user_id').apply(lambda x: x['movie_title'].tolist())"
   ]
  },
  {
   "cell_type": "code",
   "execution_count": 1024,
   "metadata": {},
   "outputs": [],
   "source": [
    "\"\"\" Number of users to run the recommender on\n",
    "    (Use a small sample for faster results)\n",
    "    If you want to run the recommender on all users, uncomment the last line\n",
    "\"\"\"\n",
    "num_users = 20\n",
    "\n",
    "# Uncomment below to run on all users\n",
    "# n = user_movies.shape[0]"
   ]
  },
  {
   "cell_type": "markdown",
   "metadata": {},
   "source": [
    "The most recent movies each user has watched."
   ]
  },
  {
   "cell_type": "code",
   "execution_count": 957,
   "metadata": {},
   "outputs": [],
   "source": [
    "def get_user_recent_movies(dataframe, n = 10):\n",
    "    return dataframe.groupby('user_id').apply(lambda x: x['movie_title'].tail(n).to_list())\n",
    "\n",
    "user_recent_movies = get_user_recent_movies(train)"
   ]
  },
  {
   "cell_type": "markdown",
   "metadata": {},
   "source": [
    "The movies each user rated highly."
   ]
  },
  {
   "cell_type": "code",
   "execution_count": 958,
   "metadata": {},
   "outputs": [],
   "source": [
    "def get_user_top_movies(dataframe, n = 10):\n",
    "    return dataframe.groupby('user_id').apply(lambda x: x.sort_values('rating', ascending=False).head(n)['movie_title'].to_list())\n",
    "\n",
    "user_top_movies = get_user_top_movies(train)"
   ]
  },
  {
   "cell_type": "markdown",
   "metadata": {},
   "source": [
    "The genres of each movie."
   ]
  },
  {
   "cell_type": "code",
   "execution_count": 959,
   "metadata": {},
   "outputs": [],
   "source": [
    "movie_genres = train.groupby('movie_title').apply(lambda x: x['genres'].unique().tolist()).apply(lambda x: x[0].split(\", \"))"
   ]
  },
  {
   "cell_type": "code",
   "execution_count": 960,
   "metadata": {},
   "outputs": [
    {
     "data": {
      "text/plain": [
       "user_id\n",
       "1     [Empire Strikes Back, The (1980), Usual Suspec...\n",
       "5     [Wrong Trousers, The (1993), This Is Spinal Ta...\n",
       "6     [Down by Law (1986), Graduate, The (1967), Lon...\n",
       "8     [Contact (1997), Die Hard (1988), Braveheart (...\n",
       "10    [Amadeus (1984), Taxi Driver (1976), All About...\n",
       "dtype: object"
      ]
     },
     "execution_count": 960,
     "metadata": {},
     "output_type": "execute_result"
    }
   ],
   "source": [
    "user_top_movies.head()"
   ]
  },
  {
   "cell_type": "markdown",
   "metadata": {},
   "source": [
    "The genres for each users top rated movies"
   ]
  },
  {
   "cell_type": "code",
   "execution_count": 961,
   "metadata": {},
   "outputs": [],
   "source": [
    "user_top_movie_genres = user_top_movies.apply(lambda x: pd.Series(movie_genres.loc[x].sum()).unique().tolist())"
   ]
  },
  {
   "cell_type": "markdown",
   "metadata": {},
   "source": [
    "The ratings provided by each user to every movie they watched in the training data."
   ]
  },
  {
   "cell_type": "code",
   "execution_count": 962,
   "metadata": {},
   "outputs": [],
   "source": [
    "user_ratings = train.drop_duplicates(['user_id', 'movie_title']).pivot(index='user_id', columns='movie_title', values='avg_rating').fillna(0)"
   ]
  },
  {
   "cell_type": "code",
   "execution_count": 963,
   "metadata": {},
   "outputs": [],
   "source": [
    "from scipy.sparse import csr_matrix\n",
    "sparse_user_ratings = csr_matrix(user_ratings)"
   ]
  },
  {
   "cell_type": "code",
   "execution_count": 964,
   "metadata": {},
   "outputs": [],
   "source": [
    "from sklearn.metrics.pairwise import cosine_similarity\n",
    "import numpy as np"
   ]
  },
  {
   "cell_type": "markdown",
   "metadata": {},
   "source": [
    "Identifying similar users based on cosine similarity"
   ]
  },
  {
   "cell_type": "code",
   "execution_count": 965,
   "metadata": {},
   "outputs": [],
   "source": [
    "def get_similar_users(sparse_user_ratings, index, n = 10):\n",
    "    return pd.DataFrame(cosine_similarity(sparse_user_ratings) - np.identity(sparse_user_ratings.shape[0]), index = index, columns = index).apply(lambda x: list(x.sort_values(ascending = False).head(n).index), axis=1)\n",
    "\n",
    "similar_users = get_similar_users(sparse_user_ratings, user_ratings.index)"
   ]
  },
  {
   "cell_type": "code",
   "execution_count": 966,
   "metadata": {},
   "outputs": [
    {
     "data": {
      "text/plain": [
       "user_id\n",
       "1     [916, 457, 268, 435, 429, 823, 301, 276, 889, ...\n",
       "5      [648, 407, 307, 497, 268, 276, 22, 622, 804, 70]\n",
       "6       [18, 194, 716, 10, 666, 151, 321, 85, 389, 854]\n",
       "8      [746, 158, 37, 352, 638, 425, 22, 627, 671, 538]\n",
       "10      [6, 406, 666, 389, 321, 398, 524, 716, 194, 18]\n",
       "dtype: object"
      ]
     },
     "execution_count": 966,
     "metadata": {},
     "output_type": "execute_result"
    }
   ],
   "source": [
    "similar_users.head()"
   ]
  },
  {
   "cell_type": "markdown",
   "metadata": {},
   "source": [
    "Identifying Candidate movies which are the movies each user's similar users rated most highly overall."
   ]
  },
  {
   "cell_type": "code",
   "execution_count": 967,
   "metadata": {},
   "outputs": [],
   "source": [
    "def get_candidate_movies(similar_users, dataframe, n = 20):\n",
    "    return similar_users.apply(lambda x: list(dataframe.loc[dataframe['user_id'].isin(x)].groupby('movie_title').sum().sort_values('rating', ascending = False).index[:n]))\n",
    "\n",
    "candidate_movies = get_candidate_movies(similar_users, train)"
   ]
  },
  {
   "cell_type": "code",
   "execution_count": 968,
   "metadata": {},
   "outputs": [],
   "source": [
    "user_prompt_data = pd.concat((user_movies, user_top_movies, user_recent_movies, similar_users, candidate_movies, user_top_movie_genres), axis = 1, keys = ['user_movies', 'user_top_movies', 'user_recent_movies', 'similar_users', 'candidate_movies', 'user_top_movie_genres'])"
   ]
  },
  {
   "cell_type": "markdown",
   "metadata": {},
   "source": [
    "Collaborative Filtering Prompt"
   ]
  },
  {
   "cell_type": "code",
   "execution_count": 969,
   "metadata": {},
   "outputs": [],
   "source": [
    "new_line = '\\n'\n",
    "\n",
    "def collabPrompt(each, user_prompt_data, new_line = '\\n'):\n",
    "    return f\"\"\"I am user {each}.\n",
    "The most recent ten movies I have seen are:\n",
    "{\", \".join(user_prompt_data.loc[each, 'user_recent_movies'])}.\n",
    "My top rated movies are:\n",
    "{\", \".join(user_prompt_data.loc[each, 'user_top_movies'])}.\n",
    "The users who are most like me are {\", \".join([str(each) for each in user_prompt_data.loc[each, 'similar_users']])}.\n",
    "The top movies for each of these users are:\n",
    "{new_line.join([f\"{each}: {', '.join(user_prompt_data.loc[each, 'user_top_movies'])}\" for each in user_prompt_data.loc[each, 'similar_users']])}.\n",
    "Please recommend ten movies for me to watch that I have not seen. Provide brackets around your recommendations so I can easily parse them.\n",
    "For example (['Midnight Cowboy (1969)', 'Lost in Translation (2003)', etc.])\"\"\"\n",
    "    "
   ]
  },
  {
   "cell_type": "code",
   "execution_count": 970,
   "metadata": {},
   "outputs": [],
   "source": [
    "collab_prompts = pd.Series(user_prompt_data.index, index = user_prompt_data.index).apply(lambda x: collabPrompt(x, user_prompt_data))"
   ]
  },
  {
   "cell_type": "code",
   "execution_count": 971,
   "metadata": {},
   "outputs": [],
   "source": [
    "from openai import OpenAI\n",
    "from key import OPENAI_API_KEY\n",
    "client = OpenAI(api_key=OPENAI_API_KEY)"
   ]
  },
  {
   "cell_type": "code",
   "execution_count": 972,
   "metadata": {},
   "outputs": [],
   "source": [
    "collab_response = collab_prompts.iloc[:num_users].apply(lambda x: client.chat.completions.create(\n",
    "    model=\"gpt-3.5-turbo\",\n",
    "        messages= [{ 'role':'user','content' : x}],\n",
    "        # temperature=0,\n",
    "        # max_tokens=512,\n",
    "        # top_p=1,\n",
    "        # frequency_penalty=0,\n",
    "        # presence_penalty=0,\n",
    "        ))"
   ]
  },
  {
   "cell_type": "code",
   "execution_count": 973,
   "metadata": {},
   "outputs": [],
   "source": [
    "collab_recommendations = collab_response.apply(lambda x: x.choices[0].message.content.split(\"[\")[1].split(\"]\")[0].split(\", \"))"
   ]
  },
  {
   "cell_type": "code",
   "execution_count": 974,
   "metadata": {},
   "outputs": [
    {
     "data": {
      "text/plain": [
       "user_id\n",
       "1     ['The Shawshank Redemption (1994)', 'Good Will...\n",
       "5     ['Pulp Fiction (1994)', 'The Shawshank Redempt...\n",
       "6     ['Amélie (2001)', 'Eternal Sunshine of the Spo...\n",
       "8     ['Blade Runner 2049 (2017)', 'The Grand Budape...\n",
       "10                                 ['Chinatown (1974)']\n",
       "Name: user_id, dtype: object"
      ]
     },
     "execution_count": 974,
     "metadata": {},
     "output_type": "execute_result"
    }
   ],
   "source": [
    "collab_recommendations.head()"
   ]
  },
  {
   "cell_type": "code",
   "execution_count": 975,
   "metadata": {},
   "outputs": [],
   "source": [
    "test = pd.read_csv('../data/test.csv')"
   ]
  },
  {
   "cell_type": "code",
   "execution_count": 976,
   "metadata": {},
   "outputs": [],
   "source": [
    "user_movies_test = test.groupby('user_id').apply(lambda x: x['movie_title'].tolist())"
   ]
  },
  {
   "cell_type": "code",
   "execution_count": 1059,
   "metadata": {},
   "outputs": [],
   "source": [
    "collab_hits = pd.concat((user_movies, user_movies_test, collab_recommendations), axis=1, keys = ['user_movies', 'user_movies_test', 'collab_recommendations']).dropna(subset = 'collab_recommendations').apply(lambda x: len(set(x.iloc[0]).union(x.iloc[1]).intersection(x.iloc[2])) if x.iloc[1] is not np.nan else len(set(x.iloc[0]).intersection(x.iloc[2])), axis = 1)"
   ]
  },
  {
   "cell_type": "markdown",
   "metadata": {},
   "source": [
    "Prompt Similar to Zero-Shot Paper (reduced to one prompt, added genres)"
   ]
  },
  {
   "cell_type": "code",
   "execution_count": 978,
   "metadata": {},
   "outputs": [],
   "source": [
    "def genrePrompts(each, user_prompt_data, new_line = '\\n'):\n",
    "    return f\"\"\"\n",
    "Candidate Set (candidate movies): {user_prompt_data.loc[each, 'candidate_movies']}.\n",
    "The movies I have rated highly (watched movies): {user_prompt_data.loc[each, 'user_top_movies']}.\n",
    "Their genres are: {user_prompt_data.loc[each, 'user_top_movie_genres']}.\n",
    "Can you recommend 10 movies from the Candidate Set similar to but not in the selected movies I've watched?.\n",
    "Please use brackets around the movies you recommend and separate the titles by new lines so I can easily parse them.\n",
    "(Format Example: Here are the 10 movies recommended for you: [Midnight Cowboy (1969){new_line}Lost in Translation (2003){new_line}etc.])\n",
    "Answer: \n",
    "\"\"\""
   ]
  },
  {
   "cell_type": "code",
   "execution_count": 979,
   "metadata": {},
   "outputs": [],
   "source": [
    "genre_prompts = pd.Series(user_prompt_data.index, index = user_prompt_data.index).apply(lambda x: genrePrompts(x, user_prompt_data))"
   ]
  },
  {
   "cell_type": "code",
   "execution_count": 980,
   "metadata": {},
   "outputs": [
    {
     "data": {
      "text/plain": [
       "user_id\n",
       "1     \\nCandidate Set (candidate movies): ['Chasing ...\n",
       "5     \\nCandidate Set (candidate movies): ['Raiders ...\n",
       "6     \\nCandidate Set (candidate movies): ['Casablan...\n",
       "8     \\nCandidate Set (candidate movies): ['Blade Ru...\n",
       "10    \\nCandidate Set (candidate movies): ['Casablan...\n",
       "Name: user_id, dtype: object"
      ]
     },
     "execution_count": 980,
     "metadata": {},
     "output_type": "execute_result"
    }
   ],
   "source": [
    "genre_prompts.head()"
   ]
  },
  {
   "cell_type": "code",
   "execution_count": 981,
   "metadata": {},
   "outputs": [],
   "source": [
    "genre_response = genre_prompts.iloc[:num_users].apply(lambda x: client.chat.completions.create(\n",
    "    model=\"gpt-3.5-turbo\",\n",
    "        messages= [{ 'role':'user','content' : x}],\n",
    "        # temperature=0,\n",
    "        # max_tokens=512,\n",
    "        # top_p=1,\n",
    "        # frequency_penalty=0,\n",
    "        # presence_penalty=0,\n",
    "        ))"
   ]
  },
  {
   "cell_type": "code",
   "execution_count": 982,
   "metadata": {},
   "outputs": [],
   "source": [
    "genre_recommendations = genre_response.apply(lambda x: x.choices[0].message.content.split(\"[\")[-1].split(\"]\")[0].split(\"\\n\"))"
   ]
  },
  {
   "cell_type": "code",
   "execution_count": 983,
   "metadata": {},
   "outputs": [
    {
     "data": {
      "text/plain": [
       "user_id\n",
       "1     [Chasing Amy (1997), Raiders of the Lost Ark (...\n",
       "5     [Monty Python and the Holy Grail (1974), Princ...\n",
       "6     [M*A*S*H (1970), Dr. Strangelove or: How I Lea...\n",
       "8     [Blade Runner (1982), Empire Strikes Back, The...\n",
       "10    [Graduate, The (1967), M*A*S*H (1970), Pulp Fi...\n",
       "Name: user_id, dtype: object"
      ]
     },
     "execution_count": 983,
     "metadata": {},
     "output_type": "execute_result"
    }
   ],
   "source": [
    "genre_recommendations.head()"
   ]
  },
  {
   "cell_type": "code",
   "execution_count": 1058,
   "metadata": {},
   "outputs": [],
   "source": [
    "genre_hits = pd.concat((user_movies, user_movies_test, genre_recommendations), axis=1, keys = ['user_movies', 'user_movies_test', 'genre_recommendations']).dropna(subset = 'genre_recommendations').apply(lambda x: len(set(x.iloc[0]).union(x.iloc[1]).intersection(x.iloc[2])) if x.iloc[1] is not np.nan else len(set(x.iloc[0]).intersection(x.iloc[2])), axis = 1)"
   ]
  },
  {
   "cell_type": "markdown",
   "metadata": {},
   "source": [
    "Prompt Similar to Zero-Shot Paper (uses two prompts, adds genres)"
   ]
  },
  {
   "cell_type": "code",
   "execution_count": 985,
   "metadata": {},
   "outputs": [],
   "source": [
    "def twoStepPrompt1(each, user_prompt_data):\n",
    "    return f\"\"\"\n",
    "Candidate Set (candidate movies): {user_prompt_data.loc[each, 'candidate_movies']}.\n",
    "The movies I have rated highly (watched movies): {user_prompt_data.loc[each, 'user_top_movies']}.\n",
    "Their genres are: {user_prompt_data.loc[each, 'user_top_movie_genres']}.\n",
    "Step 1: What features are most important to me when selecting movies (Summarize my preferences briefly)? \n",
    "Answer: \n",
    "\"\"\"\n",
    "\n",
    "def twoStepPrompt2(each, user_prompt_data, response1):\n",
    "    return f\"\"\"\n",
    "Candidate Set (candidate movies): {user_prompt_data.loc[each, 'candidate_movies']}.\n",
    "The movies I have rated highly (watched movies): {user_prompt_data.loc[each, 'user_top_movies']}.\n",
    "Their genres are: {user_prompt_data.loc[each, 'user_top_movie_genres']}.\n",
    "Step 1: What features are most important to me when selecting movies (Summarize my preferences briefly)? \n",
    "Answer: {response1.loc[each]}.\n",
    "Step 2: Can you recommend 10 movies from the Candidate Set similar to but not in the selected movies I've watched?\n",
    "Please use brackets around the movies you recommend and separate the titles by new lines so I can easily parse them.\n",
    "(Format Example: Here are the 10 movies recommended for you: [Midnight Cowboy (1969){new_line}Lost in Translation (2003){new_line}etc.])\n",
    "Answer: \n",
    "\"\"\""
   ]
  },
  {
   "cell_type": "code",
   "execution_count": 986,
   "metadata": {},
   "outputs": [],
   "source": [
    "prompt1 = pd.Series(user_prompt_data.index, index = user_prompt_data.index).apply(lambda x: twoStepPrompt1(x, user_prompt_data))"
   ]
  },
  {
   "cell_type": "code",
   "execution_count": 987,
   "metadata": {},
   "outputs": [],
   "source": [
    "response1 = prompt1.iloc[:num_users].apply(lambda x: client.chat.completions.create(\n",
    "    model=\"gpt-3.5-turbo\",\n",
    "        messages= [{ 'role':'user','content' : x}],\n",
    "        # temperature=0,\n",
    "        # max_tokens=512,\n",
    "        # top_p=1,\n",
    "        # frequency_penalty=0,\n",
    "        # presence_penalty=0,\n",
    "        ))"
   ]
  },
  {
   "cell_type": "code",
   "execution_count": 988,
   "metadata": {},
   "outputs": [
    {
     "data": {
      "text/plain": [
       "user_id\n",
       "1     ChatCompletion(id='chatcmpl-8UP7c52yKmuzfXZk5A...\n",
       "5     ChatCompletion(id='chatcmpl-8UP7eBvTQ3kjGeqlbb...\n",
       "6     ChatCompletion(id='chatcmpl-8UP7h6NpLH3g0TkHt3...\n",
       "8     ChatCompletion(id='chatcmpl-8UP7jedqwIt34K44U8...\n",
       "10    ChatCompletion(id='chatcmpl-8UP7kTrweQjtLywGRi...\n",
       "Name: user_id, dtype: object"
      ]
     },
     "execution_count": 988,
     "metadata": {},
     "output_type": "execute_result"
    }
   ],
   "source": [
    "response1.head()"
   ]
  },
  {
   "cell_type": "code",
   "execution_count": 989,
   "metadata": {},
   "outputs": [],
   "source": [
    "prompt2 = pd.Series(user_prompt_data.index, index = user_prompt_data.index).iloc[:num_users].apply(lambda x: twoStepPrompt2(x, user_prompt_data, response1))"
   ]
  },
  {
   "cell_type": "code",
   "execution_count": 990,
   "metadata": {},
   "outputs": [],
   "source": [
    "response2 = prompt2.apply(lambda x: client.chat.completions.create(\n",
    "    model=\"gpt-3.5-turbo\",\n",
    "        messages= [{ 'role':'user','content' : x}],\n",
    "        # temperature=0,\n",
    "        # max_tokens=512,\n",
    "        # top_p=1,\n",
    "        # frequency_penalty=0,\n",
    "        # presence_penalty=0,\n",
    "        ))"
   ]
  },
  {
   "cell_type": "code",
   "execution_count": 991,
   "metadata": {},
   "outputs": [],
   "source": [
    "twoStep_recommendations = response2.apply(lambda x: x.choices[0].message.content.split(\"[\")[-1].split(\"]\")[0].split(\"\\n\"))"
   ]
  },
  {
   "cell_type": "code",
   "execution_count": 992,
   "metadata": {},
   "outputs": [
    {
     "data": {
      "text/plain": [
       "user_id\n",
       "1     [Chasing Amy (1997), Raiders of the Lost Ark (...\n",
       "5     [Monty Python and the Holy Grail (1974), Princ...\n",
       "6     [Midnight Cowboy (1969), Lost in Translation (...\n",
       "8     [Blade Runner (1982), Empire Strikes Back, The...\n",
       "10    [Casablanca (1942), Wizard of Oz, The (1939), ...\n",
       "Name: user_id, dtype: object"
      ]
     },
     "execution_count": 992,
     "metadata": {},
     "output_type": "execute_result"
    }
   ],
   "source": [
    "twoStep_recommendations.head()"
   ]
  },
  {
   "cell_type": "code",
   "execution_count": 1054,
   "metadata": {},
   "outputs": [],
   "source": [
    "twoStep_hits = pd.concat((user_movies, user_movies_test, twoStep_recommendations), axis=1, keys = ['user_movies', 'user_movies_test', 'twoStep_recommendations']).dropna(subset = 'twoStep_recommendations').apply(lambda x: len(set(x.iloc[0]).union(x.iloc[1]).intersection(x.iloc[2])) if x.iloc[1] is not np.nan else len(set(x.iloc[0]).intersection(x.iloc[2])), axis = 1)"
   ]
  },
  {
   "cell_type": "code",
   "execution_count": 994,
   "metadata": {},
   "outputs": [
    {
     "data": {
      "text/plain": [
       "user_id\n",
       "1     0\n",
       "13    0\n",
       "14    0\n",
       "23    0\n",
       "dtype: int64"
      ]
     },
     "execution_count": 994,
     "metadata": {},
     "output_type": "execute_result"
    }
   ],
   "source": [
    "twoStep_hits.head()"
   ]
  },
  {
   "cell_type": "markdown",
   "metadata": {},
   "source": [
    "Prompt using wikipedia movie summaries"
   ]
  },
  {
   "cell_type": "code",
   "execution_count": 995,
   "metadata": {},
   "outputs": [
    {
     "data": {
      "text/html": [
       "<div>\n",
       "<style scoped>\n",
       "    .dataframe tbody tr th:only-of-type {\n",
       "        vertical-align: middle;\n",
       "    }\n",
       "\n",
       "    .dataframe tbody tr th {\n",
       "        vertical-align: top;\n",
       "    }\n",
       "\n",
       "    .dataframe thead th {\n",
       "        text-align: right;\n",
       "    }\n",
       "</style>\n",
       "<table border=\"1\" class=\"dataframe\">\n",
       "  <thead>\n",
       "    <tr style=\"text-align: right;\">\n",
       "      <th></th>\n",
       "      <th>movie_title</th>\n",
       "      <th>wiki_summary</th>\n",
       "    </tr>\n",
       "  </thead>\n",
       "  <tbody>\n",
       "    <tr>\n",
       "      <th>0</th>\n",
       "      <td>'Til There Was You (1997)</td>\n",
       "      <td>'Til There Was You is a 1997 American romantic...</td>\n",
       "    </tr>\n",
       "    <tr>\n",
       "      <th>1</th>\n",
       "      <td>1-900 (1994)</td>\n",
       "      <td>1-900 or 06 is a 1994 Dutch erotic romantic dr...</td>\n",
       "    </tr>\n",
       "    <tr>\n",
       "      <th>2</th>\n",
       "      <td>101 Dalmatians (1996)</td>\n",
       "      <td>101 Dalmatians is a 1996 American adventure co...</td>\n",
       "    </tr>\n",
       "    <tr>\n",
       "      <th>3</th>\n",
       "      <td>12 Angry Men (1957)</td>\n",
       "      <td>12 Angry Men is a 1957 American legal drama fi...</td>\n",
       "    </tr>\n",
       "    <tr>\n",
       "      <th>4</th>\n",
       "      <td>187 (1997)</td>\n",
       "      <td>One Eight Seven (also known as 187) is a 1997 ...</td>\n",
       "    </tr>\n",
       "  </tbody>\n",
       "</table>\n",
       "</div>"
      ],
      "text/plain": [
       "                 movie_title  \\\n",
       "0  'Til There Was You (1997)   \n",
       "1               1-900 (1994)   \n",
       "2      101 Dalmatians (1996)   \n",
       "3        12 Angry Men (1957)   \n",
       "4                 187 (1997)   \n",
       "\n",
       "                                        wiki_summary  \n",
       "0  'Til There Was You is a 1997 American romantic...  \n",
       "1  1-900 or 06 is a 1994 Dutch erotic romantic dr...  \n",
       "2  101 Dalmatians is a 1996 American adventure co...  \n",
       "3  12 Angry Men is a 1957 American legal drama fi...  \n",
       "4  One Eight Seven (also known as 187) is a 1997 ...  "
      ]
     },
     "execution_count": 995,
     "metadata": {},
     "output_type": "execute_result"
    }
   ],
   "source": [
    "movie_wiki = pd.read_csv('../data/movie_wiki.csv')\n",
    "movie_wiki.head()"
   ]
  },
  {
   "cell_type": "code",
   "execution_count": 996,
   "metadata": {},
   "outputs": [],
   "source": [
    "def wikiPrompt(each, user_prompt_data, movie_wiki, new_line = '\\n'):\n",
    "    return f\"\"\"\n",
    "Candidate Set (candidate movies): {user_prompt_data.loc[each, 'candidate_movies']}.\n",
    "The movies I have rated highly (watched movies): {user_prompt_data.loc[each, 'user_top_movies']}.\n",
    "Summary of the movies I have watched: {new_line.join([f\"{eachMovie}: {movie_wiki.loc[movie_wiki['movie_title'] == eachMovie, 'wiki_summary'].iloc[0]}\" for eachMovie in user_prompt_data.loc[1, 'user_top_movies']])}\n",
    "Can you recommend 10 movies from the Candidate Set similar to but not in the selected movies I've watched?.\n",
    "Please use brackets around the movies you recommend and separate the titles by new lines so I can easily parse them.\n",
    "(Format Example: Here are the 10 movies recommended for you: [Midnight Cowboy (1969){new_line}Lost in Translation (2003){new_line}etc.])\n",
    "Answer: \n",
    "\"\"\""
   ]
  },
  {
   "cell_type": "code",
   "execution_count": 997,
   "metadata": {},
   "outputs": [],
   "source": [
    "wiki_prompts = pd.Series(user_prompt_data.index, index = user_prompt_data.index).apply(lambda x: wikiPrompt(x, user_prompt_data, movie_wiki))"
   ]
  },
  {
   "cell_type": "code",
   "execution_count": 998,
   "metadata": {},
   "outputs": [
    {
     "data": {
      "text/plain": [
       "user_id\n",
       "1     \\nCandidate Set (candidate movies): ['Chasing ...\n",
       "5     \\nCandidate Set (candidate movies): ['Raiders ...\n",
       "6     \\nCandidate Set (candidate movies): ['Casablan...\n",
       "8     \\nCandidate Set (candidate movies): ['Blade Ru...\n",
       "10    \\nCandidate Set (candidate movies): ['Casablan...\n",
       "Name: user_id, dtype: object"
      ]
     },
     "execution_count": 998,
     "metadata": {},
     "output_type": "execute_result"
    }
   ],
   "source": [
    "wiki_prompts.head()"
   ]
  },
  {
   "cell_type": "code",
   "execution_count": 999,
   "metadata": {},
   "outputs": [],
   "source": [
    "wiki_response = wiki_prompts.iloc[:num_users].apply(lambda x: client.chat.completions.create(\n",
    "    model=\"gpt-3.5-turbo\",\n",
    "        messages= [{ 'role':'user','content' : x}],\n",
    "        # temperature=0,\n",
    "        # max_tokens=512,\n",
    "        # top_p=1,\n",
    "        # frequency_penalty=0,\n",
    "        # presence_penalty=0,\n",
    "        ))"
   ]
  },
  {
   "cell_type": "code",
   "execution_count": 1000,
   "metadata": {},
   "outputs": [],
   "source": [
    "wiki_recommendations = wiki_response.apply(lambda x: x.choices[0].message.content.split(\"[\")[-1].split(\"]\")[0].split(\"\\n\"))"
   ]
  },
  {
   "cell_type": "code",
   "execution_count": 1001,
   "metadata": {},
   "outputs": [
    {
     "data": {
      "text/plain": [
       "user_id\n",
       "1     [Chasing Amy (1997), Star Wars (1977), Raiders...\n",
       "5     [Monty Python and the Holy Grail (1974), Princ...\n",
       "6     [Shawshank Redemption, The (1994), African Que...\n",
       "8     [Blade Runner (1982), Empire Strikes Back, The...\n",
       "10    [Casablanca (1942), Wizard of Oz, The (1939), ...\n",
       "Name: user_id, dtype: object"
      ]
     },
     "execution_count": 1001,
     "metadata": {},
     "output_type": "execute_result"
    }
   ],
   "source": [
    "wiki_recommendations.head()"
   ]
  },
  {
   "cell_type": "code",
   "execution_count": 1052,
   "metadata": {},
   "outputs": [],
   "source": [
    "wiki_hits = pd.concat((user_movies, user_movies_test, wiki_recommendations), axis=1, keys = ['user_movies', 'user_movies_test', 'wiki_recommendations']).dropna(subset = 'wiki_recommendations').apply(lambda x: len(set(x.iloc[0]).union(x.iloc[1]).intersection(x.iloc[2])) if x.iloc[1] is not np.nan else len(set(x.iloc[0]).intersection(x.iloc[2])), axis = 1)"
   ]
  },
  {
   "cell_type": "markdown",
   "metadata": {},
   "source": [
    "Baseline Recommender: Recommend top 10 most popular movies to every user"
   ]
  },
  {
   "cell_type": "code",
   "execution_count": 1015,
   "metadata": {},
   "outputs": [],
   "source": [
    "viewings = train.groupby('movie_title').count().sort_values('user_id', ascending=False)"
   ]
  },
  {
   "cell_type": "code",
   "execution_count": 1016,
   "metadata": {},
   "outputs": [
    {
     "data": {
      "text/html": [
       "<div>\n",
       "<style scoped>\n",
       "    .dataframe tbody tr th:only-of-type {\n",
       "        vertical-align: middle;\n",
       "    }\n",
       "\n",
       "    .dataframe tbody tr th {\n",
       "        vertical-align: top;\n",
       "    }\n",
       "\n",
       "    .dataframe thead th {\n",
       "        text-align: right;\n",
       "    }\n",
       "</style>\n",
       "<table border=\"1\" class=\"dataframe\">\n",
       "  <thead>\n",
       "    <tr style=\"text-align: right;\">\n",
       "      <th></th>\n",
       "      <th>user_id</th>\n",
       "      <th>movie_id</th>\n",
       "      <th>rating</th>\n",
       "      <th>timestamp</th>\n",
       "      <th>genres</th>\n",
       "      <th>avg_rating</th>\n",
       "    </tr>\n",
       "    <tr>\n",
       "      <th>movie_title</th>\n",
       "      <th></th>\n",
       "      <th></th>\n",
       "      <th></th>\n",
       "      <th></th>\n",
       "      <th></th>\n",
       "      <th></th>\n",
       "    </tr>\n",
       "  </thead>\n",
       "  <tbody>\n",
       "    <tr>\n",
       "      <th>Star Wars (1977)</th>\n",
       "      <td>393</td>\n",
       "      <td>393</td>\n",
       "      <td>393</td>\n",
       "      <td>393</td>\n",
       "      <td>393</td>\n",
       "      <td>393</td>\n",
       "    </tr>\n",
       "    <tr>\n",
       "      <th>Fargo (1996)</th>\n",
       "      <td>355</td>\n",
       "      <td>355</td>\n",
       "      <td>355</td>\n",
       "      <td>355</td>\n",
       "      <td>355</td>\n",
       "      <td>355</td>\n",
       "    </tr>\n",
       "    <tr>\n",
       "      <th>Return of the Jedi (1983)</th>\n",
       "      <td>350</td>\n",
       "      <td>350</td>\n",
       "      <td>350</td>\n",
       "      <td>350</td>\n",
       "      <td>350</td>\n",
       "      <td>350</td>\n",
       "    </tr>\n",
       "    <tr>\n",
       "      <th>Liar Liar (1997)</th>\n",
       "      <td>317</td>\n",
       "      <td>317</td>\n",
       "      <td>317</td>\n",
       "      <td>317</td>\n",
       "      <td>317</td>\n",
       "      <td>317</td>\n",
       "    </tr>\n",
       "    <tr>\n",
       "      <th>Toy Story (1995)</th>\n",
       "      <td>315</td>\n",
       "      <td>315</td>\n",
       "      <td>315</td>\n",
       "      <td>315</td>\n",
       "      <td>315</td>\n",
       "      <td>315</td>\n",
       "    </tr>\n",
       "  </tbody>\n",
       "</table>\n",
       "</div>"
      ],
      "text/plain": [
       "                           user_id  movie_id  rating  timestamp  genres  \\\n",
       "movie_title                                                               \n",
       "Star Wars (1977)               393       393     393        393     393   \n",
       "Fargo (1996)                   355       355     355        355     355   \n",
       "Return of the Jedi (1983)      350       350     350        350     350   \n",
       "Liar Liar (1997)               317       317     317        317     317   \n",
       "Toy Story (1995)               315       315     315        315     315   \n",
       "\n",
       "                           avg_rating  \n",
       "movie_title                            \n",
       "Star Wars (1977)                  393  \n",
       "Fargo (1996)                      355  \n",
       "Return of the Jedi (1983)         350  \n",
       "Liar Liar (1997)                  317  \n",
       "Toy Story (1995)                  315  "
      ]
     },
     "execution_count": 1016,
     "metadata": {},
     "output_type": "execute_result"
    }
   ],
   "source": [
    "viewings.head()"
   ]
  },
  {
   "cell_type": "code",
   "execution_count": 1017,
   "metadata": {},
   "outputs": [
    {
     "data": {
      "text/plain": [
       "['Star Wars (1977)',\n",
       " 'Fargo (1996)',\n",
       " 'Return of the Jedi (1983)',\n",
       " 'Liar Liar (1997)',\n",
       " 'Toy Story (1995)',\n",
       " 'English Patient, The (1996)',\n",
       " 'Independence Day (ID4) (1996)',\n",
       " 'Contact (1997)',\n",
       " 'Scream (1996)',\n",
       " 'Raiders of the Lost Ark (1981)']"
      ]
     },
     "execution_count": 1017,
     "metadata": {},
     "output_type": "execute_result"
    }
   ],
   "source": [
    "top_10_movies = viewings.head(10).index.tolist()\n",
    "top_10_movies"
   ]
  },
  {
   "cell_type": "code",
   "execution_count": 1025,
   "metadata": {},
   "outputs": [],
   "source": [
    "baseline_hits = pd.concat((user_movies, user_movies_test), axis=1).dropna().iloc[:num_users].apply(lambda x: len(set(x.iloc[0]).union(x.iloc[1]).intersection(top_10_movies)), axis = 1)"
   ]
  },
  {
   "cell_type": "markdown",
   "metadata": {},
   "source": [
    "Comparison of Prompts"
   ]
  },
  {
   "cell_type": "code",
   "execution_count": 1061,
   "metadata": {},
   "outputs": [],
   "source": [
    "comparison = pd.concat((collab_hits, genre_hits, twoStep_hits, wiki_hits, baseline_hits), axis = 1, keys = ['collab_hits', 'genre_hits', 'twoStep_hits', 'wiki_hits', 'baseline_hits'])"
   ]
  },
  {
   "cell_type": "markdown",
   "metadata": {},
   "source": [
    "Below values are Hit Rate in % (i.e. 100 is 100%)"
   ]
  },
  {
   "cell_type": "code",
   "execution_count": 1062,
   "metadata": {},
   "outputs": [
    {
     "data": {
      "text/html": [
       "<div>\n",
       "<style scoped>\n",
       "    .dataframe tbody tr th:only-of-type {\n",
       "        vertical-align: middle;\n",
       "    }\n",
       "\n",
       "    .dataframe tbody tr th {\n",
       "        vertical-align: top;\n",
       "    }\n",
       "\n",
       "    .dataframe thead th {\n",
       "        text-align: right;\n",
       "    }\n",
       "</style>\n",
       "<table border=\"1\" class=\"dataframe\">\n",
       "  <thead>\n",
       "    <tr style=\"text-align: right;\">\n",
       "      <th></th>\n",
       "      <th>collab_hits</th>\n",
       "      <th>genre_hits</th>\n",
       "      <th>twoStep_hits</th>\n",
       "      <th>wiki_hits</th>\n",
       "      <th>baseline_hits</th>\n",
       "    </tr>\n",
       "  </thead>\n",
       "  <tbody>\n",
       "    <tr>\n",
       "      <th>mean</th>\n",
       "      <td>0.0</td>\n",
       "      <td>77.000000</td>\n",
       "      <td>59.500000</td>\n",
       "      <td>81.500000</td>\n",
       "      <td>65.000000</td>\n",
       "    </tr>\n",
       "    <tr>\n",
       "      <th>std</th>\n",
       "      <td>0.0</td>\n",
       "      <td>22.734162</td>\n",
       "      <td>37.902229</td>\n",
       "      <td>19.540781</td>\n",
       "      <td>20.900768</td>\n",
       "    </tr>\n",
       "    <tr>\n",
       "      <th>min</th>\n",
       "      <td>0.0</td>\n",
       "      <td>10.000000</td>\n",
       "      <td>0.000000</td>\n",
       "      <td>30.000000</td>\n",
       "      <td>20.000000</td>\n",
       "    </tr>\n",
       "    <tr>\n",
       "      <th>25%</th>\n",
       "      <td>0.0</td>\n",
       "      <td>67.500000</td>\n",
       "      <td>20.000000</td>\n",
       "      <td>70.000000</td>\n",
       "      <td>60.000000</td>\n",
       "    </tr>\n",
       "    <tr>\n",
       "      <th>50%</th>\n",
       "      <td>0.0</td>\n",
       "      <td>90.000000</td>\n",
       "      <td>75.000000</td>\n",
       "      <td>90.000000</td>\n",
       "      <td>70.000000</td>\n",
       "    </tr>\n",
       "    <tr>\n",
       "      <th>75%</th>\n",
       "      <td>0.0</td>\n",
       "      <td>90.000000</td>\n",
       "      <td>90.000000</td>\n",
       "      <td>100.000000</td>\n",
       "      <td>72.500000</td>\n",
       "    </tr>\n",
       "    <tr>\n",
       "      <th>max</th>\n",
       "      <td>0.0</td>\n",
       "      <td>100.000000</td>\n",
       "      <td>100.000000</td>\n",
       "      <td>100.000000</td>\n",
       "      <td>100.000000</td>\n",
       "    </tr>\n",
       "  </tbody>\n",
       "</table>\n",
       "</div>"
      ],
      "text/plain": [
       "      collab_hits  genre_hits  twoStep_hits   wiki_hits  baseline_hits\n",
       "mean          0.0   77.000000     59.500000   81.500000      65.000000\n",
       "std           0.0   22.734162     37.902229   19.540781      20.900768\n",
       "min           0.0   10.000000      0.000000   30.000000      20.000000\n",
       "25%           0.0   67.500000     20.000000   70.000000      60.000000\n",
       "50%           0.0   90.000000     75.000000   90.000000      70.000000\n",
       "75%           0.0   90.000000     90.000000  100.000000      72.500000\n",
       "max           0.0  100.000000    100.000000  100.000000     100.000000"
      ]
     },
     "execution_count": 1062,
     "metadata": {},
     "output_type": "execute_result"
    }
   ],
   "source": [
    "comparison.describe().iloc[1:] / 10 * 100"
   ]
  }
 ],
 "metadata": {
  "kernelspec": {
   "display_name": ".openai_env",
   "language": "python",
   "name": "python3"
  },
  "language_info": {
   "codemirror_mode": {
    "name": "ipython",
    "version": 3
   },
   "file_extension": ".py",
   "mimetype": "text/x-python",
   "name": "python",
   "nbconvert_exporter": "python",
   "pygments_lexer": "ipython3",
   "version": "3.10.6"
  }
 },
 "nbformat": 4,
 "nbformat_minor": 2
}
