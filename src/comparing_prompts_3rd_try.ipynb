{
 "cells": [
  {
   "cell_type": "markdown",
   "metadata": {},
   "source": [
    "This Notebook compares recommendations made by ChatGPT based on several prompts."
   ]
  },
  {
   "cell_type": "code",
   "execution_count": 1,
   "metadata": {},
   "outputs": [],
   "source": [
    "import pandas as pd"
   ]
  },
  {
   "cell_type": "code",
   "execution_count": 2,
   "metadata": {},
   "outputs": [],
   "source": [
    "from sklearn.metrics.pairwise import cosine_similarity\n",
    "import numpy as np"
   ]
  },
  {
   "cell_type": "markdown",
   "metadata": {},
   "source": [
    "### Building the Training Data"
   ]
  },
  {
   "cell_type": "code",
   "execution_count": 3,
   "metadata": {},
   "outputs": [],
   "source": [
    "train = pd.read_csv('../data/train.csv')"
   ]
  },
  {
   "cell_type": "code",
   "execution_count": 4,
   "metadata": {},
   "outputs": [
    {
     "data": {
      "text/html": [
       "<div>\n",
       "<style scoped>\n",
       "    .dataframe tbody tr th:only-of-type {\n",
       "        vertical-align: middle;\n",
       "    }\n",
       "\n",
       "    .dataframe tbody tr th {\n",
       "        vertical-align: top;\n",
       "    }\n",
       "\n",
       "    .dataframe thead th {\n",
       "        text-align: right;\n",
       "    }\n",
       "</style>\n",
       "<table border=\"1\" class=\"dataframe\">\n",
       "  <thead>\n",
       "    <tr style=\"text-align: right;\">\n",
       "      <th></th>\n",
       "      <th>user_id</th>\n",
       "      <th>movie_id</th>\n",
       "      <th>rating</th>\n",
       "      <th>timestamp</th>\n",
       "      <th>movie_title</th>\n",
       "      <th>genres</th>\n",
       "      <th>avg_rating</th>\n",
       "    </tr>\n",
       "  </thead>\n",
       "  <tbody>\n",
       "    <tr>\n",
       "      <th>0</th>\n",
       "      <td>259</td>\n",
       "      <td>255</td>\n",
       "      <td>4</td>\n",
       "      <td>874724710</td>\n",
       "      <td>My Best Friend's Wedding (1997)</td>\n",
       "      <td>Romance</td>\n",
       "      <td>4.0</td>\n",
       "    </tr>\n",
       "    <tr>\n",
       "      <th>1</th>\n",
       "      <td>259</td>\n",
       "      <td>286</td>\n",
       "      <td>4</td>\n",
       "      <td>874724727</td>\n",
       "      <td>English Patient, The (1996)</td>\n",
       "      <td>Romance, War</td>\n",
       "      <td>4.0</td>\n",
       "    </tr>\n",
       "    <tr>\n",
       "      <th>2</th>\n",
       "      <td>259</td>\n",
       "      <td>298</td>\n",
       "      <td>4</td>\n",
       "      <td>874724754</td>\n",
       "      <td>Face/Off (1997)</td>\n",
       "      <td>Action, Sci-Fi, Thriller</td>\n",
       "      <td>4.0</td>\n",
       "    </tr>\n",
       "    <tr>\n",
       "      <th>3</th>\n",
       "      <td>259</td>\n",
       "      <td>185</td>\n",
       "      <td>4</td>\n",
       "      <td>874724781</td>\n",
       "      <td>Psycho (1960)</td>\n",
       "      <td>Horror, Romance, Thriller</td>\n",
       "      <td>4.0</td>\n",
       "    </tr>\n",
       "    <tr>\n",
       "      <th>4</th>\n",
       "      <td>259</td>\n",
       "      <td>173</td>\n",
       "      <td>4</td>\n",
       "      <td>874724843</td>\n",
       "      <td>Princess Bride, The (1987)</td>\n",
       "      <td>Action, Adventure, Romance</td>\n",
       "      <td>4.0</td>\n",
       "    </tr>\n",
       "  </tbody>\n",
       "</table>\n",
       "</div>"
      ],
      "text/plain": [
       "   user_id  movie_id  rating  timestamp                      movie_title  \\\n",
       "0      259       255       4  874724710  My Best Friend's Wedding (1997)   \n",
       "1      259       286       4  874724727      English Patient, The (1996)   \n",
       "2      259       298       4  874724754                  Face/Off (1997)   \n",
       "3      259       185       4  874724781                    Psycho (1960)   \n",
       "4      259       173       4  874724843       Princess Bride, The (1987)   \n",
       "\n",
       "                       genres  avg_rating  \n",
       "0                     Romance         4.0  \n",
       "1                Romance, War         4.0  \n",
       "2    Action, Sci-Fi, Thriller         4.0  \n",
       "3   Horror, Romance, Thriller         4.0  \n",
       "4  Action, Adventure, Romance         4.0  "
      ]
     },
     "execution_count": 4,
     "metadata": {},
     "output_type": "execute_result"
    }
   ],
   "source": [
    "train.head()"
   ]
  },
  {
   "cell_type": "markdown",
   "metadata": {},
   "source": [
    "The movies each user has watched in the training data"
   ]
  },
  {
   "cell_type": "code",
   "execution_count": 5,
   "metadata": {},
   "outputs": [
    {
     "data": {
      "text/plain": [
       "user_id\n",
       "1     [Empire Strikes Back, The (1980), Monty Python...\n",
       "5     [unknown, Star Trek: First Contact (1996), Jac...\n",
       "6     [Kolya (1996), English Patient, The (1996), L....\n",
       "8     [Contact (1997), Liar Liar (1997), In & Out (1...\n",
       "10    [Full Monty, The (1997), L.A. Confidential (19...\n",
       "dtype: object"
      ]
     },
     "execution_count": 5,
     "metadata": {},
     "output_type": "execute_result"
    }
   ],
   "source": [
    "user_movies = train.groupby('user_id').apply(lambda x: x['movie_title'].tolist())\n",
    "user_movies.head()"
   ]
  },
  {
   "cell_type": "code",
   "execution_count": 6,
   "metadata": {},
   "outputs": [],
   "source": [
    "\"\"\" Number of users to run the recommender on\n",
    "    (Use a small sample for faster results)\n",
    "    If you want to run the recommender on all users, uncomment the last line\n",
    "\"\"\"\n",
    "# num_users = 5\n",
    "\n",
    "# Uncomment below to run on all users\n",
    "num_users = user_movies.shape[0]"
   ]
  },
  {
   "cell_type": "markdown",
   "metadata": {},
   "source": [
    "The most recent movies each user has watched."
   ]
  },
  {
   "cell_type": "code",
   "execution_count": 7,
   "metadata": {},
   "outputs": [
    {
     "data": {
      "text/plain": [
       "user_id\n",
       "1     [Dolores Claiborne (1994), French Twist (Gazon...\n",
       "5     [Radioland Murders (1994), Houseguest (1994), ...\n",
       "6     [Monty Python and the Holy Grail (1974), Bob R...\n",
       "8     [Star Trek: First Contact (1996), Jurassic Par...\n",
       "10    [To Wong Foo, Thanks for Everything! Julie New...\n",
       "dtype: object"
      ]
     },
     "execution_count": 7,
     "metadata": {},
     "output_type": "execute_result"
    }
   ],
   "source": [
    "def get_user_recent_movies(dataframe, n = 10):\n",
    "    return dataframe.groupby('user_id').apply(lambda x: x['movie_title'].tail(n).to_list())\n",
    "\n",
    "user_recent_movies = get_user_recent_movies(train)\n",
    "user_recent_movies.head()"
   ]
  },
  {
   "cell_type": "markdown",
   "metadata": {},
   "source": [
    "The movies each user rated highly."
   ]
  },
  {
   "cell_type": "code",
   "execution_count": 8,
   "metadata": {},
   "outputs": [
    {
     "data": {
      "text/plain": [
       "user_id\n",
       "1     [Empire Strikes Back, The (1980), Usual Suspec...\n",
       "5     [Wrong Trousers, The (1993), This Is Spinal Ta...\n",
       "6     [Down by Law (1986), Graduate, The (1967), Lon...\n",
       "8     [Contact (1997), Die Hard (1988), Braveheart (...\n",
       "10    [Amadeus (1984), Taxi Driver (1976), All About...\n",
       "dtype: object"
      ]
     },
     "execution_count": 8,
     "metadata": {},
     "output_type": "execute_result"
    }
   ],
   "source": [
    "def get_user_top_movies(dataframe, n = 10):\n",
    "    return dataframe.groupby('user_id').apply(lambda x: x.sort_values('rating', ascending=False).head(n)\\\n",
    "                                              ['movie_title'].to_list())\n",
    "\n",
    "user_top_movies = get_user_top_movies(train)\n",
    "user_top_movies.head()"
   ]
  },
  {
   "cell_type": "markdown",
   "metadata": {},
   "source": [
    "The genres of each movie."
   ]
  },
  {
   "cell_type": "code",
   "execution_count": 9,
   "metadata": {},
   "outputs": [
    {
     "data": {
      "text/plain": [
       "movie_title\n",
       "'Til There Was You (1997)     [Romance]\n",
       "1-900 (1994)                  [Romance]\n",
       "101 Dalmatians (1996)        [Children]\n",
       "12 Angry Men (1957)           [unknown]\n",
       "187 (1997)                    [unknown]\n",
       "dtype: object"
      ]
     },
     "execution_count": 9,
     "metadata": {},
     "output_type": "execute_result"
    }
   ],
   "source": [
    "movie_genres = train.groupby('movie_title').apply(lambda x: x['genres'].unique().tolist()).\\\n",
    "                                            apply(lambda x: x[0].split(\", \"))\n",
    "movie_genres.head()"
   ]
  },
  {
   "cell_type": "markdown",
   "metadata": {},
   "source": [
    "The genres for each users top rated movies"
   ]
  },
  {
   "cell_type": "code",
   "execution_count": 10,
   "metadata": {},
   "outputs": [
    {
     "data": {
      "text/plain": [
       "user_id\n",
       "1     [Action, Adventure, Romance, Sci-Fi, War, Thri...\n",
       "5     [Animation, Musical, unknown, Action, Adventur...\n",
       "6     [unknown, Romance, Mystery, Adventure, Sci-Fi,...\n",
       "8     [Sci-Fi, Action, Thriller, War, Adventure, unk...\n",
       "10    [Mystery, Thriller, unknown, War, Adventure, W...\n",
       "dtype: object"
      ]
     },
     "execution_count": 10,
     "metadata": {},
     "output_type": "execute_result"
    }
   ],
   "source": [
    "user_top_movie_genres = user_top_movies.apply(lambda x: pd.Series(movie_genres.loc[x].sum()).unique().tolist())\n",
    "user_top_movie_genres.head()"
   ]
  },
  {
   "cell_type": "markdown",
   "metadata": {},
   "source": [
    "The ratings provided by each user to every movie they watched in the training data."
   ]
  },
  {
   "cell_type": "code",
   "execution_count": 11,
   "metadata": {},
   "outputs": [
    {
     "data": {
      "text/html": [
       "<div>\n",
       "<style scoped>\n",
       "    .dataframe tbody tr th:only-of-type {\n",
       "        vertical-align: middle;\n",
       "    }\n",
       "\n",
       "    .dataframe tbody tr th {\n",
       "        vertical-align: top;\n",
       "    }\n",
       "\n",
       "    .dataframe thead th {\n",
       "        text-align: right;\n",
       "    }\n",
       "</style>\n",
       "<table border=\"1\" class=\"dataframe\">\n",
       "  <thead>\n",
       "    <tr style=\"text-align: right;\">\n",
       "      <th>movie_title</th>\n",
       "      <th>'Til There Was You (1997)</th>\n",
       "      <th>1-900 (1994)</th>\n",
       "      <th>101 Dalmatians (1996)</th>\n",
       "      <th>12 Angry Men (1957)</th>\n",
       "      <th>187 (1997)</th>\n",
       "      <th>2 Days in the Valley (1996)</th>\n",
       "      <th>20,000 Leagues Under the Sea (1954)</th>\n",
       "      <th>2001: A Space Odyssey (1968)</th>\n",
       "      <th>3 Ninjas: High Noon At Mega Mountain (1998)</th>\n",
       "      <th>39 Steps, The (1935)</th>\n",
       "      <th>...</th>\n",
       "      <th>Wrong Trousers, The (1993)</th>\n",
       "      <th>Wyatt Earp (1994)</th>\n",
       "      <th>Yankee Zulu (1994)</th>\n",
       "      <th>Year of the Horse (1997)</th>\n",
       "      <th>Young Frankenstein (1974)</th>\n",
       "      <th>Young Guns (1988)</th>\n",
       "      <th>Young Guns II (1990)</th>\n",
       "      <th>Young Poisoner's Handbook, The (1995)</th>\n",
       "      <th>Zeus and Roxanne (1997)</th>\n",
       "      <th>unknown</th>\n",
       "    </tr>\n",
       "    <tr>\n",
       "      <th>user_id</th>\n",
       "      <th></th>\n",
       "      <th></th>\n",
       "      <th></th>\n",
       "      <th></th>\n",
       "      <th></th>\n",
       "      <th></th>\n",
       "      <th></th>\n",
       "      <th></th>\n",
       "      <th></th>\n",
       "      <th></th>\n",
       "      <th></th>\n",
       "      <th></th>\n",
       "      <th></th>\n",
       "      <th></th>\n",
       "      <th></th>\n",
       "      <th></th>\n",
       "      <th></th>\n",
       "      <th></th>\n",
       "      <th></th>\n",
       "      <th></th>\n",
       "      <th></th>\n",
       "    </tr>\n",
       "  </thead>\n",
       "  <tbody>\n",
       "    <tr>\n",
       "      <th>1</th>\n",
       "      <td>0.0</td>\n",
       "      <td>0.0</td>\n",
       "      <td>2.0</td>\n",
       "      <td>5.0</td>\n",
       "      <td>0.0</td>\n",
       "      <td>0.0</td>\n",
       "      <td>3.0</td>\n",
       "      <td>4.0</td>\n",
       "      <td>0.0</td>\n",
       "      <td>0.0</td>\n",
       "      <td>...</td>\n",
       "      <td>5.0</td>\n",
       "      <td>0.0</td>\n",
       "      <td>0.0</td>\n",
       "      <td>0.0</td>\n",
       "      <td>5.0</td>\n",
       "      <td>3.0</td>\n",
       "      <td>0.0</td>\n",
       "      <td>0.0</td>\n",
       "      <td>0.0</td>\n",
       "      <td>4.0</td>\n",
       "    </tr>\n",
       "    <tr>\n",
       "      <th>5</th>\n",
       "      <td>0.0</td>\n",
       "      <td>0.0</td>\n",
       "      <td>2.0</td>\n",
       "      <td>0.0</td>\n",
       "      <td>0.0</td>\n",
       "      <td>0.0</td>\n",
       "      <td>0.0</td>\n",
       "      <td>4.0</td>\n",
       "      <td>0.0</td>\n",
       "      <td>0.0</td>\n",
       "      <td>...</td>\n",
       "      <td>5.0</td>\n",
       "      <td>0.0</td>\n",
       "      <td>0.0</td>\n",
       "      <td>0.0</td>\n",
       "      <td>4.0</td>\n",
       "      <td>0.0</td>\n",
       "      <td>0.0</td>\n",
       "      <td>0.0</td>\n",
       "      <td>0.0</td>\n",
       "      <td>4.0</td>\n",
       "    </tr>\n",
       "    <tr>\n",
       "      <th>6</th>\n",
       "      <td>0.0</td>\n",
       "      <td>0.0</td>\n",
       "      <td>0.0</td>\n",
       "      <td>4.0</td>\n",
       "      <td>0.0</td>\n",
       "      <td>0.0</td>\n",
       "      <td>0.0</td>\n",
       "      <td>5.0</td>\n",
       "      <td>0.0</td>\n",
       "      <td>0.0</td>\n",
       "      <td>...</td>\n",
       "      <td>4.0</td>\n",
       "      <td>0.0</td>\n",
       "      <td>0.0</td>\n",
       "      <td>0.0</td>\n",
       "      <td>4.0</td>\n",
       "      <td>0.0</td>\n",
       "      <td>0.0</td>\n",
       "      <td>0.0</td>\n",
       "      <td>0.0</td>\n",
       "      <td>0.0</td>\n",
       "    </tr>\n",
       "    <tr>\n",
       "      <th>8</th>\n",
       "      <td>0.0</td>\n",
       "      <td>0.0</td>\n",
       "      <td>0.0</td>\n",
       "      <td>0.0</td>\n",
       "      <td>0.0</td>\n",
       "      <td>0.0</td>\n",
       "      <td>0.0</td>\n",
       "      <td>0.0</td>\n",
       "      <td>0.0</td>\n",
       "      <td>0.0</td>\n",
       "      <td>...</td>\n",
       "      <td>0.0</td>\n",
       "      <td>0.0</td>\n",
       "      <td>0.0</td>\n",
       "      <td>0.0</td>\n",
       "      <td>0.0</td>\n",
       "      <td>0.0</td>\n",
       "      <td>0.0</td>\n",
       "      <td>0.0</td>\n",
       "      <td>0.0</td>\n",
       "      <td>0.0</td>\n",
       "    </tr>\n",
       "    <tr>\n",
       "      <th>10</th>\n",
       "      <td>0.0</td>\n",
       "      <td>0.0</td>\n",
       "      <td>0.0</td>\n",
       "      <td>5.0</td>\n",
       "      <td>0.0</td>\n",
       "      <td>0.0</td>\n",
       "      <td>0.0</td>\n",
       "      <td>5.0</td>\n",
       "      <td>0.0</td>\n",
       "      <td>4.0</td>\n",
       "      <td>...</td>\n",
       "      <td>0.0</td>\n",
       "      <td>0.0</td>\n",
       "      <td>0.0</td>\n",
       "      <td>0.0</td>\n",
       "      <td>0.0</td>\n",
       "      <td>0.0</td>\n",
       "      <td>0.0</td>\n",
       "      <td>0.0</td>\n",
       "      <td>0.0</td>\n",
       "      <td>0.0</td>\n",
       "    </tr>\n",
       "  </tbody>\n",
       "</table>\n",
       "<p>5 rows × 1549 columns</p>\n",
       "</div>"
      ],
      "text/plain": [
       "movie_title  'Til There Was You (1997)  1-900 (1994)  101 Dalmatians (1996)  \\\n",
       "user_id                                                                       \n",
       "1                                  0.0           0.0                    2.0   \n",
       "5                                  0.0           0.0                    2.0   \n",
       "6                                  0.0           0.0                    0.0   \n",
       "8                                  0.0           0.0                    0.0   \n",
       "10                                 0.0           0.0                    0.0   \n",
       "\n",
       "movie_title  12 Angry Men (1957)  187 (1997)  2 Days in the Valley (1996)  \\\n",
       "user_id                                                                     \n",
       "1                            5.0         0.0                          0.0   \n",
       "5                            0.0         0.0                          0.0   \n",
       "6                            4.0         0.0                          0.0   \n",
       "8                            0.0         0.0                          0.0   \n",
       "10                           5.0         0.0                          0.0   \n",
       "\n",
       "movie_title  20,000 Leagues Under the Sea (1954)  \\\n",
       "user_id                                            \n",
       "1                                            3.0   \n",
       "5                                            0.0   \n",
       "6                                            0.0   \n",
       "8                                            0.0   \n",
       "10                                           0.0   \n",
       "\n",
       "movie_title  2001: A Space Odyssey (1968)  \\\n",
       "user_id                                     \n",
       "1                                     4.0   \n",
       "5                                     4.0   \n",
       "6                                     5.0   \n",
       "8                                     0.0   \n",
       "10                                    5.0   \n",
       "\n",
       "movie_title  3 Ninjas: High Noon At Mega Mountain (1998)  \\\n",
       "user_id                                                    \n",
       "1                                                    0.0   \n",
       "5                                                    0.0   \n",
       "6                                                    0.0   \n",
       "8                                                    0.0   \n",
       "10                                                   0.0   \n",
       "\n",
       "movie_title  39 Steps, The (1935)  ...  Wrong Trousers, The (1993)  \\\n",
       "user_id                            ...                               \n",
       "1                             0.0  ...                         5.0   \n",
       "5                             0.0  ...                         5.0   \n",
       "6                             0.0  ...                         4.0   \n",
       "8                             0.0  ...                         0.0   \n",
       "10                            4.0  ...                         0.0   \n",
       "\n",
       "movie_title  Wyatt Earp (1994)  Yankee Zulu (1994)  Year of the Horse (1997)  \\\n",
       "user_id                                                                        \n",
       "1                          0.0                 0.0                       0.0   \n",
       "5                          0.0                 0.0                       0.0   \n",
       "6                          0.0                 0.0                       0.0   \n",
       "8                          0.0                 0.0                       0.0   \n",
       "10                         0.0                 0.0                       0.0   \n",
       "\n",
       "movie_title  Young Frankenstein (1974)  Young Guns (1988)  \\\n",
       "user_id                                                     \n",
       "1                                  5.0                3.0   \n",
       "5                                  4.0                0.0   \n",
       "6                                  4.0                0.0   \n",
       "8                                  0.0                0.0   \n",
       "10                                 0.0                0.0   \n",
       "\n",
       "movie_title  Young Guns II (1990)  Young Poisoner's Handbook, The (1995)  \\\n",
       "user_id                                                                    \n",
       "1                             0.0                                    0.0   \n",
       "5                             0.0                                    0.0   \n",
       "6                             0.0                                    0.0   \n",
       "8                             0.0                                    0.0   \n",
       "10                            0.0                                    0.0   \n",
       "\n",
       "movie_title  Zeus and Roxanne (1997)  unknown  \n",
       "user_id                                        \n",
       "1                                0.0      4.0  \n",
       "5                                0.0      4.0  \n",
       "6                                0.0      0.0  \n",
       "8                                0.0      0.0  \n",
       "10                               0.0      0.0  \n",
       "\n",
       "[5 rows x 1549 columns]"
      ]
     },
     "execution_count": 11,
     "metadata": {},
     "output_type": "execute_result"
    }
   ],
   "source": [
    "user_ratings = train.drop_duplicates(['user_id', 'movie_title']).pivot(index='user_id', columns='movie_title',\\\n",
    "                                                                        values='avg_rating').fillna(0)\n",
    "user_ratings.head()"
   ]
  },
  {
   "cell_type": "markdown",
   "metadata": {},
   "source": [
    "Identifying similar users based on cosine similarity"
   ]
  },
  {
   "cell_type": "code",
   "execution_count": 12,
   "metadata": {},
   "outputs": [],
   "source": [
    "from scipy.sparse import csr_matrix\n",
    "sparse_user_ratings = csr_matrix(user_ratings)"
   ]
  },
  {
   "cell_type": "code",
   "execution_count": 13,
   "metadata": {},
   "outputs": [],
   "source": [
    "def get_similar_users(sparse_user_ratings, index, n = 10):\n",
    "    df = pd.DataFrame(cosine_similarity(sparse_user_ratings) - np.identity(sparse_user_ratings.shape[0]), \\\n",
    "                        index = index, columns = index)\n",
    "    return df.apply(lambda x: list(x.sort_values(ascending = False).head(n).index), axis=1)\n",
    "    # return pd.DataFrame(cosine_similarity(sparse_user_ratings) - np.identity(sparse_user_ratings.shape[0]), \\\n",
    "    #                     index = index, columns = index).apply(lambda x: list(x.sort_values(ascending = False)\\\n",
    "    #                                                                          .head(n).index), axis=1)\n",
    "\n",
    "similar_users = get_similar_users(sparse_user_ratings, user_ratings.index)"
   ]
  },
  {
   "cell_type": "code",
   "execution_count": 14,
   "metadata": {},
   "outputs": [
    {
     "data": {
      "text/plain": [
       "user_id\n",
       "1     [916, 457, 268, 435, 429, 823, 301, 276, 889, ...\n",
       "5      [648, 407, 307, 497, 268, 276, 22, 622, 804, 70]\n",
       "6       [18, 194, 716, 10, 666, 151, 321, 85, 389, 854]\n",
       "8      [746, 158, 37, 352, 638, 425, 22, 627, 671, 538]\n",
       "10      [6, 406, 666, 389, 321, 398, 524, 716, 194, 18]\n",
       "dtype: object"
      ]
     },
     "execution_count": 14,
     "metadata": {},
     "output_type": "execute_result"
    }
   ],
   "source": [
    "similar_users.head()"
   ]
  },
  {
   "cell_type": "markdown",
   "metadata": {},
   "source": [
    "Identifying Candidate movies which are the movies each user's similar users rated most highly overall."
   ]
  },
  {
   "cell_type": "code",
   "execution_count": 15,
   "metadata": {},
   "outputs": [
    {
     "data": {
      "text/plain": [
       "user_id\n",
       "1     [Chasing Amy (1997), Star Wars (1977), Empire ...\n",
       "5     [Raiders of the Lost Ark (1981), Monty Python ...\n",
       "6     [Casablanca (1942), Wizard of Oz, The (1939), ...\n",
       "8     [Blade Runner (1982), Raiders of the Lost Ark ...\n",
       "10    [Casablanca (1942), Wizard of Oz, The (1939), ...\n",
       "dtype: object"
      ]
     },
     "execution_count": 15,
     "metadata": {},
     "output_type": "execute_result"
    }
   ],
   "source": [
    "def get_candidate_movies(similar_users, dataframe, n=20):\n",
    "    \"\"\"\n",
    "    This function gets the top-n candidate movies for each user based on the movies \n",
    "    rated by similar users.\n",
    "    \n",
    "    Parameters:\n",
    "    similar_users (Series): A pandas Series where each entry is a list of user_ids that \n",
    "                            are similar to a specific user.\n",
    "    dataframe (DataFrame): The pandas DataFrame containing user ratings with columns 'user_id', \n",
    "                           'movie_title', and 'rating'.\n",
    "    n (int): The number of top-rated movies to return for each user.\n",
    "    \n",
    "    Returns:\n",
    "    Series: A pandas Series where each entry is a list of n movie titles recommended for each user.\n",
    "    \"\"\"\n",
    "    # Define a helper function to get top-n movies for a single user\n",
    "    def get_top_movies(user_ids):\n",
    "        # Filter the dataframe for movies rated by similar users\n",
    "        filtered_movies = dataframe[dataframe['user_id'].isin(user_ids)]\n",
    "        # Group by movie title, sum the ratings, and get the top-n movies\n",
    "        top_movies = (\n",
    "            filtered_movies.groupby('movie_title')['rating']\n",
    "            .sum()\n",
    "            .sort_values(ascending=False)\n",
    "            .head(n)\n",
    "            .index\n",
    "            .tolist()\n",
    "        )\n",
    "        return top_movies\n",
    "\n",
    "    # Apply the helper function to each entry in similar_users\n",
    "    return similar_users.apply(get_top_movies)\n",
    "\n",
    "candidate_movies = get_candidate_movies(similar_users, train)\n",
    "candidate_movies.head()"
   ]
  },
  {
   "cell_type": "code",
   "execution_count": 16,
   "metadata": {},
   "outputs": [
    {
     "data": {
      "text/html": [
       "<div>\n",
       "<style scoped>\n",
       "    .dataframe tbody tr th:only-of-type {\n",
       "        vertical-align: middle;\n",
       "    }\n",
       "\n",
       "    .dataframe tbody tr th {\n",
       "        vertical-align: top;\n",
       "    }\n",
       "\n",
       "    .dataframe thead th {\n",
       "        text-align: right;\n",
       "    }\n",
       "</style>\n",
       "<table border=\"1\" class=\"dataframe\">\n",
       "  <thead>\n",
       "    <tr style=\"text-align: right;\">\n",
       "      <th></th>\n",
       "      <th>user_movies</th>\n",
       "      <th>user_top_movies</th>\n",
       "      <th>user_recent_movies</th>\n",
       "      <th>similar_users</th>\n",
       "      <th>candidate_movies</th>\n",
       "      <th>user_top_movie_genres</th>\n",
       "    </tr>\n",
       "    <tr>\n",
       "      <th>user_id</th>\n",
       "      <th></th>\n",
       "      <th></th>\n",
       "      <th></th>\n",
       "      <th></th>\n",
       "      <th></th>\n",
       "      <th></th>\n",
       "    </tr>\n",
       "  </thead>\n",
       "  <tbody>\n",
       "    <tr>\n",
       "      <th>1</th>\n",
       "      <td>[Empire Strikes Back, The (1980), Monty Python...</td>\n",
       "      <td>[Empire Strikes Back, The (1980), Usual Suspec...</td>\n",
       "      <td>[Dolores Claiborne (1994), French Twist (Gazon...</td>\n",
       "      <td>[916, 457, 268, 435, 429, 823, 301, 276, 889, ...</td>\n",
       "      <td>[Chasing Amy (1997), Star Wars (1977), Empire ...</td>\n",
       "      <td>[Action, Adventure, Romance, Sci-Fi, War, Thri...</td>\n",
       "    </tr>\n",
       "    <tr>\n",
       "      <th>5</th>\n",
       "      <td>[unknown, Star Trek: First Contact (1996), Jac...</td>\n",
       "      <td>[Wrong Trousers, The (1993), This Is Spinal Ta...</td>\n",
       "      <td>[Radioland Murders (1994), Houseguest (1994), ...</td>\n",
       "      <td>[648, 407, 307, 497, 268, 276, 22, 622, 804, 70]</td>\n",
       "      <td>[Raiders of the Lost Ark (1981), Monty Python ...</td>\n",
       "      <td>[Animation, Musical, unknown, Action, Adventur...</td>\n",
       "    </tr>\n",
       "    <tr>\n",
       "      <th>6</th>\n",
       "      <td>[Kolya (1996), English Patient, The (1996), L....</td>\n",
       "      <td>[Down by Law (1986), Graduate, The (1967), Lon...</td>\n",
       "      <td>[Monty Python and the Holy Grail (1974), Bob R...</td>\n",
       "      <td>[18, 194, 716, 10, 666, 151, 321, 85, 389, 854]</td>\n",
       "      <td>[Casablanca (1942), Wizard of Oz, The (1939), ...</td>\n",
       "      <td>[unknown, Romance, Mystery, Adventure, Sci-Fi,...</td>\n",
       "    </tr>\n",
       "    <tr>\n",
       "      <th>8</th>\n",
       "      <td>[Contact (1997), Liar Liar (1997), In &amp; Out (1...</td>\n",
       "      <td>[Contact (1997), Die Hard (1988), Braveheart (...</td>\n",
       "      <td>[Star Trek: First Contact (1996), Jurassic Par...</td>\n",
       "      <td>[746, 158, 37, 352, 638, 425, 22, 627, 671, 538]</td>\n",
       "      <td>[Blade Runner (1982), Raiders of the Lost Ark ...</td>\n",
       "      <td>[Sci-Fi, Action, Thriller, War, Adventure, unk...</td>\n",
       "    </tr>\n",
       "    <tr>\n",
       "      <th>10</th>\n",
       "      <td>[Full Monty, The (1997), L.A. Confidential (19...</td>\n",
       "      <td>[Amadeus (1984), Taxi Driver (1976), All About...</td>\n",
       "      <td>[To Wong Foo, Thanks for Everything! Julie New...</td>\n",
       "      <td>[6, 406, 666, 389, 321, 398, 524, 716, 194, 18]</td>\n",
       "      <td>[Casablanca (1942), Wizard of Oz, The (1939), ...</td>\n",
       "      <td>[Mystery, Thriller, unknown, War, Adventure, W...</td>\n",
       "    </tr>\n",
       "  </tbody>\n",
       "</table>\n",
       "</div>"
      ],
      "text/plain": [
       "                                               user_movies  \\\n",
       "user_id                                                      \n",
       "1        [Empire Strikes Back, The (1980), Monty Python...   \n",
       "5        [unknown, Star Trek: First Contact (1996), Jac...   \n",
       "6        [Kolya (1996), English Patient, The (1996), L....   \n",
       "8        [Contact (1997), Liar Liar (1997), In & Out (1...   \n",
       "10       [Full Monty, The (1997), L.A. Confidential (19...   \n",
       "\n",
       "                                           user_top_movies  \\\n",
       "user_id                                                      \n",
       "1        [Empire Strikes Back, The (1980), Usual Suspec...   \n",
       "5        [Wrong Trousers, The (1993), This Is Spinal Ta...   \n",
       "6        [Down by Law (1986), Graduate, The (1967), Lon...   \n",
       "8        [Contact (1997), Die Hard (1988), Braveheart (...   \n",
       "10       [Amadeus (1984), Taxi Driver (1976), All About...   \n",
       "\n",
       "                                        user_recent_movies  \\\n",
       "user_id                                                      \n",
       "1        [Dolores Claiborne (1994), French Twist (Gazon...   \n",
       "5        [Radioland Murders (1994), Houseguest (1994), ...   \n",
       "6        [Monty Python and the Holy Grail (1974), Bob R...   \n",
       "8        [Star Trek: First Contact (1996), Jurassic Par...   \n",
       "10       [To Wong Foo, Thanks for Everything! Julie New...   \n",
       "\n",
       "                                             similar_users  \\\n",
       "user_id                                                      \n",
       "1        [916, 457, 268, 435, 429, 823, 301, 276, 889, ...   \n",
       "5         [648, 407, 307, 497, 268, 276, 22, 622, 804, 70]   \n",
       "6          [18, 194, 716, 10, 666, 151, 321, 85, 389, 854]   \n",
       "8         [746, 158, 37, 352, 638, 425, 22, 627, 671, 538]   \n",
       "10         [6, 406, 666, 389, 321, 398, 524, 716, 194, 18]   \n",
       "\n",
       "                                          candidate_movies  \\\n",
       "user_id                                                      \n",
       "1        [Chasing Amy (1997), Star Wars (1977), Empire ...   \n",
       "5        [Raiders of the Lost Ark (1981), Monty Python ...   \n",
       "6        [Casablanca (1942), Wizard of Oz, The (1939), ...   \n",
       "8        [Blade Runner (1982), Raiders of the Lost Ark ...   \n",
       "10       [Casablanca (1942), Wizard of Oz, The (1939), ...   \n",
       "\n",
       "                                     user_top_movie_genres  \n",
       "user_id                                                     \n",
       "1        [Action, Adventure, Romance, Sci-Fi, War, Thri...  \n",
       "5        [Animation, Musical, unknown, Action, Adventur...  \n",
       "6        [unknown, Romance, Mystery, Adventure, Sci-Fi,...  \n",
       "8        [Sci-Fi, Action, Thriller, War, Adventure, unk...  \n",
       "10       [Mystery, Thriller, unknown, War, Adventure, W...  "
      ]
     },
     "execution_count": 16,
     "metadata": {},
     "output_type": "execute_result"
    }
   ],
   "source": [
    "user_prompt_data = pd.concat((user_movies, user_top_movies, user_recent_movies, \\\n",
    "                              similar_users, candidate_movies, user_top_movie_genres), \\\n",
    "                            axis = 1, \\\n",
    "                            keys = ['user_movies', 'user_top_movies', 'user_recent_movies', \\\n",
    "                                    'similar_users', 'candidate_movies', 'user_top_movie_genres'])\n",
    "user_prompt_data.head()"
   ]
  },
  {
   "cell_type": "markdown",
   "metadata": {},
   "source": [
    "### Prompt Engineering"
   ]
  },
  {
   "cell_type": "code",
   "execution_count": 17,
   "metadata": {},
   "outputs": [],
   "source": [
    "from openai import OpenAI\n",
    "from key import OPENAI_API_KEY\n",
    "client = OpenAI(api_key=OPENAI_API_KEY)"
   ]
  },
  {
   "cell_type": "markdown",
   "metadata": {},
   "source": [
    "Collaborative Filtering Prompt"
   ]
  },
  {
   "cell_type": "code",
   "execution_count": 18,
   "metadata": {},
   "outputs": [],
   "source": [
    "new_line = '\\n'\n",
    "\n",
    "def collabPrompt(each, user_prompt_data, new_line = '\\n'):\n",
    "    return f\"\"\"I am user {each}.\n",
    "The most recent ten movies I have seen are:\n",
    "{\", \".join(user_prompt_data.loc[each, 'user_recent_movies'])}.\n",
    "My top rated movies are:\n",
    "{\", \".join(user_prompt_data.loc[each, 'user_top_movies'])}.\n",
    "The users who are most like me are {\", \".join([str(each) for each in user_prompt_data.loc[each, 'similar_users']])}.\n",
    "The top movies for each of these users are:\n",
    "{new_line.join([f\"{each}: {', '.join(user_prompt_data.loc[each, 'user_top_movies'])}\" for each in user_prompt_data.loc[each, 'similar_users']])}.\n",
    "Please recommend ten movies for me to watch that I have not seen. \n",
    "Please use brackets around the movies you recommend and separate the titles by new lines so I can easily parse them.\n",
    "(Format Example: Here are the 10 movies recommended for you: [Midnight Cowboy (1969){new_line}Lost in Translation (2003){new_line}etc.]) \n",
    "Answer: \n",
    "\"\"\"   "
   ]
  },
  {
   "cell_type": "code",
   "execution_count": 19,
   "metadata": {},
   "outputs": [
    {
     "data": {
      "text/plain": [
       "user_id\n",
       "1     I am user 1.\\nThe most recent ten movies I hav...\n",
       "5     I am user 5.\\nThe most recent ten movies I hav...\n",
       "6     I am user 6.\\nThe most recent ten movies I hav...\n",
       "8     I am user 8.\\nThe most recent ten movies I hav...\n",
       "10    I am user 10.\\nThe most recent ten movies I ha...\n",
       "Name: user_id, dtype: object"
      ]
     },
     "execution_count": 19,
     "metadata": {},
     "output_type": "execute_result"
    }
   ],
   "source": [
    "collab_prompts = pd.Series(user_prompt_data.index, index = user_prompt_data.index).apply(lambda x: collabPrompt(x, user_prompt_data))\n",
    "collab_prompts.head()"
   ]
  },
  {
   "cell_type": "code",
   "execution_count": 20,
   "metadata": {},
   "outputs": [],
   "source": [
    "collab_response = collab_prompts.iloc[:num_users].apply(lambda x: client.chat.completions.create(\n",
    "    model=\"gpt-3.5-turbo\",\n",
    "        messages= [{ 'role':'user','content' : x}],\n",
    "        # temperature=0,\n",
    "        # max_tokens=512,\n",
    "        # top_p=1,\n",
    "        # frequency_penalty=0,\n",
    "        # presence_penalty=0,\n",
    "        ))"
   ]
  },
  {
   "cell_type": "code",
   "execution_count": 21,
   "metadata": {},
   "outputs": [],
   "source": [
    "collab_recommendations = collab_response.apply(lambda x: x.choices[0].message.content\\\n",
    "                                               .split(\"[\")[1].split(\"]\")[0].split(\"\\n\"))"
   ]
  },
  {
   "cell_type": "code",
   "execution_count": 22,
   "metadata": {},
   "outputs": [
    {
     "data": {
      "text/plain": [
       "user_id\n",
       "1        [Eternal Sunshine of the Spotless Mind (2004)]\n",
       "5     [Shawshank Redemption, The (1994), Forrest Gum...\n",
       "6     [Midnight Cowboy (1969), Lost in Translation (...\n",
       "8     [The Shawshank Redemption (1994), The Godfathe...\n",
       "10                          [A Clockwork Orange (1971)]\n",
       "Name: user_id, dtype: object"
      ]
     },
     "execution_count": 22,
     "metadata": {},
     "output_type": "execute_result"
    }
   ],
   "source": [
    "collab_recommendations.head()"
   ]
  },
  {
   "cell_type": "code",
   "execution_count": 23,
   "metadata": {},
   "outputs": [],
   "source": [
    "test = pd.read_csv('../data/test.csv')"
   ]
  },
  {
   "cell_type": "code",
   "execution_count": 24,
   "metadata": {},
   "outputs": [],
   "source": [
    "user_movies_test = test.groupby('user_id').apply(lambda x: x['movie_title'].tolist())"
   ]
  },
  {
   "cell_type": "code",
   "execution_count": 25,
   "metadata": {},
   "outputs": [],
   "source": [
    "collab_data = pd.concat(\n",
    "    [user_movies, user_movies_test, collab_recommendations], \n",
    "    axis=1, \n",
    "    keys=['user_movies', 'user_movies_test', 'collab_recommendations']\n",
    ")"
   ]
  },
  {
   "cell_type": "code",
   "execution_count": 26,
   "metadata": {},
   "outputs": [],
   "source": [
    "# Function to calculate hits\n",
    "def calculate_hits(row):\n",
    "    user_movies_set = set(row['user_movies'])\n",
    "    user_movies_test_set = set(row['user_movies_test']) if row['user_movies_test'] is not np.nan else set()\n",
    "    collab_recommendations_set = set(row.iloc[2])\n",
    "    \n",
    "    # Calculate the union of user_movies and user_movies_test, then find its intersection with collab_recommendations\n",
    "    return len(user_movies_set.union(user_movies_test_set).intersection(collab_recommendations_set))"
   ]
  },
  {
   "cell_type": "code",
   "execution_count": 27,
   "metadata": {},
   "outputs": [],
   "source": [
    "collab_hits = collab_data.dropna(subset='collab_recommendations').apply(calculate_hits, axis=1)"
   ]
  },
  {
   "cell_type": "markdown",
   "metadata": {},
   "source": [
    "Prompt Similar to Zero-Shot Paper (reduced to one prompt, added genres)"
   ]
  },
  {
   "cell_type": "code",
   "execution_count": 28,
   "metadata": {},
   "outputs": [],
   "source": [
    "def genrePrompts(each, user_prompt_data, new_line = '\\n'):\n",
    "    return f\"\"\"\n",
    "Candidate Set (candidate movies): {user_prompt_data.loc[each, 'candidate_movies']}.\n",
    "The movies I have rated highly (watched movies): {user_prompt_data.loc[each, 'user_top_movies']}.\n",
    "Their genres are: {user_prompt_data.loc[each, 'user_top_movie_genres']}.\n",
    "Can you recommend 10 movies from the Candidate Set similar to but not in the selected movies I've watched?.\n",
    "Please use brackets around the movies you recommend and separate the titles by new lines so I can easily parse them.\n",
    "(Format Example: Here are the 10 movies recommended for you: [Midnight Cowboy (1969){new_line}Lost in Translation (2003){new_line}etc.])\n",
    "Answer: \n",
    "\"\"\""
   ]
  },
  {
   "cell_type": "code",
   "execution_count": 29,
   "metadata": {},
   "outputs": [],
   "source": [
    "genre_prompts = pd.Series(user_prompt_data.index, index = user_prompt_data.index).apply(lambda x: genrePrompts(x, user_prompt_data))"
   ]
  },
  {
   "cell_type": "code",
   "execution_count": 30,
   "metadata": {},
   "outputs": [
    {
     "data": {
      "text/plain": [
       "user_id\n",
       "1     \\nCandidate Set (candidate movies): ['Chasing ...\n",
       "5     \\nCandidate Set (candidate movies): ['Raiders ...\n",
       "6     \\nCandidate Set (candidate movies): ['Casablan...\n",
       "8     \\nCandidate Set (candidate movies): ['Blade Ru...\n",
       "10    \\nCandidate Set (candidate movies): ['Casablan...\n",
       "Name: user_id, dtype: object"
      ]
     },
     "execution_count": 30,
     "metadata": {},
     "output_type": "execute_result"
    }
   ],
   "source": [
    "genre_prompts.head()"
   ]
  },
  {
   "cell_type": "code",
   "execution_count": 31,
   "metadata": {},
   "outputs": [],
   "source": [
    "genre_response = genre_prompts.iloc[:num_users].apply(lambda x: client.chat.completions.create(\n",
    "    model=\"gpt-3.5-turbo\",\n",
    "        messages= [{ 'role':'user','content' : x}],\n",
    "        # temperature=0,\n",
    "        # max_tokens=512,\n",
    "        # top_p=1,\n",
    "        # frequency_penalty=0,\n",
    "        # presence_penalty=0,\n",
    "        ))"
   ]
  },
  {
   "cell_type": "code",
   "execution_count": null,
   "metadata": {},
   "outputs": [],
   "source": [
    "genre_recommendations = genre_response.apply(lambda x: x.choices[0].message.content.split(\"[\")[-1].split(\"]\")[0].split(\"\\n\"))"
   ]
  },
  {
   "cell_type": "code",
   "execution_count": null,
   "metadata": {},
   "outputs": [
    {
     "data": {
      "text/plain": [
       "user_id\n",
       "1     [Chasing Amy (1997), Raiders of the Lost Ark (...\n",
       "5     [Monty Python and the Holy Grail (1974), Princ...\n",
       "6     [Raiders of the Lost Ark (1981), Star Wars (19...\n",
       "8     [Blade Runner (1982), Empire Strikes Back, The...\n",
       "10    [Wizard of Oz, The (1939), African Queen, The ...\n",
       "Name: user_id, dtype: object"
      ]
     },
     "execution_count": 41,
     "metadata": {},
     "output_type": "execute_result"
    }
   ],
   "source": [
    "genre_recommendations.head()"
   ]
  },
  {
   "cell_type": "code",
   "execution_count": null,
   "metadata": {},
   "outputs": [],
   "source": [
    "genre_data = pd.concat(\n",
    "    [user_movies, user_movies_test, genre_recommendations], \n",
    "    axis=1, \n",
    "    keys=['user_movies', 'user_movies_test', 'genre_recommendations']\n",
    ")"
   ]
  },
  {
   "cell_type": "code",
   "execution_count": null,
   "metadata": {},
   "outputs": [],
   "source": [
    "genre_hits = genre_data.dropna(subset='genre_recommendations').apply(calculate_hits, axis=1)"
   ]
  },
  {
   "cell_type": "markdown",
   "metadata": {},
   "source": [
    "Prompt Similar to Zero-Shot Paper (uses two prompts, adds genres)"
   ]
  },
  {
   "cell_type": "code",
   "execution_count": null,
   "metadata": {},
   "outputs": [],
   "source": [
    "def twoStepPrompt1(each, user_prompt_data):\n",
    "    return f\"\"\"\n",
    "Candidate Set (candidate movies): {user_prompt_data.loc[each, 'candidate_movies']}.\n",
    "The movies I have rated highly (watched movies): {user_prompt_data.loc[each, 'user_top_movies']}.\n",
    "Their genres are: {user_prompt_data.loc[each, 'user_top_movie_genres']}.\n",
    "Step 1: What features are most important to me when selecting movies (Summarize my preferences briefly)? \n",
    "Answer: \n",
    "\"\"\"\n",
    "\n",
    "def twoStepPrompt2(each, user_prompt_data, response1):\n",
    "    return f\"\"\"\n",
    "Candidate Set (candidate movies): {user_prompt_data.loc[each, 'candidate_movies']}.\n",
    "The movies I have rated highly (watched movies): {user_prompt_data.loc[each, 'user_top_movies']}.\n",
    "Their genres are: {user_prompt_data.loc[each, 'user_top_movie_genres']}.\n",
    "Step 1: What features are most important to me when selecting movies (Summarize my preferences briefly)? \n",
    "Answer: {response1.loc[each]}.\n",
    "Step 2: Can you recommend 10 movies from the Candidate Set similar to but not in the selected movies I've watched?\n",
    "Please use brackets around the movies you recommend and separate the titles by new lines so I can easily parse them.\n",
    "(Format Example: Here are the 10 movies recommended for you: [Midnight Cowboy (1969){new_line}Lost in Translation (2003){new_line}etc.])\n",
    "Answer: \n",
    "\"\"\""
   ]
  },
  {
   "cell_type": "code",
   "execution_count": null,
   "metadata": {},
   "outputs": [],
   "source": [
    "prompt1 = pd.Series(user_prompt_data.index, index = user_prompt_data.index).apply(lambda x: twoStepPrompt1(x, user_prompt_data))"
   ]
  },
  {
   "cell_type": "code",
   "execution_count": null,
   "metadata": {},
   "outputs": [],
   "source": [
    "response1 = prompt1.iloc[:num_users].apply(lambda x: client.chat.completions.create(\n",
    "    model=\"gpt-3.5-turbo\",\n",
    "        messages= [{ 'role':'user','content' : x}],\n",
    "        # temperature=0,\n",
    "        # max_tokens=512,\n",
    "        # top_p=1,\n",
    "        # frequency_penalty=0,\n",
    "        # presence_penalty=0,\n",
    "        ))"
   ]
  },
  {
   "cell_type": "code",
   "execution_count": null,
   "metadata": {},
   "outputs": [
    {
     "data": {
      "text/plain": [
       "user_id\n",
       "1     ChatCompletion(id='chatcmpl-8UggmzDWTfxLrmBGqf...\n",
       "5     ChatCompletion(id='chatcmpl-8UggoE4vq2jGPbny9p...\n",
       "6     ChatCompletion(id='chatcmpl-8UggrQP6RIPVzbTATv...\n",
       "8     ChatCompletion(id='chatcmpl-8Uggtm4Qjx5mgwT3PZ...\n",
       "10    ChatCompletion(id='chatcmpl-8Uggxkqz62MENUliHR...\n",
       "Name: user_id, dtype: object"
      ]
     },
     "execution_count": 58,
     "metadata": {},
     "output_type": "execute_result"
    }
   ],
   "source": [
    "response1.head()"
   ]
  },
  {
   "cell_type": "code",
   "execution_count": null,
   "metadata": {},
   "outputs": [],
   "source": [
    "prompt2 = pd.Series(user_prompt_data.index, index = user_prompt_data.index).iloc[:num_users].apply(lambda x: twoStepPrompt2(x, user_prompt_data, response1))"
   ]
  },
  {
   "cell_type": "code",
   "execution_count": null,
   "metadata": {},
   "outputs": [],
   "source": [
    "response2 = prompt2.apply(lambda x: client.chat.completions.create(\n",
    "    model=\"gpt-3.5-turbo\",\n",
    "        messages= [{ 'role':'user','content' : x}],\n",
    "        # temperature=0,\n",
    "        # max_tokens=512,\n",
    "        # top_p=1,\n",
    "        # frequency_penalty=0,\n",
    "        # presence_penalty=0,\n",
    "        ))"
   ]
  },
  {
   "cell_type": "code",
   "execution_count": null,
   "metadata": {},
   "outputs": [],
   "source": [
    "twoStep_recommendations = response2.apply(lambda x: x.choices[0].message.content.split(\"[\")[-1].split(\"]\")[0].split(\"\\n\"))"
   ]
  },
  {
   "cell_type": "code",
   "execution_count": null,
   "metadata": {},
   "outputs": [
    {
     "data": {
      "text/plain": [
       "user_id\n",
       "1     [Chasing Amy (1997), Raiders of the Lost Ark (...\n",
       "5     [Monty Python and the Holy Grail (1974), Princ...\n",
       "6     [Raiders of the Lost Ark (1981), Shawshank Red...\n",
       "8     [Blade Runner (1982), Empire Strikes Back, The...\n",
       "10    [Casablanca (1942), Wizard of Oz, The (1939), ...\n",
       "Name: user_id, dtype: object"
      ]
     },
     "execution_count": 62,
     "metadata": {},
     "output_type": "execute_result"
    }
   ],
   "source": [
    "twoStep_recommendations.head()"
   ]
  },
  {
   "cell_type": "code",
   "execution_count": null,
   "metadata": {},
   "outputs": [],
   "source": [
    "twoStep_data = pd.concat(\n",
    "    [user_movies, user_movies_test, twoStep_recommendations], \n",
    "    axis=1, \n",
    "    keys=['user_movies', 'user_movies_test', 'twoStep_recommendations']\n",
    ")"
   ]
  },
  {
   "cell_type": "code",
   "execution_count": null,
   "metadata": {},
   "outputs": [],
   "source": [
    "twoStep_hits = twoStep_data.dropna(subset='twoStep_recommendations').apply(calculate_hits, axis=1)"
   ]
  },
  {
   "cell_type": "markdown",
   "metadata": {},
   "source": [
    "Prompt using wikipedia movie summaries"
   ]
  },
  {
   "cell_type": "code",
   "execution_count": null,
   "metadata": {},
   "outputs": [
    {
     "data": {
      "text/html": [
       "<div>\n",
       "<style scoped>\n",
       "    .dataframe tbody tr th:only-of-type {\n",
       "        vertical-align: middle;\n",
       "    }\n",
       "\n",
       "    .dataframe tbody tr th {\n",
       "        vertical-align: top;\n",
       "    }\n",
       "\n",
       "    .dataframe thead th {\n",
       "        text-align: right;\n",
       "    }\n",
       "</style>\n",
       "<table border=\"1\" class=\"dataframe\">\n",
       "  <thead>\n",
       "    <tr style=\"text-align: right;\">\n",
       "      <th></th>\n",
       "      <th>movie_title</th>\n",
       "      <th>wiki_summary</th>\n",
       "    </tr>\n",
       "  </thead>\n",
       "  <tbody>\n",
       "    <tr>\n",
       "      <th>0</th>\n",
       "      <td>'Til There Was You (1997)</td>\n",
       "      <td>'Til There Was You is a 1997 American romantic...</td>\n",
       "    </tr>\n",
       "    <tr>\n",
       "      <th>1</th>\n",
       "      <td>1-900 (1994)</td>\n",
       "      <td>1-900 or 06 is a 1994 Dutch erotic romantic dr...</td>\n",
       "    </tr>\n",
       "    <tr>\n",
       "      <th>2</th>\n",
       "      <td>101 Dalmatians (1996)</td>\n",
       "      <td>101 Dalmatians is a 1996 American adventure co...</td>\n",
       "    </tr>\n",
       "    <tr>\n",
       "      <th>3</th>\n",
       "      <td>12 Angry Men (1957)</td>\n",
       "      <td>12 Angry Men is a 1957 American legal drama fi...</td>\n",
       "    </tr>\n",
       "    <tr>\n",
       "      <th>4</th>\n",
       "      <td>187 (1997)</td>\n",
       "      <td>One Eight Seven (also known as 187) is a 1997 ...</td>\n",
       "    </tr>\n",
       "  </tbody>\n",
       "</table>\n",
       "</div>"
      ],
      "text/plain": [
       "                 movie_title  \\\n",
       "0  'Til There Was You (1997)   \n",
       "1               1-900 (1994)   \n",
       "2      101 Dalmatians (1996)   \n",
       "3        12 Angry Men (1957)   \n",
       "4                 187 (1997)   \n",
       "\n",
       "                                        wiki_summary  \n",
       "0  'Til There Was You is a 1997 American romantic...  \n",
       "1  1-900 or 06 is a 1994 Dutch erotic romantic dr...  \n",
       "2  101 Dalmatians is a 1996 American adventure co...  \n",
       "3  12 Angry Men is a 1957 American legal drama fi...  \n",
       "4  One Eight Seven (also known as 187) is a 1997 ...  "
      ]
     },
     "execution_count": 69,
     "metadata": {},
     "output_type": "execute_result"
    }
   ],
   "source": [
    "movie_wiki = pd.read_csv('../data/movie_wiki.csv')\n",
    "movie_wiki.head()"
   ]
  },
  {
   "cell_type": "code",
   "execution_count": null,
   "metadata": {},
   "outputs": [],
   "source": [
    "def wikiPrompt(each, user_prompt_data, movie_wiki, new_line = '\\n'):\n",
    "    return f\"\"\"\n",
    "Candidate Set (candidate movies): {user_prompt_data.loc[each, 'candidate_movies']}.\n",
    "The movies I have rated highly (watched movies): {user_prompt_data.loc[each, 'user_top_movies']}.\n",
    "Summary of the movies I have watched: {new_line.join([f\"{eachMovie}: {movie_wiki.loc[movie_wiki['movie_title'] == eachMovie, 'wiki_summary'].iloc[0]}\" for eachMovie in user_prompt_data.loc[1, 'user_top_movies']])}\n",
    "Can you recommend 10 movies from the Candidate Set similar to but not in the selected movies I've watched?.\n",
    "Please use brackets around the movies you recommend and separate the titles by new lines so I can easily parse them.\n",
    "(Format Example: Here are the 10 movies recommended for you: [Midnight Cowboy (1969){new_line}Lost in Translation (2003){new_line}etc.])\n",
    "Answer: \n",
    "\"\"\""
   ]
  },
  {
   "cell_type": "code",
   "execution_count": null,
   "metadata": {},
   "outputs": [],
   "source": [
    "wiki_prompts = pd.Series(user_prompt_data.index, index = user_prompt_data.index).apply(lambda x: wikiPrompt(x, user_prompt_data, movie_wiki))"
   ]
  },
  {
   "cell_type": "code",
   "execution_count": null,
   "metadata": {},
   "outputs": [
    {
     "data": {
      "text/plain": [
       "user_id\n",
       "1     \\nCandidate Set (candidate movies): ['Chasing ...\n",
       "5     \\nCandidate Set (candidate movies): ['Raiders ...\n",
       "6     \\nCandidate Set (candidate movies): ['Casablan...\n",
       "8     \\nCandidate Set (candidate movies): ['Blade Ru...\n",
       "10    \\nCandidate Set (candidate movies): ['Casablan...\n",
       "Name: user_id, dtype: object"
      ]
     },
     "execution_count": 72,
     "metadata": {},
     "output_type": "execute_result"
    }
   ],
   "source": [
    "wiki_prompts.head()"
   ]
  },
  {
   "cell_type": "code",
   "execution_count": null,
   "metadata": {},
   "outputs": [],
   "source": [
    "wiki_response = wiki_prompts.iloc[:num_users].apply(lambda x: client.chat.completions.create(\n",
    "    model=\"gpt-3.5-turbo\",\n",
    "        messages= [{ 'role':'user','content' : x}],\n",
    "        # temperature=0,\n",
    "        # max_tokens=512,\n",
    "        # top_p=1,\n",
    "        # frequency_penalty=0,\n",
    "        # presence_penalty=0,\n",
    "        ))"
   ]
  },
  {
   "cell_type": "code",
   "execution_count": null,
   "metadata": {},
   "outputs": [],
   "source": [
    "wiki_recommendations = wiki_response.apply(lambda x: x.choices[0].message.content.split(\"[\")[-1].split(\"]\")[0].split(\"\\n\"))"
   ]
  },
  {
   "cell_type": "code",
   "execution_count": null,
   "metadata": {},
   "outputs": [
    {
     "data": {
      "text/plain": [
       "user_id\n",
       "1     [Chasing Amy (1997), Raiders of the Lost Ark (...\n",
       "5     [Monty Python and the Holy Grail (1974), Princ...\n",
       "6     [Shawshank Redemption, The (1994), African Que...\n",
       "8     [Empire Strikes Back, The (1980), Terminator 2...\n",
       "10    [Citizen Kane (1941), Casablanca (1942), Wizar...\n",
       "Name: user_id, dtype: object"
      ]
     },
     "execution_count": 75,
     "metadata": {},
     "output_type": "execute_result"
    }
   ],
   "source": [
    "wiki_recommendations.head()"
   ]
  },
  {
   "cell_type": "code",
   "execution_count": null,
   "metadata": {},
   "outputs": [],
   "source": [
    "wiki_data = pd.concat(\n",
    "    [user_movies, user_movies_test, wiki_recommendations], \n",
    "    axis=1, \n",
    "    keys=['user_movies', 'user_movies_test', 'wiki_recommendations']\n",
    ")"
   ]
  },
  {
   "cell_type": "code",
   "execution_count": null,
   "metadata": {},
   "outputs": [],
   "source": [
    "wiki_hits = wiki_data.dropna(subset='wiki_recommendations').apply(calculate_hits, axis=1)"
   ]
  },
  {
   "cell_type": "markdown",
   "metadata": {},
   "source": [
    "Baseline Recommender: Recommend top 10 most popular movies to every user"
   ]
  },
  {
   "cell_type": "code",
   "execution_count": null,
   "metadata": {},
   "outputs": [],
   "source": [
    "viewings = train.groupby('movie_title').count().sort_values('user_id', ascending=False)"
   ]
  },
  {
   "cell_type": "code",
   "execution_count": null,
   "metadata": {},
   "outputs": [
    {
     "data": {
      "text/html": [
       "<div>\n",
       "<style scoped>\n",
       "    .dataframe tbody tr th:only-of-type {\n",
       "        vertical-align: middle;\n",
       "    }\n",
       "\n",
       "    .dataframe tbody tr th {\n",
       "        vertical-align: top;\n",
       "    }\n",
       "\n",
       "    .dataframe thead th {\n",
       "        text-align: right;\n",
       "    }\n",
       "</style>\n",
       "<table border=\"1\" class=\"dataframe\">\n",
       "  <thead>\n",
       "    <tr style=\"text-align: right;\">\n",
       "      <th></th>\n",
       "      <th>user_id</th>\n",
       "      <th>movie_id</th>\n",
       "      <th>rating</th>\n",
       "      <th>timestamp</th>\n",
       "      <th>genres</th>\n",
       "      <th>avg_rating</th>\n",
       "    </tr>\n",
       "    <tr>\n",
       "      <th>movie_title</th>\n",
       "      <th></th>\n",
       "      <th></th>\n",
       "      <th></th>\n",
       "      <th></th>\n",
       "      <th></th>\n",
       "      <th></th>\n",
       "    </tr>\n",
       "  </thead>\n",
       "  <tbody>\n",
       "    <tr>\n",
       "      <th>Star Wars (1977)</th>\n",
       "      <td>393</td>\n",
       "      <td>393</td>\n",
       "      <td>393</td>\n",
       "      <td>393</td>\n",
       "      <td>393</td>\n",
       "      <td>393</td>\n",
       "    </tr>\n",
       "    <tr>\n",
       "      <th>Fargo (1996)</th>\n",
       "      <td>355</td>\n",
       "      <td>355</td>\n",
       "      <td>355</td>\n",
       "      <td>355</td>\n",
       "      <td>355</td>\n",
       "      <td>355</td>\n",
       "    </tr>\n",
       "    <tr>\n",
       "      <th>Return of the Jedi (1983)</th>\n",
       "      <td>350</td>\n",
       "      <td>350</td>\n",
       "      <td>350</td>\n",
       "      <td>350</td>\n",
       "      <td>350</td>\n",
       "      <td>350</td>\n",
       "    </tr>\n",
       "    <tr>\n",
       "      <th>Liar Liar (1997)</th>\n",
       "      <td>317</td>\n",
       "      <td>317</td>\n",
       "      <td>317</td>\n",
       "      <td>317</td>\n",
       "      <td>317</td>\n",
       "      <td>317</td>\n",
       "    </tr>\n",
       "    <tr>\n",
       "      <th>Toy Story (1995)</th>\n",
       "      <td>315</td>\n",
       "      <td>315</td>\n",
       "      <td>315</td>\n",
       "      <td>315</td>\n",
       "      <td>315</td>\n",
       "      <td>315</td>\n",
       "    </tr>\n",
       "  </tbody>\n",
       "</table>\n",
       "</div>"
      ],
      "text/plain": [
       "                           user_id  movie_id  rating  timestamp  genres  \\\n",
       "movie_title                                                               \n",
       "Star Wars (1977)               393       393     393        393     393   \n",
       "Fargo (1996)                   355       355     355        355     355   \n",
       "Return of the Jedi (1983)      350       350     350        350     350   \n",
       "Liar Liar (1997)               317       317     317        317     317   \n",
       "Toy Story (1995)               315       315     315        315     315   \n",
       "\n",
       "                           avg_rating  \n",
       "movie_title                            \n",
       "Star Wars (1977)                  393  \n",
       "Fargo (1996)                      355  \n",
       "Return of the Jedi (1983)         350  \n",
       "Liar Liar (1997)                  317  \n",
       "Toy Story (1995)                  315  "
      ]
     },
     "execution_count": 82,
     "metadata": {},
     "output_type": "execute_result"
    }
   ],
   "source": [
    "viewings.head()"
   ]
  },
  {
   "cell_type": "code",
   "execution_count": null,
   "metadata": {},
   "outputs": [
    {
     "data": {
      "text/plain": [
       "['Star Wars (1977)',\n",
       " 'Fargo (1996)',\n",
       " 'Return of the Jedi (1983)',\n",
       " 'Liar Liar (1997)',\n",
       " 'Toy Story (1995)',\n",
       " 'English Patient, The (1996)',\n",
       " 'Independence Day (ID4) (1996)',\n",
       " 'Contact (1997)',\n",
       " 'Scream (1996)',\n",
       " 'Raiders of the Lost Ark (1981)']"
      ]
     },
     "execution_count": 83,
     "metadata": {},
     "output_type": "execute_result"
    }
   ],
   "source": [
    "top_10_movies = viewings.head(10).index.tolist()\n",
    "top_10_movies"
   ]
  },
  {
   "cell_type": "code",
   "execution_count": null,
   "metadata": {},
   "outputs": [],
   "source": [
    "baseline_data = pd.concat((user_movies, user_movies_test), axis=1).dropna().iloc[:num_users]\n",
    "baseline_hits = baseline_data.apply(lambda x: len(set(x.iloc[0]).union(x.iloc[1]).intersection(top_10_movies)), axis = 1)"
   ]
  },
  {
   "cell_type": "markdown",
   "metadata": {},
   "source": [
    "Comparison of Prompts"
   ]
  },
  {
   "cell_type": "code",
   "execution_count": null,
   "metadata": {},
   "outputs": [],
   "source": [
    "comparison = pd.concat((collab_hits, genre_hits, twoStep_hits, wiki_hits, baseline_hits), axis = 1, keys = ['collab_hits', 'genre_hits', 'twoStep_hits', 'wiki_hits', 'baseline_hits'])"
   ]
  },
  {
   "cell_type": "markdown",
   "metadata": {},
   "source": [
    "Below values are Hit Rate in % (i.e. 100 is 100%)"
   ]
  },
  {
   "cell_type": "code",
   "execution_count": null,
   "metadata": {},
   "outputs": [
    {
     "data": {
      "text/html": [
       "<div>\n",
       "<style scoped>\n",
       "    .dataframe tbody tr th:only-of-type {\n",
       "        vertical-align: middle;\n",
       "    }\n",
       "\n",
       "    .dataframe tbody tr th {\n",
       "        vertical-align: top;\n",
       "    }\n",
       "\n",
       "    .dataframe thead th {\n",
       "        text-align: right;\n",
       "    }\n",
       "</style>\n",
       "<table border=\"1\" class=\"dataframe\">\n",
       "  <thead>\n",
       "    <tr style=\"text-align: right;\">\n",
       "      <th></th>\n",
       "      <th>collab_hits</th>\n",
       "      <th>genre_hits</th>\n",
       "      <th>twoStep_hits</th>\n",
       "      <th>wiki_hits</th>\n",
       "      <th>baseline_hits</th>\n",
       "    </tr>\n",
       "  </thead>\n",
       "  <tbody>\n",
       "    <tr>\n",
       "      <th>mean</th>\n",
       "      <td>5.265700</td>\n",
       "      <td>69.259259</td>\n",
       "      <td>66.553945</td>\n",
       "      <td>68.196457</td>\n",
       "      <td>67.744361</td>\n",
       "    </tr>\n",
       "    <tr>\n",
       "      <th>std</th>\n",
       "      <td>8.879222</td>\n",
       "      <td>25.446315</td>\n",
       "      <td>28.517834</td>\n",
       "      <td>26.802143</td>\n",
       "      <td>23.277527</td>\n",
       "    </tr>\n",
       "    <tr>\n",
       "      <th>min</th>\n",
       "      <td>0.000000</td>\n",
       "      <td>0.000000</td>\n",
       "      <td>0.000000</td>\n",
       "      <td>0.000000</td>\n",
       "      <td>0.000000</td>\n",
       "    </tr>\n",
       "    <tr>\n",
       "      <th>25%</th>\n",
       "      <td>0.000000</td>\n",
       "      <td>50.000000</td>\n",
       "      <td>50.000000</td>\n",
       "      <td>50.000000</td>\n",
       "      <td>50.000000</td>\n",
       "    </tr>\n",
       "    <tr>\n",
       "      <th>50%</th>\n",
       "      <td>0.000000</td>\n",
       "      <td>70.000000</td>\n",
       "      <td>70.000000</td>\n",
       "      <td>70.000000</td>\n",
       "      <td>70.000000</td>\n",
       "    </tr>\n",
       "    <tr>\n",
       "      <th>75%</th>\n",
       "      <td>10.000000</td>\n",
       "      <td>90.000000</td>\n",
       "      <td>90.000000</td>\n",
       "      <td>90.000000</td>\n",
       "      <td>90.000000</td>\n",
       "    </tr>\n",
       "    <tr>\n",
       "      <th>max</th>\n",
       "      <td>80.000000</td>\n",
       "      <td>100.000000</td>\n",
       "      <td>100.000000</td>\n",
       "      <td>100.000000</td>\n",
       "      <td>100.000000</td>\n",
       "    </tr>\n",
       "  </tbody>\n",
       "</table>\n",
       "</div>"
      ],
      "text/plain": [
       "      collab_hits  genre_hits  twoStep_hits   wiki_hits  baseline_hits\n",
       "mean     5.265700   69.259259     66.553945   68.196457      67.744361\n",
       "std      8.879222   25.446315     28.517834   26.802143      23.277527\n",
       "min      0.000000    0.000000      0.000000    0.000000       0.000000\n",
       "25%      0.000000   50.000000     50.000000   50.000000      50.000000\n",
       "50%      0.000000   70.000000     70.000000   70.000000      70.000000\n",
       "75%     10.000000   90.000000     90.000000   90.000000      90.000000\n",
       "max     80.000000  100.000000    100.000000  100.000000     100.000000"
      ]
     },
     "execution_count": 110,
     "metadata": {},
     "output_type": "execute_result"
    }
   ],
   "source": [
    "comparison.describe().iloc[1:] / 10 * 100"
   ]
  },
  {
   "cell_type": "code",
   "execution_count": null,
   "metadata": {},
   "outputs": [],
   "source": []
  }
 ],
 "metadata": {
  "kernelspec": {
   "display_name": ".openai_env",
   "language": "python",
   "name": "python3"
  },
  "language_info": {
   "codemirror_mode": {
    "name": "ipython",
    "version": 3
   },
   "file_extension": ".py",
   "mimetype": "text/x-python",
   "name": "python",
   "nbconvert_exporter": "python",
   "pygments_lexer": "ipython3",
   "version": "3.10.13"
  }
 },
 "nbformat": 4,
 "nbformat_minor": 2
}
